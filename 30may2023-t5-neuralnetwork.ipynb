{
 "cells": [
  {
   "cell_type": "markdown",
   "id": "8cfc6026",
   "metadata": {
    "papermill": {
     "duration": 0.010579,
     "end_time": "2023-06-01T01:53:13.116244",
     "exception": false,
     "start_time": "2023-06-01T01:53:13.105665",
     "status": "completed"
    },
    "tags": []
   },
   "source": [
    "## Erdos Project - CAFA5\n",
    "### AIM: Produce notebook that takes the T5 embeddings and uses a simple neural net to generate predictions of protein function.\n",
    "\n",
    "30 May 2023\n",
    "\n",
    "References:\n",
    "\n",
    "https://www.kaggle.com/code/alexandervc/baseline-multilabel-to-multitarget-binary#Prepare-Train-Test-split\n",
    "\n",
    "https://www.kaggle.com/code/gusthema/cafa-5-protein-function-with-tensorflow"
   ]
  },
  {
   "cell_type": "markdown",
   "id": "2436636a",
   "metadata": {
    "papermill": {
     "duration": 0.009921,
     "end_time": "2023-06-01T01:53:13.136638",
     "exception": false,
     "start_time": "2023-06-01T01:53:13.126717",
     "status": "completed"
    },
    "tags": []
   },
   "source": [
    "## Notebook Outline\n",
    "\n",
    "The embedding encodes information about the relationships between proteins based upon their sequences (no human labeling was involved in the generation of the embeddings). The T5 embedding contains 1024 numerical features for each of 142246 proteins, whereas the original set of protein sequences contains sequential categorical data (amino acid chains) of varying lengths (100s to 1000s).\n",
    "\n",
    "### Steps\n",
    "0. Import packages and load input data.\n",
    "\n",
    "1. Load the training data from the CAFA5 dataset (train_terms.tsv). Convert these data to a multi-one-hot encoded Labels array (\"Y\"), using the protein instances from the T5 embedding (rows = protein instances; columns = functional labels).\n",
    "\n",
    "2. Load the T5 embedding (t5embeds/train_embeds.npy) as features (\"X\").\n",
    "\n",
    "3. Run a neural network model trained on the features (X) and labels (Y).\n",
    "\n"
   ]
  },
  {
   "cell_type": "markdown",
   "id": "6ec36731",
   "metadata": {
    "papermill": {
     "duration": 0.010043,
     "end_time": "2023-06-01T01:53:13.157792",
     "exception": false,
     "start_time": "2023-06-01T01:53:13.147749",
     "status": "completed"
    },
    "tags": []
   },
   "source": [
    "# 0. Import packages and input data "
   ]
  },
  {
   "cell_type": "code",
   "execution_count": 1,
   "id": "4d439ebe",
   "metadata": {
    "execution": {
     "iopub.execute_input": "2023-06-01T01:53:13.180706Z",
     "iopub.status.busy": "2023-06-01T01:53:13.180207Z",
     "iopub.status.idle": "2023-06-01T01:54:06.995023Z",
     "shell.execute_reply": "2023-06-01T01:54:06.993978Z"
    },
    "papermill": {
     "duration": 53.830238,
     "end_time": "2023-06-01T01:54:06.998269",
     "exception": false,
     "start_time": "2023-06-01T01:53:13.168031",
     "status": "completed"
    },
    "tags": []
   },
   "outputs": [
    {
     "name": "stdout",
     "output_type": "stream",
     "text": [
      "Collecting tf-nightly\r\n",
      "  Downloading tf_nightly-2.14.0.dev20230531-cp310-cp310-manylinux_2_17_x86_64.manylinux2014_x86_64.whl (488.6 MB)\r\n",
      "\u001b[2K     \u001b[90m━━━━━━━━━━━━━━━━━━━━━━━━━━━━━━━━━━━━━━━\u001b[0m \u001b[32m488.6/488.6 MB\u001b[0m \u001b[31m2.3 MB/s\u001b[0m eta \u001b[36m0:00:00\u001b[0m\r\n",
      "\u001b[?25hRequirement already satisfied: absl-py>=1.0.0 in /opt/conda/lib/python3.10/site-packages (from tf-nightly) (1.4.0)\r\n",
      "Requirement already satisfied: astunparse>=1.6.0 in /opt/conda/lib/python3.10/site-packages (from tf-nightly) (1.6.3)\r\n",
      "Collecting flatbuffers>=23.5.8 (from tf-nightly)\r\n",
      "  Downloading flatbuffers-23.5.26-py2.py3-none-any.whl (26 kB)\r\n",
      "Requirement already satisfied: gast<=0.4.0,>=0.2.1 in /opt/conda/lib/python3.10/site-packages (from tf-nightly) (0.4.0)\r\n",
      "Requirement already satisfied: google-pasta>=0.1.1 in /opt/conda/lib/python3.10/site-packages (from tf-nightly) (0.2.0)\r\n",
      "Requirement already satisfied: grpcio<2.0,>=1.24.3 in /opt/conda/lib/python3.10/site-packages (from tf-nightly) (1.51.3)\r\n",
      "Requirement already satisfied: h5py>=2.9.0 in /opt/conda/lib/python3.10/site-packages (from tf-nightly) (3.8.0)\r\n",
      "Collecting keras-nightly~=2.14.0.dev (from tf-nightly)\r\n",
      "  Downloading keras_nightly-2.14.0.dev2023053107-py3-none-any.whl (1.7 MB)\r\n",
      "\u001b[2K     \u001b[90m━━━━━━━━━━━━━━━━━━━━━━━━━━━━━━━━━━━━━━━━\u001b[0m \u001b[32m1.7/1.7 MB\u001b[0m \u001b[31m64.0 MB/s\u001b[0m eta \u001b[36m0:00:00\u001b[0m\r\n",
      "\u001b[?25hRequirement already satisfied: libclang>=13.0.0 in /opt/conda/lib/python3.10/site-packages (from tf-nightly) (16.0.0)\r\n",
      "Requirement already satisfied: numpy>=1.22 in /opt/conda/lib/python3.10/site-packages (from tf-nightly) (1.23.5)\r\n",
      "Requirement already satisfied: opt-einsum>=2.3.2 in /opt/conda/lib/python3.10/site-packages (from tf-nightly) (3.3.0)\r\n",
      "Requirement already satisfied: packaging in /opt/conda/lib/python3.10/site-packages (from tf-nightly) (21.3)\r\n",
      "Requirement already satisfied: protobuf!=4.21.0,!=4.21.1,!=4.21.2,!=4.21.3,!=4.21.4,!=4.21.5,<5.0.0dev,>=3.20.3 in /opt/conda/lib/python3.10/site-packages (from tf-nightly) (3.20.3)\r\n",
      "Requirement already satisfied: setuptools in /opt/conda/lib/python3.10/site-packages (from tf-nightly) (59.8.0)\r\n",
      "Requirement already satisfied: six>=1.12.0 in /opt/conda/lib/python3.10/site-packages (from tf-nightly) (1.16.0)\r\n",
      "Collecting tb-nightly~=2.14.0.a (from tf-nightly)\r\n",
      "  Downloading tb_nightly-2.14.0a20230531-py3-none-any.whl (5.6 MB)\r\n",
      "\u001b[2K     \u001b[90m━━━━━━━━━━━━━━━━━━━━━━━━━━━━━━━━━━━━━━━━\u001b[0m \u001b[32m5.6/5.6 MB\u001b[0m \u001b[31m3.2 MB/s\u001b[0m eta \u001b[36m0:00:00\u001b[0m\r\n",
      "\u001b[?25hRequirement already satisfied: termcolor>=1.1.0 in /opt/conda/lib/python3.10/site-packages (from tf-nightly) (2.3.0)\r\n",
      "Collecting tf-estimator-nightly~=2.14.0.dev (from tf-nightly)\r\n",
      "  Downloading tf_estimator_nightly-2.14.0.dev2023053108-py2.py3-none-any.whl (440 kB)\r\n",
      "\u001b[2K     \u001b[90m━━━━━━━━━━━━━━━━━━━━━━━━━━━━━━━━━━━━━━\u001b[0m \u001b[32m441.0/441.0 kB\u001b[0m \u001b[31m29.6 MB/s\u001b[0m eta \u001b[36m0:00:00\u001b[0m\r\n",
      "\u001b[?25hRequirement already satisfied: typing-extensions<4.6.0,>=3.6.6 in /opt/conda/lib/python3.10/site-packages (from tf-nightly) (4.5.0)\r\n",
      "Requirement already satisfied: wrapt>=1.11.0 in /opt/conda/lib/python3.10/site-packages (from tf-nightly) (1.14.1)\r\n",
      "Requirement already satisfied: tensorflow-io-gcs-filesystem>=0.23.1 in /opt/conda/lib/python3.10/site-packages (from tf-nightly) (0.31.0)\r\n",
      "Requirement already satisfied: wheel<1.0,>=0.23.0 in /opt/conda/lib/python3.10/site-packages (from astunparse>=1.6.0->tf-nightly) (0.40.0)\r\n",
      "Requirement already satisfied: google-auth<3,>=1.6.3 in /opt/conda/lib/python3.10/site-packages (from tb-nightly~=2.14.0.a->tf-nightly) (2.17.3)\r\n",
      "Requirement already satisfied: google-auth-oauthlib<1.1,>=0.5 in /opt/conda/lib/python3.10/site-packages (from tb-nightly~=2.14.0.a->tf-nightly) (1.0.0)\r\n",
      "Requirement already satisfied: markdown>=2.6.8 in /opt/conda/lib/python3.10/site-packages (from tb-nightly~=2.14.0.a->tf-nightly) (3.4.3)\r\n",
      "Requirement already satisfied: requests<3,>=2.21.0 in /opt/conda/lib/python3.10/site-packages (from tb-nightly~=2.14.0.a->tf-nightly) (2.28.2)\r\n",
      "Requirement already satisfied: tensorboard-data-server<0.8.0,>=0.7.0 in /opt/conda/lib/python3.10/site-packages (from tb-nightly~=2.14.0.a->tf-nightly) (0.7.0)\r\n",
      "Requirement already satisfied: werkzeug>=1.0.1 in /opt/conda/lib/python3.10/site-packages (from tb-nightly~=2.14.0.a->tf-nightly) (2.3.4)\r\n",
      "Requirement already satisfied: pyparsing!=3.0.5,>=2.0.2 in /opt/conda/lib/python3.10/site-packages (from packaging->tf-nightly) (3.0.9)\r\n",
      "Requirement already satisfied: cachetools<6.0,>=2.0.0 in /opt/conda/lib/python3.10/site-packages (from google-auth<3,>=1.6.3->tb-nightly~=2.14.0.a->tf-nightly) (4.2.4)\r\n",
      "Requirement already satisfied: pyasn1-modules>=0.2.1 in /opt/conda/lib/python3.10/site-packages (from google-auth<3,>=1.6.3->tb-nightly~=2.14.0.a->tf-nightly) (0.2.7)\r\n",
      "Requirement already satisfied: rsa<5,>=3.1.4 in /opt/conda/lib/python3.10/site-packages (from google-auth<3,>=1.6.3->tb-nightly~=2.14.0.a->tf-nightly) (4.9)\r\n",
      "Requirement already satisfied: requests-oauthlib>=0.7.0 in /opt/conda/lib/python3.10/site-packages (from google-auth-oauthlib<1.1,>=0.5->tb-nightly~=2.14.0.a->tf-nightly) (1.3.1)\r\n",
      "Requirement already satisfied: charset-normalizer<4,>=2 in /opt/conda/lib/python3.10/site-packages (from requests<3,>=2.21.0->tb-nightly~=2.14.0.a->tf-nightly) (2.1.1)\r\n",
      "Requirement already satisfied: idna<4,>=2.5 in /opt/conda/lib/python3.10/site-packages (from requests<3,>=2.21.0->tb-nightly~=2.14.0.a->tf-nightly) (3.4)\r\n",
      "Requirement already satisfied: urllib3<1.27,>=1.21.1 in /opt/conda/lib/python3.10/site-packages (from requests<3,>=2.21.0->tb-nightly~=2.14.0.a->tf-nightly) (1.26.15)\r\n",
      "Requirement already satisfied: certifi>=2017.4.17 in /opt/conda/lib/python3.10/site-packages (from requests<3,>=2.21.0->tb-nightly~=2.14.0.a->tf-nightly) (2023.5.7)\r\n",
      "Requirement already satisfied: MarkupSafe>=2.1.1 in /opt/conda/lib/python3.10/site-packages (from werkzeug>=1.0.1->tb-nightly~=2.14.0.a->tf-nightly) (2.1.2)\r\n",
      "Requirement already satisfied: pyasn1<0.5.0,>=0.4.6 in /opt/conda/lib/python3.10/site-packages (from pyasn1-modules>=0.2.1->google-auth<3,>=1.6.3->tb-nightly~=2.14.0.a->tf-nightly) (0.4.8)\r\n",
      "Requirement already satisfied: oauthlib>=3.0.0 in /opt/conda/lib/python3.10/site-packages (from requests-oauthlib>=0.7.0->google-auth-oauthlib<1.1,>=0.5->tb-nightly~=2.14.0.a->tf-nightly) (3.2.2)\r\n",
      "Installing collected packages: flatbuffers, tf-estimator-nightly, keras-nightly, tb-nightly, tf-nightly\r\n",
      "  Attempting uninstall: flatbuffers\r\n",
      "    Found existing installation: flatbuffers 23.3.3\r\n",
      "    Uninstalling flatbuffers-23.3.3:\r\n",
      "      Successfully uninstalled flatbuffers-23.3.3\r\n",
      "Successfully installed flatbuffers-23.5.26 keras-nightly-2.14.0.dev2023053107 tb-nightly-2.14.0a20230531 tf-estimator-nightly-2.14.0.dev2023053108 tf-nightly-2.14.0.dev20230531\r\n",
      "\u001b[33mWARNING: Running pip as the 'root' user can result in broken permissions and conflicting behaviour with the system package manager. It is recommended to use a virtual environment instead: https://pip.pypa.io/warnings/venv\u001b[0m\u001b[33m\r\n",
      "\u001b[0m"
     ]
    }
   ],
   "source": [
    "# install tf-nightly in order to use F1-score metric\n",
    "!pip install tf-nightly"
   ]
  },
  {
   "cell_type": "code",
   "execution_count": 2,
   "id": "4f7261ec",
   "metadata": {
    "_cell_guid": "b1076dfc-b9ad-4769-8c92-a6c4dae69d19",
    "_uuid": "8f2839f25d086af736a60e9eeb907d3b93b6e0e5",
    "execution": {
     "iopub.execute_input": "2023-06-01T01:54:07.049023Z",
     "iopub.status.busy": "2023-06-01T01:54:07.048572Z",
     "iopub.status.idle": "2023-06-01T01:54:12.800682Z",
     "shell.execute_reply": "2023-06-01T01:54:12.799066Z"
    },
    "papermill": {
     "duration": 5.780277,
     "end_time": "2023-06-01T01:54:12.803080",
     "exception": false,
     "start_time": "2023-06-01T01:54:07.022803",
     "status": "completed"
    },
    "tags": []
   },
   "outputs": [
    {
     "name": "stderr",
     "output_type": "stream",
     "text": [
      "2023-06-01 01:54:07.344560: E tensorflow/compiler/xla/stream_executor/cuda/cuda_dnn.cc:7704] Unable to register cuDNN factory: Attempting to register factory for plugin cuDNN when one has already been registered\n",
      "2023-06-01 01:54:07.344637: E tensorflow/compiler/xla/stream_executor/cuda/cuda_fft.cc:609] Unable to register cuFFT factory: Attempting to register factory for plugin cuFFT when one has already been registered\n",
      "2023-06-01 01:54:07.344658: E tensorflow/compiler/xla/stream_executor/cuda/cuda_blas.cc:1520] Unable to register cuBLAS factory: Attempting to register factory for plugin cuBLAS when one has already been registered\n"
     ]
    },
    {
     "name": "stdout",
     "output_type": "stream",
     "text": [
      "/kaggle/input/t5embeds/train_ids.npy\n",
      "/kaggle/input/t5embeds/test_embeds.npy\n",
      "/kaggle/input/t5embeds/train_embeds.npy\n",
      "/kaggle/input/t5embeds/test_ids.npy\n",
      "/kaggle/input/cafa-5-protein-function-prediction/sample_submission.tsv\n",
      "/kaggle/input/cafa-5-protein-function-prediction/IA.txt\n",
      "/kaggle/input/cafa-5-protein-function-prediction/Test (Targets)/testsuperset.fasta\n",
      "/kaggle/input/cafa-5-protein-function-prediction/Test (Targets)/testsuperset-taxon-list.tsv\n",
      "/kaggle/input/cafa-5-protein-function-prediction/Train/train_terms.tsv\n",
      "/kaggle/input/cafa-5-protein-function-prediction/Train/train_sequences.fasta\n",
      "/kaggle/input/cafa-5-protein-function-prediction/Train/train_taxonomy.tsv\n",
      "/kaggle/input/cafa-5-protein-function-prediction/Train/go-basic.obo\n",
      "TensorFlow v2.14.0-dev20230531\n",
      "Numpy v1.23.5\n"
     ]
    }
   ],
   "source": [
    "# This Python 3 environment comes with many helpful analytics libraries installed\n",
    "# It is defined by the kaggle/python Docker image: https://github.com/kaggle/docker-python\n",
    "# For example, here's several helpful packages to load\n",
    "\n",
    "import numpy as np # linear algebra\n",
    "import pandas as pd # data processing, CSV file I/O (e.g. pd.read_csv)\n",
    "import tensorflow as tf # neural net modeling\n",
    "import seaborn as sns # pretty graphing\n",
    "import matplotlib.pyplot as plt # graphing\n",
    "import progressbar # Required for progressbar widget\n",
    "\n",
    "# Input data files are available in the read-only \"../input/\" directory\n",
    "# For example, running this (by clicking run or pressing Shift+Enter) will list all files under the input directory\n",
    "\n",
    "import os\n",
    "for dirname, _, filenames in os.walk('/kaggle/input'):\n",
    "    for filename in filenames:\n",
    "        print(os.path.join(dirname, filename))\n",
    "\n",
    "        \n",
    "print(\"TensorFlow v\" + tf.__version__)\n",
    "print(\"Numpy v\" + np.__version__)\n",
    "\n",
    "# You can write up to 20GB to the current directory (/kaggle/working/) that gets preserved as output when you create a version using \"Save & Run All\" \n",
    "# You can also write temporary files to /kaggle/temp/, but they won't be saved outside of the current session"
   ]
  },
  {
   "cell_type": "code",
   "execution_count": 3,
   "id": "81ad0cd1",
   "metadata": {
    "execution": {
     "iopub.execute_input": "2023-06-01T01:54:12.854079Z",
     "iopub.status.busy": "2023-06-01T01:54:12.853071Z",
     "iopub.status.idle": "2023-06-01T01:54:12.857801Z",
     "shell.execute_reply": "2023-06-01T01:54:12.856961Z"
    },
    "papermill": {
     "duration": 0.032604,
     "end_time": "2023-06-01T01:54:12.859780",
     "exception": false,
     "start_time": "2023-06-01T01:54:12.827176",
     "status": "completed"
    },
    "tags": []
   },
   "outputs": [],
   "source": [
    "n_labels_to_consider = 1499 # We will choose only top frequent labels (in train) and predict only them. "
   ]
  },
  {
   "cell_type": "markdown",
   "id": "ae95f166",
   "metadata": {
    "papermill": {
     "duration": 0.024188,
     "end_time": "2023-06-01T01:54:12.908737",
     "exception": false,
     "start_time": "2023-06-01T01:54:12.884549",
     "status": "completed"
    },
    "tags": []
   },
   "source": [
    "# 1. Load training data from CAFA5 dataset & convert to Labels array (Y)"
   ]
  },
  {
   "cell_type": "markdown",
   "id": "f2ee22ed",
   "metadata": {
    "papermill": {
     "duration": 0.023833,
     "end_time": "2023-06-01T01:54:12.956635",
     "exception": false,
     "start_time": "2023-06-01T01:54:12.932802",
     "status": "completed"
    },
    "tags": []
   },
   "source": [
    "### Load CAFA5 training set into a pandas dataframe"
   ]
  },
  {
   "cell_type": "code",
   "execution_count": 4,
   "id": "39e650de",
   "metadata": {
    "execution": {
     "iopub.execute_input": "2023-06-01T01:54:13.008083Z",
     "iopub.status.busy": "2023-06-01T01:54:13.007295Z",
     "iopub.status.idle": "2023-06-01T01:54:16.778012Z",
     "shell.execute_reply": "2023-06-01T01:54:16.776488Z"
    },
    "papermill": {
     "duration": 3.799139,
     "end_time": "2023-06-01T01:54:16.780342",
     "exception": false,
     "start_time": "2023-06-01T01:54:12.981203",
     "status": "completed"
    },
    "tags": []
   },
   "outputs": [
    {
     "name": "stdout",
     "output_type": "stream",
     "text": [
      "Shape of train_terms.tsv dataset: (5363863, 3)\n",
      "\n",
      "Dataframe from train_terms.tsv dataset:\n"
     ]
    },
    {
     "data": {
      "text/html": [
       "<div>\n",
       "<style scoped>\n",
       "    .dataframe tbody tr th:only-of-type {\n",
       "        vertical-align: middle;\n",
       "    }\n",
       "\n",
       "    .dataframe tbody tr th {\n",
       "        vertical-align: top;\n",
       "    }\n",
       "\n",
       "    .dataframe thead th {\n",
       "        text-align: right;\n",
       "    }\n",
       "</style>\n",
       "<table border=\"1\" class=\"dataframe\">\n",
       "  <thead>\n",
       "    <tr style=\"text-align: right;\">\n",
       "      <th></th>\n",
       "      <th>EntryID</th>\n",
       "      <th>term</th>\n",
       "      <th>aspect</th>\n",
       "    </tr>\n",
       "  </thead>\n",
       "  <tbody>\n",
       "    <tr>\n",
       "      <th>0</th>\n",
       "      <td>A0A009IHW8</td>\n",
       "      <td>GO:0008152</td>\n",
       "      <td>BPO</td>\n",
       "    </tr>\n",
       "    <tr>\n",
       "      <th>1</th>\n",
       "      <td>A0A009IHW8</td>\n",
       "      <td>GO:0034655</td>\n",
       "      <td>BPO</td>\n",
       "    </tr>\n",
       "    <tr>\n",
       "      <th>2</th>\n",
       "      <td>A0A009IHW8</td>\n",
       "      <td>GO:0072523</td>\n",
       "      <td>BPO</td>\n",
       "    </tr>\n",
       "    <tr>\n",
       "      <th>3</th>\n",
       "      <td>A0A009IHW8</td>\n",
       "      <td>GO:0044270</td>\n",
       "      <td>BPO</td>\n",
       "    </tr>\n",
       "    <tr>\n",
       "      <th>4</th>\n",
       "      <td>A0A009IHW8</td>\n",
       "      <td>GO:0006753</td>\n",
       "      <td>BPO</td>\n",
       "    </tr>\n",
       "  </tbody>\n",
       "</table>\n",
       "</div>"
      ],
      "text/plain": [
       "      EntryID        term aspect\n",
       "0  A0A009IHW8  GO:0008152    BPO\n",
       "1  A0A009IHW8  GO:0034655    BPO\n",
       "2  A0A009IHW8  GO:0072523    BPO\n",
       "3  A0A009IHW8  GO:0044270    BPO\n",
       "4  A0A009IHW8  GO:0006753    BPO"
      ]
     },
     "metadata": {},
     "output_type": "display_data"
    },
    {
     "name": "stdout",
     "output_type": "stream",
     "text": [
      "\n",
      "Frequency of each term (i.e. label) in train_terms.tsv dataset:\n",
      "GO:0005575    92912\n",
      "GO:0008150    92210\n",
      "GO:0110165    91286\n",
      "GO:0003674    78637\n",
      "GO:0005622    70785\n",
      "              ...  \n",
      "GO:0031772        1\n",
      "GO:0042324        1\n",
      "GO:0031771        1\n",
      "GO:0051041        1\n",
      "GO:0102628        1\n",
      "Name: term, Length: 31466, dtype: int64\n",
      "\n",
      "n_labels_to_consider: 1499 First 10: ['GO:0005575', 'GO:0008150', 'GO:0110165', 'GO:0003674', 'GO:0005622', 'GO:0009987', 'GO:0043226', 'GO:0043229', 'GO:0005488', 'GO:0043227']\n",
      "\n",
      "CPU times: user 2.37 s, sys: 465 ms, total: 2.83 s\n",
      "Wall time: 3.76 s\n"
     ]
    }
   ],
   "source": [
    "%%time\n",
    "# Measure the execution time of the code block\n",
    "\n",
    "trainTerms = pd.read_csv(\"/kaggle/input/cafa-5-protein-function-prediction/Train/train_terms.tsv\", sep=\"\\t\")\n",
    "# Read the contents of the \"train_terms.tsv\" file into a pandas DataFrame, using '\\t' (tab) as the delimiter.\n",
    "# Assign the resulting DataFrame to the variable 'trainTerms'.\n",
    "\n",
    "print(\"Shape of train_terms.tsv dataset: \" + str(trainTerms.shape))\n",
    "# Print the shape of the 'trainTerms' DataFrame, which represents the dimensions (number of rows and columns) of the dataset.\n",
    "\n",
    "print()\n",
    "# Print an empty line for better readability.\n",
    "\n",
    "print(\"Dataframe from train_terms.tsv dataset:\")\n",
    "display(trainTerms.head(5))\n",
    "# Display the first 5 rows of the 'trainTerms' DataFrame using the 'head()' function.\n",
    "# This provides a preview of the data in the DataFrame.\n",
    "\n",
    "print()\n",
    "\n",
    "print(\"Frequency of each term (i.e. label) in train_terms.tsv dataset:\")\n",
    "vec_freqCount = trainTerms['term'].value_counts()\n",
    "# Compute the frequency count of each unique term (label) in the 'term' column of the 'trainTerms' DataFrame.\n",
    "# Assign the resulting Series object to the variable 'vec_freqCount'.\n",
    "\n",
    "print(vec_freqCount)\n",
    "# Print the frequency count of each term.\n",
    "# This displays the number of occurrences of each term in the dataset.\n",
    "\n",
    "print()\n",
    "\n",
    "labels_to_consider = list(vec_freqCount.index[:n_labels_to_consider])\n",
    "# Extract the first 'n_labels_to_consider' terms from the index of the 'vec_freqCount' Series.\n",
    "# Convert the resulting index values (terms) to a list.\n",
    "# Assign the list of terms to the variable 'labels_to_consider'.\n",
    "\n",
    "print('n_labels_to_consider:', len(labels_to_consider), 'First 10:', labels_to_consider[:10])\n",
    "# Print the number of labels to consider ('n_labels_to_consider') and the first 10 labels in the 'labels_to_consider' list.\n",
    "\n",
    "print()"
   ]
  },
  {
   "cell_type": "markdown",
   "id": "67ae8e11",
   "metadata": {
    "papermill": {
     "duration": 0.02398,
     "end_time": "2023-06-01T01:54:16.828582",
     "exception": false,
     "start_time": "2023-06-01T01:54:16.804602",
     "status": "completed"
    },
    "tags": []
   },
   "source": [
    "#### Columns of the training set dataframe:\n",
    "- EntryID = identifier that is unique to each protein (but the same protein will have multiple instances)\n",
    "\n",
    "- term = identifier that is unique to each protein function label. It is \"GO:\" followed by a 7-digit number, but each one is a class (i.e. there is not necessarily any algorithmic relationship between consecutively numbered classes).\n",
    "\n",
    "- aspect = broad categorisation of GO labels (into \"BPO\", \"MFO\", CCO\", which are the three top-level terms)\n",
    "\n",
    "The combination of \"EntryID\" and \"term\" should constitute a unique entry.\n",
    "\n",
    "In summary, there are 5.3 million labeled entries in the training dataset, with 31,466 unique labels. The most frequent labels have ~93,000 entries (i.e. proteins), while the least frequent labels have 1 entry (1 protein)."
   ]
  },
  {
   "cell_type": "markdown",
   "id": "047b4e2c",
   "metadata": {
    "papermill": {
     "duration": 0.024347,
     "end_time": "2023-06-01T01:54:16.877379",
     "exception": false,
     "start_time": "2023-06-01T01:54:16.853032",
     "status": "completed"
    },
    "tags": []
   },
   "source": [
    "### Load the protein IDs from the T5 embeddings training set\n",
    "The list of protein IDs in the T5 embeddings training set is used to figure out how many rows we need in the Labels array (Y). We want one row per protein instance."
   ]
  },
  {
   "cell_type": "code",
   "execution_count": 5,
   "id": "9953695e",
   "metadata": {
    "execution": {
     "iopub.execute_input": "2023-06-01T01:54:16.927409Z",
     "iopub.status.busy": "2023-06-01T01:54:16.927021Z",
     "iopub.status.idle": "2023-06-01T01:54:16.981835Z",
     "shell.execute_reply": "2023-06-01T01:54:16.980801Z"
    },
    "papermill": {
     "duration": 0.082539,
     "end_time": "2023-06-01T01:54:16.983988",
     "exception": false,
     "start_time": "2023-06-01T01:54:16.901449",
     "status": "completed"
    },
    "tags": []
   },
   "outputs": [
    {
     "name": "stdout",
     "output_type": "stream",
     "text": [
      "(142246,)\n",
      "CPU times: user 2.93 ms, sys: 4.16 ms, total: 7.09 ms\n",
      "Wall time: 46.5 ms\n"
     ]
    },
    {
     "data": {
      "text/plain": [
       "array(['P20536', 'O73864', 'O95231', ..., 'Q5RGB0', 'A0A2R8QMZ5',\n",
       "       'A0A8I6GHU0'], dtype='<U10')"
      ]
     },
     "execution_count": 5,
     "metadata": {},
     "output_type": "execute_result"
    }
   ],
   "source": [
    "%%time\n",
    "# Measure the execution time of the code block\n",
    "\n",
    "fn = '/kaggle/input/t5embeds/train_ids.npy'\n",
    "# Set the variable fn to the file path '/kaggle/input/t5embeds/train_ids.npy'\n",
    "# This indicates the location of a NumPy array file.\n",
    "\n",
    "vec_train_protein_ids = np.load(fn)\n",
    "# Load the NumPy array from the file specified by fn and assign it to the variable vec_train_protein_ids\n",
    "# This reads the array data from the file into memory.\n",
    "\n",
    "print(vec_train_protein_ids.shape)\n",
    "# Print the shape of vec_train_protein_ids\n",
    "# This will output the dimensions of the array, indicating the number of elements in each axis.\n",
    "\n",
    "vec_train_protein_ids\n",
    "# Output the vec_train_protein_ids array itself\n",
    "# This will display the content of the array."
   ]
  },
  {
   "cell_type": "markdown",
   "id": "28a020d0",
   "metadata": {
    "papermill": {
     "duration": 0.024002,
     "end_time": "2023-06-01T01:54:17.032450",
     "exception": false,
     "start_time": "2023-06-01T01:54:17.008448",
     "status": "completed"
    },
    "tags": []
   },
   "source": [
    "The T5 embeddings were generated from 142,246 unique proteins.\n"
   ]
  },
  {
   "cell_type": "markdown",
   "id": "c66730b7",
   "metadata": {
    "papermill": {
     "duration": 0.024559,
     "end_time": "2023-06-01T01:54:17.081448",
     "exception": false,
     "start_time": "2023-06-01T01:54:17.056889",
     "status": "completed"
    },
    "tags": []
   },
   "source": [
    "### Prepare Y (all the labels, in a 2D array)\n",
    "\n",
    "That is, generate a large array with each row being a unique protein and each column being a unique label, and entries being either \"1\" to indicate that a particular protein has a particular label and \"0\" being that it does not (i.e. binary labeling). Multilabel \"one\"-hot encoding.\n",
    "\n",
    "The next code block does the following:\n",
    "\n",
    "1. Make an array (of zeroes) with enough rows for all the proteins with embeddings and columns for all the labels to consider (i.e. the top n most common labels). Call this array \"Y\".\n",
    "\n",
    "2. Make a pandas series from all the protein IDs in the T5 dataset (all the proteins that have embeddings).\n",
    "\n",
    "3. \"trainTerms\" is the pandas dataframe containing the labeled training data (from CAFA5). Truncate this to only include the top n most common labels => \"trainTerms_smaller\". Now 4.42 million entries instead of original 5.3 million.\n",
    "\n",
    "4. for loop: For every column in the Labels array (Y), compare 'term' class from trainTerms_smaller dataframe with the labels_to_consider entries and return True if they are the same (False if not the same); assign True/False to the variable m. For all the rows in that column, look for the labels assigned to each protein and add that to the array Y. ... (I don't fully understand the syntax here...)\n",
    "\n",
    "5. Print out updates as the code runs. Finally print out array Y.\n",
    "\n",
    "N.B. This code block will take ~8 min to run.\n"
   ]
  },
  {
   "cell_type": "code",
   "execution_count": 6,
   "id": "2ce21703",
   "metadata": {
    "execution": {
     "iopub.execute_input": "2023-06-01T01:54:17.132605Z",
     "iopub.status.busy": "2023-06-01T01:54:17.132184Z",
     "iopub.status.idle": "2023-06-01T02:02:32.520935Z",
     "shell.execute_reply": "2023-06-01T02:02:32.519236Z"
    },
    "papermill": {
     "duration": 495.417176,
     "end_time": "2023-06-01T02:02:32.523455",
     "exception": false,
     "start_time": "2023-06-01T01:54:17.106279",
     "status": "completed"
    },
    "tags": []
   },
   "outputs": [
    {
     "name": "stdout",
     "output_type": "stream",
     "text": [
      "Shape of Labels array, Y, is: (142246, 1499)\n",
      "\n",
      "Shape of the truncated CAFA5 dataframe is: (4420307, 3)\n",
      "\n",
      "label# #ofProteinsThatLabelIsAssignedTo\n",
      "0 92912\n",
      "10 53193\n",
      "20 28680\n",
      "30 19458\n",
      "40 16657\n",
      "50 14757\n",
      "60 12963\n",
      "70 11013\n",
      "80 10236\n",
      "90 9350\n",
      "100 8475\n",
      "110 7664\n",
      "120 7099\n",
      "130 6522\n",
      "140 5866\n",
      "150 5316\n",
      "160 5084\n",
      "170 4831\n",
      "180 4585\n",
      "190 4383\n",
      "200 4214\n",
      "210 4091\n",
      "220 3788\n",
      "230 3652\n",
      "240 3535\n",
      "250 3358\n",
      "260 3231\n",
      "270 3115\n",
      "280 3047\n",
      "290 2952\n",
      "300 2867\n",
      "310 2806\n",
      "320 2764\n",
      "330 2674\n",
      "340 2580\n",
      "350 2483\n",
      "360 2423\n",
      "370 2387\n",
      "380 2295\n",
      "390 2200\n",
      "400 2158\n",
      "410 2106\n",
      "420 2057\n",
      "430 1944\n",
      "440 1866\n",
      "450 1827\n",
      "460 1775\n",
      "470 1742\n",
      "480 1708\n",
      "490 1645\n",
      "500 1614\n",
      "510 1584\n",
      "520 1553\n",
      "530 1513\n",
      "540 1481\n",
      "550 1451\n",
      "560 1427\n",
      "570 1406\n",
      "580 1361\n",
      "590 1343\n",
      "600 1321\n",
      "610 1302\n",
      "620 1290\n",
      "630 1264\n",
      "640 1238\n",
      "650 1220\n",
      "660 1200\n",
      "670 1186\n",
      "680 1170\n",
      "690 1152\n",
      "700 1145\n",
      "710 1125\n",
      "720 1099\n",
      "730 1085\n",
      "740 1062\n",
      "750 1040\n",
      "760 1024\n",
      "770 1005\n",
      "780 982\n",
      "790 970\n",
      "800 956\n",
      "810 946\n",
      "820 940\n",
      "830 927\n",
      "840 913\n",
      "850 897\n",
      "860 891\n",
      "870 875\n",
      "880 862\n",
      "890 851\n",
      "900 841\n",
      "910 829\n",
      "920 816\n",
      "930 810\n",
      "940 798\n",
      "950 784\n",
      "960 768\n",
      "970 761\n",
      "980 749\n",
      "990 737\n",
      "1000 732\n",
      "1010 722\n",
      "1020 710\n",
      "1030 703\n",
      "1040 691\n",
      "1050 680\n",
      "1060 668\n",
      "1070 653\n",
      "1080 645\n",
      "1090 639\n",
      "1100 634\n",
      "1110 624\n",
      "1120 618\n",
      "1130 612\n",
      "1140 603\n",
      "1150 597\n",
      "1160 590\n",
      "1170 581\n",
      "1180 574\n",
      "1190 568\n",
      "1200 563\n",
      "1210 557\n",
      "1220 551\n",
      "1230 542\n",
      "1240 537\n",
      "1250 534\n",
      "1260 529\n",
      "1270 525\n",
      "1280 520\n",
      "1290 516\n",
      "1300 512\n",
      "1310 508\n",
      "1320 501\n",
      "1330 496\n",
      "1340 491\n",
      "1350 489\n",
      "1360 486\n",
      "1370 479\n",
      "1380 474\n",
      "1390 472\n",
      "1400 470\n",
      "1410 467\n",
      "1420 462\n",
      "1430 459\n",
      "1440 455\n",
      "1450 452\n",
      "1460 448\n",
      "1470 444\n",
      "1480 441\n",
      "1490 434\n",
      "CPU times: user 8min 13s, sys: 1.86 s, total: 8min 15s\n",
      "Wall time: 8min 15s\n"
     ]
    },
    {
     "data": {
      "text/plain": [
       "array([[0., 1., 0., ..., 0., 0., 0.],\n",
       "       [1., 1., 1., ..., 0., 0., 0.],\n",
       "       [1., 1., 1., ..., 0., 0., 0.],\n",
       "       ...,\n",
       "       [0., 1., 0., ..., 0., 0., 0.],\n",
       "       [0., 1., 0., ..., 0., 0., 0.],\n",
       "       [1., 0., 1., ..., 0., 0., 0.]])"
      ]
     },
     "execution_count": 6,
     "metadata": {},
     "output_type": "execute_result"
    }
   ],
   "source": [
    "%%time\n",
    "\n",
    "train_size = 142246  # Total number of training samples\n",
    "Y = np.zeros((train_size, n_labels_to_consider))  # Create an array of zeros with dimensions (train_size, n_labels_to_consider)\n",
    "print(\"Shape of Labels array, Y, is: \" + str(Y.shape))\n",
    "print()\n",
    "\n",
    "series_train_protein_ids = pd.Series(vec_train_protein_ids)  # Create a pandas Series from vec_train_protein_ids\n",
    "\n",
    "trainTerms_smaller = trainTerms[trainTerms['term'].isin(labels_to_consider)]\n",
    "# Select rows from the trainTerms DataFrame where the 'term' column value is present in labels_to_consider.\n",
    "# This is done to speed up the subsequent step.\n",
    "\n",
    "print(\"Shape of the truncated CAFA5 dataframe is: \" + str(trainTerms_smaller.shape))\n",
    "print()\n",
    "\n",
    "print(\"label#\", \"#ofProteinsThatLabelIsAssignedTo\")\n",
    "for i in range(Y.shape[1]):\n",
    "    m = trainTerms_smaller['term'] == labels_to_consider[i]\n",
    "    # Create a boolean mask m where each element is True if the corresponding value in 'term' is equal to labels_to_consider[i],\n",
    "    # and False otherwise.\n",
    "\n",
    "    Y[:, i] = series_train_protein_ids.isin(set(trainTerms_smaller[m]['EntryID'])).astype(float)\n",
    "    # Select the 'EntryID' column from the filtered trainTerms_smaller DataFrame where m is True.\n",
    "    # Convert the selected column values to a set, remove duplicates, and check if each element in series_train_protein_ids is present.\n",
    "    # Convert the resulting boolean values to floats (1.0 for True, 0.0 for False).\n",
    "    # Assign the converted values to the corresponding column i in the Y array.\n",
    "\n",
    "    if (i % 10) == 0:\n",
    "        print(i, m.sum())\n",
    "        # Print the current iteration index i and the sum of True values in the boolean mask m.\n",
    "\n",
    "Y"
   ]
  },
  {
   "cell_type": "markdown",
   "id": "189f12cb",
   "metadata": {
    "papermill": {
     "duration": 0.036554,
     "end_time": "2023-06-01T02:02:32.595782",
     "exception": false,
     "start_time": "2023-06-01T02:02:32.559228",
     "status": "completed"
    },
    "tags": []
   },
   "source": [
    "### Save the Labels array (Y)"
   ]
  },
  {
   "cell_type": "code",
   "execution_count": 7,
   "id": "2a1fc693",
   "metadata": {
    "execution": {
     "iopub.execute_input": "2023-06-01T02:02:32.669030Z",
     "iopub.status.busy": "2023-06-01T02:02:32.668580Z",
     "iopub.status.idle": "2023-06-01T02:02:34.182619Z",
     "shell.execute_reply": "2023-06-01T02:02:34.181339Z"
    },
    "papermill": {
     "duration": 1.552958,
     "end_time": "2023-06-01T02:02:34.185095",
     "exception": false,
     "start_time": "2023-06-01T02:02:32.632137",
     "status": "completed"
    },
    "tags": []
   },
   "outputs": [
    {
     "name": "stdout",
     "output_type": "stream",
     "text": [
      "Y_1499\n",
      "CPU times: user 2.91 ms, sys: 1.5 s, total: 1.51 s\n",
      "Wall time: 1.51 s\n"
     ]
    }
   ],
   "source": [
    "%%time\n",
    "# Measure the execution time of the code block\n",
    "\n",
    "# Save the variable 'Y' for possible future reuse\n",
    "fn4saveY = 'Y_' + str(Y.shape[1])\n",
    "# Construct a filename string by concatenating 'Y_' with the number of columns in 'Y' converted to a string.\n",
    "# Assign the resulting filename string to the variable 'fn4saveY'.\n",
    "\n",
    "print(fn4saveY)\n",
    "# Print the filename string.\n",
    "# This displays the filename that will be used to save the 'Y' variable.\n",
    "\n",
    "np.save(fn4saveY, Y)\n",
    "# Save the 'Y' variable as a NumPy array file using the filename specified by 'fn4saveY'.\n",
    "# This stores the array data in a file for possible future use."
   ]
  },
  {
   "cell_type": "markdown",
   "id": "a9520f4c",
   "metadata": {
    "papermill": {
     "duration": 0.041333,
     "end_time": "2023-06-01T02:02:34.261494",
     "exception": false,
     "start_time": "2023-06-01T02:02:34.220161",
     "status": "completed"
    },
    "tags": []
   },
   "source": [
    "### Save the labels_to_consider list"
   ]
  },
  {
   "cell_type": "code",
   "execution_count": 8,
   "id": "8527a2c7",
   "metadata": {
    "execution": {
     "iopub.execute_input": "2023-06-01T02:02:34.345797Z",
     "iopub.status.busy": "2023-06-01T02:02:34.344801Z",
     "iopub.status.idle": "2023-06-01T02:02:34.353023Z",
     "shell.execute_reply": "2023-06-01T02:02:34.351834Z"
    },
    "papermill": {
     "duration": 0.051878,
     "end_time": "2023-06-01T02:02:34.355531",
     "exception": false,
     "start_time": "2023-06-01T02:02:34.303653",
     "status": "completed"
    },
    "tags": []
   },
   "outputs": [
    {
     "name": "stdout",
     "output_type": "stream",
     "text": [
      "Y_1499_labels\n",
      "CPU times: user 1.09 ms, sys: 1 µs, total: 1.09 ms\n",
      "Wall time: 1.11 ms\n"
     ]
    }
   ],
   "source": [
    "%%time\n",
    "# Measure the execution time of the code block\n",
    "\n",
    "fn4save_labels = 'Y_' + str(Y.shape[1]) + '_labels'\n",
    "# Construct a filename string for saving the 'labels_to_consider' variable by concatenating 'Y_', the number of columns in 'Y' converted to a string, and '_labels'.\n",
    "# Assign the resulting filename string to the variable 'fn4save_labels'.\n",
    "\n",
    "print(fn4save_labels)\n",
    "\n",
    "np.save(fn4save_labels, labels_to_consider)\n",
    "# Save the 'labels_to_consider' variable as a NumPy array file using the filename specified by 'fn4save_labels'.\n",
    "# This stores the array data in a file for possible future use.\n"
   ]
  },
  {
   "cell_type": "code",
   "execution_count": 9,
   "id": "237d1704",
   "metadata": {
    "execution": {
     "iopub.execute_input": "2023-06-01T02:02:34.426952Z",
     "iopub.status.busy": "2023-06-01T02:02:34.425905Z",
     "iopub.status.idle": "2023-06-01T02:02:34.432943Z",
     "shell.execute_reply": "2023-06-01T02:02:34.431887Z"
    },
    "papermill": {
     "duration": 0.044609,
     "end_time": "2023-06-01T02:02:34.435116",
     "exception": false,
     "start_time": "2023-06-01T02:02:34.390507",
     "status": "completed"
    },
    "tags": []
   },
   "outputs": [
    {
     "name": "stdout",
     "output_type": "stream",
     "text": [
      "['GO:0005575', 'GO:0008150', 'GO:0110165', 'GO:0003674', 'GO:0005622', 'GO:0009987', 'GO:0043226', 'GO:0043229', 'GO:0005488', 'GO:0043227']\n"
     ]
    }
   ],
   "source": [
    "print( list(np.load(fn4save_labels +'.npy' ))[:10] )\n",
    "# Load the numpy file that we just saved and print a list of the first 10 entries"
   ]
  },
  {
   "cell_type": "markdown",
   "id": "af1be93f",
   "metadata": {
    "papermill": {
     "duration": 0.034675,
     "end_time": "2023-06-01T02:02:34.503903",
     "exception": false,
     "start_time": "2023-06-01T02:02:34.469228",
     "status": "completed"
    },
    "tags": []
   },
   "source": [
    "### Convert Labels array (Y) to a dataframe (df_Y)"
   ]
  },
  {
   "cell_type": "code",
   "execution_count": 10,
   "id": "11813852",
   "metadata": {
    "execution": {
     "iopub.execute_input": "2023-06-01T02:02:34.577240Z",
     "iopub.status.busy": "2023-06-01T02:02:34.576461Z",
     "iopub.status.idle": "2023-06-01T02:02:34.604508Z",
     "shell.execute_reply": "2023-06-01T02:02:34.603522Z"
    },
    "papermill": {
     "duration": 0.066515,
     "end_time": "2023-06-01T02:02:34.606559",
     "exception": false,
     "start_time": "2023-06-01T02:02:34.540044",
     "status": "completed"
    },
    "tags": []
   },
   "outputs": [
    {
     "data": {
      "text/html": [
       "<div>\n",
       "<style scoped>\n",
       "    .dataframe tbody tr th:only-of-type {\n",
       "        vertical-align: middle;\n",
       "    }\n",
       "\n",
       "    .dataframe tbody tr th {\n",
       "        vertical-align: top;\n",
       "    }\n",
       "\n",
       "    .dataframe thead th {\n",
       "        text-align: right;\n",
       "    }\n",
       "</style>\n",
       "<table border=\"1\" class=\"dataframe\">\n",
       "  <thead>\n",
       "    <tr style=\"text-align: right;\">\n",
       "      <th></th>\n",
       "      <th>GO:0005575</th>\n",
       "      <th>GO:0008150</th>\n",
       "      <th>GO:0110165</th>\n",
       "      <th>GO:0003674</th>\n",
       "      <th>GO:0005622</th>\n",
       "      <th>GO:0009987</th>\n",
       "      <th>GO:0043226</th>\n",
       "      <th>GO:0043229</th>\n",
       "      <th>GO:0005488</th>\n",
       "      <th>GO:0043227</th>\n",
       "      <th>...</th>\n",
       "      <th>GO:0000313</th>\n",
       "      <th>GO:0034250</th>\n",
       "      <th>GO:0140053</th>\n",
       "      <th>GO:0031345</th>\n",
       "      <th>GO:0098802</th>\n",
       "      <th>GO:0045861</th>\n",
       "      <th>GO:0051783</th>\n",
       "      <th>GO:0031674</th>\n",
       "      <th>GO:0001818</th>\n",
       "      <th>GO:0006874</th>\n",
       "    </tr>\n",
       "  </thead>\n",
       "  <tbody>\n",
       "    <tr>\n",
       "      <th>0</th>\n",
       "      <td>0.0</td>\n",
       "      <td>1.0</td>\n",
       "      <td>0.0</td>\n",
       "      <td>1.0</td>\n",
       "      <td>0.0</td>\n",
       "      <td>1.0</td>\n",
       "      <td>0.0</td>\n",
       "      <td>0.0</td>\n",
       "      <td>1.0</td>\n",
       "      <td>0.0</td>\n",
       "      <td>...</td>\n",
       "      <td>0.0</td>\n",
       "      <td>0.0</td>\n",
       "      <td>0.0</td>\n",
       "      <td>0.0</td>\n",
       "      <td>0.0</td>\n",
       "      <td>0.0</td>\n",
       "      <td>0.0</td>\n",
       "      <td>0.0</td>\n",
       "      <td>0.0</td>\n",
       "      <td>0.0</td>\n",
       "    </tr>\n",
       "    <tr>\n",
       "      <th>1</th>\n",
       "      <td>1.0</td>\n",
       "      <td>1.0</td>\n",
       "      <td>1.0</td>\n",
       "      <td>1.0</td>\n",
       "      <td>0.0</td>\n",
       "      <td>1.0</td>\n",
       "      <td>0.0</td>\n",
       "      <td>0.0</td>\n",
       "      <td>1.0</td>\n",
       "      <td>0.0</td>\n",
       "      <td>...</td>\n",
       "      <td>0.0</td>\n",
       "      <td>0.0</td>\n",
       "      <td>0.0</td>\n",
       "      <td>0.0</td>\n",
       "      <td>0.0</td>\n",
       "      <td>0.0</td>\n",
       "      <td>0.0</td>\n",
       "      <td>0.0</td>\n",
       "      <td>0.0</td>\n",
       "      <td>0.0</td>\n",
       "    </tr>\n",
       "  </tbody>\n",
       "</table>\n",
       "<p>2 rows × 1499 columns</p>\n",
       "</div>"
      ],
      "text/plain": [
       "   GO:0005575  GO:0008150  GO:0110165  GO:0003674  GO:0005622  GO:0009987  \\\n",
       "0         0.0         1.0         0.0         1.0         0.0         1.0   \n",
       "1         1.0         1.0         1.0         1.0         0.0         1.0   \n",
       "\n",
       "   GO:0043226  GO:0043229  GO:0005488  GO:0043227  ...  GO:0000313  \\\n",
       "0         0.0         0.0         1.0         0.0  ...         0.0   \n",
       "1         0.0         0.0         1.0         0.0  ...         0.0   \n",
       "\n",
       "   GO:0034250  GO:0140053  GO:0031345  GO:0098802  GO:0045861  GO:0051783  \\\n",
       "0         0.0         0.0         0.0         0.0         0.0         0.0   \n",
       "1         0.0         0.0         0.0         0.0         0.0         0.0   \n",
       "\n",
       "   GO:0031674  GO:0001818  GO:0006874  \n",
       "0         0.0         0.0         0.0  \n",
       "1         0.0         0.0         0.0  \n",
       "\n",
       "[2 rows x 1499 columns]"
      ]
     },
     "metadata": {},
     "output_type": "display_data"
    },
    {
     "name": "stdout",
     "output_type": "stream",
     "text": [
      "CPU times: user 18.8 ms, sys: 1.99 ms, total: 20.8 ms\n",
      "Wall time: 21.5 ms\n"
     ]
    }
   ],
   "source": [
    "%%time\n",
    "# Measure the execution time of the code block\n",
    "\n",
    "# Create a dataframe 'df_Y' from the 'Y' array\n",
    "df_Y = pd.DataFrame(data=Y, columns=labels_to_consider)\n",
    "# Construct a pandas DataFrame 'df_Y' using the data from the 'Y' array.\n",
    "# Set the column names of the DataFrame to the 'labels_to_consider' list.\n",
    "\n",
    "display(df_Y.head(2))\n",
    "# Display the first 2 rows of the 'df_Y' DataFrame using the 'head()' function.\n",
    "# This provides a preview of the data in the DataFrame.\n",
    "\n",
    "# print( df.info().sum() )"
   ]
  },
  {
   "cell_type": "markdown",
   "id": "e4d8a44f",
   "metadata": {
    "papermill": {
     "duration": 0.034659,
     "end_time": "2023-06-01T02:02:34.677045",
     "exception": false,
     "start_time": "2023-06-01T02:02:34.642386",
     "status": "completed"
    },
    "tags": []
   },
   "source": [
    "### Save the Labels dataframe (df_Y)"
   ]
  },
  {
   "cell_type": "code",
   "execution_count": 11,
   "id": "22878cc0",
   "metadata": {
    "execution": {
     "iopub.execute_input": "2023-06-01T02:02:34.748107Z",
     "iopub.status.busy": "2023-06-01T02:02:34.747436Z",
     "iopub.status.idle": "2023-06-01T02:04:30.388206Z",
     "shell.execute_reply": "2023-06-01T02:04:30.385951Z"
    },
    "papermill": {
     "duration": 115.72209,
     "end_time": "2023-06-01T02:04:30.433725",
     "exception": false,
     "start_time": "2023-06-01T02:02:34.711635",
     "status": "completed"
    },
    "tags": []
   },
   "outputs": [
    {
     "name": "stdout",
     "output_type": "stream",
     "text": [
      "memory_usage: 1705814160\n"
     ]
    },
    {
     "data": {
      "text/html": [
       "<div>\n",
       "<style scoped>\n",
       "    .dataframe tbody tr th:only-of-type {\n",
       "        vertical-align: middle;\n",
       "    }\n",
       "\n",
       "    .dataframe tbody tr th {\n",
       "        vertical-align: top;\n",
       "    }\n",
       "\n",
       "    .dataframe thead th {\n",
       "        text-align: right;\n",
       "    }\n",
       "</style>\n",
       "<table border=\"1\" class=\"dataframe\">\n",
       "  <thead>\n",
       "    <tr style=\"text-align: right;\">\n",
       "      <th></th>\n",
       "      <th>GO:0005575</th>\n",
       "      <th>GO:0008150</th>\n",
       "      <th>GO:0110165</th>\n",
       "      <th>GO:0003674</th>\n",
       "      <th>GO:0005622</th>\n",
       "      <th>GO:0009987</th>\n",
       "      <th>GO:0043226</th>\n",
       "      <th>GO:0043229</th>\n",
       "      <th>GO:0005488</th>\n",
       "      <th>GO:0043227</th>\n",
       "      <th>...</th>\n",
       "      <th>GO:0000313</th>\n",
       "      <th>GO:0034250</th>\n",
       "      <th>GO:0140053</th>\n",
       "      <th>GO:0031345</th>\n",
       "      <th>GO:0098802</th>\n",
       "      <th>GO:0045861</th>\n",
       "      <th>GO:0051783</th>\n",
       "      <th>GO:0031674</th>\n",
       "      <th>GO:0001818</th>\n",
       "      <th>GO:0006874</th>\n",
       "    </tr>\n",
       "  </thead>\n",
       "  <tbody>\n",
       "    <tr>\n",
       "      <th>count</th>\n",
       "      <td>142246.000000</td>\n",
       "      <td>142246.000000</td>\n",
       "      <td>142246.000000</td>\n",
       "      <td>142246.000000</td>\n",
       "      <td>142246.000000</td>\n",
       "      <td>142246.000000</td>\n",
       "      <td>142246.000000</td>\n",
       "      <td>142246.000000</td>\n",
       "      <td>142246.000000</td>\n",
       "      <td>142246.000000</td>\n",
       "      <td>...</td>\n",
       "      <td>142246.000000</td>\n",
       "      <td>142246.000000</td>\n",
       "      <td>142246.000000</td>\n",
       "      <td>142246.000000</td>\n",
       "      <td>142246.000000</td>\n",
       "      <td>142246.000000</td>\n",
       "      <td>142246.000000</td>\n",
       "      <td>142246.000000</td>\n",
       "      <td>142246.000000</td>\n",
       "      <td>142246.000000</td>\n",
       "    </tr>\n",
       "    <tr>\n",
       "      <th>mean</th>\n",
       "      <td>0.653178</td>\n",
       "      <td>0.648243</td>\n",
       "      <td>0.641747</td>\n",
       "      <td>0.552824</td>\n",
       "      <td>0.497624</td>\n",
       "      <td>0.430894</td>\n",
       "      <td>0.428012</td>\n",
       "      <td>0.409959</td>\n",
       "      <td>0.403386</td>\n",
       "      <td>0.389832</td>\n",
       "      <td>...</td>\n",
       "      <td>0.003058</td>\n",
       "      <td>0.003051</td>\n",
       "      <td>0.003051</td>\n",
       "      <td>0.003051</td>\n",
       "      <td>0.003044</td>\n",
       "      <td>0.003037</td>\n",
       "      <td>0.003030</td>\n",
       "      <td>0.003030</td>\n",
       "      <td>0.003030</td>\n",
       "      <td>0.003023</td>\n",
       "    </tr>\n",
       "    <tr>\n",
       "      <th>std</th>\n",
       "      <td>0.475960</td>\n",
       "      <td>0.477520</td>\n",
       "      <td>0.479489</td>\n",
       "      <td>0.497204</td>\n",
       "      <td>0.499996</td>\n",
       "      <td>0.495203</td>\n",
       "      <td>0.494792</td>\n",
       "      <td>0.491827</td>\n",
       "      <td>0.490579</td>\n",
       "      <td>0.487714</td>\n",
       "      <td>...</td>\n",
       "      <td>0.055216</td>\n",
       "      <td>0.055152</td>\n",
       "      <td>0.055152</td>\n",
       "      <td>0.055152</td>\n",
       "      <td>0.055089</td>\n",
       "      <td>0.055025</td>\n",
       "      <td>0.054962</td>\n",
       "      <td>0.054962</td>\n",
       "      <td>0.054962</td>\n",
       "      <td>0.054898</td>\n",
       "    </tr>\n",
       "    <tr>\n",
       "      <th>min</th>\n",
       "      <td>0.000000</td>\n",
       "      <td>0.000000</td>\n",
       "      <td>0.000000</td>\n",
       "      <td>0.000000</td>\n",
       "      <td>0.000000</td>\n",
       "      <td>0.000000</td>\n",
       "      <td>0.000000</td>\n",
       "      <td>0.000000</td>\n",
       "      <td>0.000000</td>\n",
       "      <td>0.000000</td>\n",
       "      <td>...</td>\n",
       "      <td>0.000000</td>\n",
       "      <td>0.000000</td>\n",
       "      <td>0.000000</td>\n",
       "      <td>0.000000</td>\n",
       "      <td>0.000000</td>\n",
       "      <td>0.000000</td>\n",
       "      <td>0.000000</td>\n",
       "      <td>0.000000</td>\n",
       "      <td>0.000000</td>\n",
       "      <td>0.000000</td>\n",
       "    </tr>\n",
       "    <tr>\n",
       "      <th>25%</th>\n",
       "      <td>0.000000</td>\n",
       "      <td>0.000000</td>\n",
       "      <td>0.000000</td>\n",
       "      <td>0.000000</td>\n",
       "      <td>0.000000</td>\n",
       "      <td>0.000000</td>\n",
       "      <td>0.000000</td>\n",
       "      <td>0.000000</td>\n",
       "      <td>0.000000</td>\n",
       "      <td>0.000000</td>\n",
       "      <td>...</td>\n",
       "      <td>0.000000</td>\n",
       "      <td>0.000000</td>\n",
       "      <td>0.000000</td>\n",
       "      <td>0.000000</td>\n",
       "      <td>0.000000</td>\n",
       "      <td>0.000000</td>\n",
       "      <td>0.000000</td>\n",
       "      <td>0.000000</td>\n",
       "      <td>0.000000</td>\n",
       "      <td>0.000000</td>\n",
       "    </tr>\n",
       "    <tr>\n",
       "      <th>50%</th>\n",
       "      <td>1.000000</td>\n",
       "      <td>1.000000</td>\n",
       "      <td>1.000000</td>\n",
       "      <td>1.000000</td>\n",
       "      <td>0.000000</td>\n",
       "      <td>0.000000</td>\n",
       "      <td>0.000000</td>\n",
       "      <td>0.000000</td>\n",
       "      <td>0.000000</td>\n",
       "      <td>0.000000</td>\n",
       "      <td>...</td>\n",
       "      <td>0.000000</td>\n",
       "      <td>0.000000</td>\n",
       "      <td>0.000000</td>\n",
       "      <td>0.000000</td>\n",
       "      <td>0.000000</td>\n",
       "      <td>0.000000</td>\n",
       "      <td>0.000000</td>\n",
       "      <td>0.000000</td>\n",
       "      <td>0.000000</td>\n",
       "      <td>0.000000</td>\n",
       "    </tr>\n",
       "    <tr>\n",
       "      <th>75%</th>\n",
       "      <td>1.000000</td>\n",
       "      <td>1.000000</td>\n",
       "      <td>1.000000</td>\n",
       "      <td>1.000000</td>\n",
       "      <td>1.000000</td>\n",
       "      <td>1.000000</td>\n",
       "      <td>1.000000</td>\n",
       "      <td>1.000000</td>\n",
       "      <td>1.000000</td>\n",
       "      <td>1.000000</td>\n",
       "      <td>...</td>\n",
       "      <td>0.000000</td>\n",
       "      <td>0.000000</td>\n",
       "      <td>0.000000</td>\n",
       "      <td>0.000000</td>\n",
       "      <td>0.000000</td>\n",
       "      <td>0.000000</td>\n",
       "      <td>0.000000</td>\n",
       "      <td>0.000000</td>\n",
       "      <td>0.000000</td>\n",
       "      <td>0.000000</td>\n",
       "    </tr>\n",
       "    <tr>\n",
       "      <th>max</th>\n",
       "      <td>1.000000</td>\n",
       "      <td>1.000000</td>\n",
       "      <td>1.000000</td>\n",
       "      <td>1.000000</td>\n",
       "      <td>1.000000</td>\n",
       "      <td>1.000000</td>\n",
       "      <td>1.000000</td>\n",
       "      <td>1.000000</td>\n",
       "      <td>1.000000</td>\n",
       "      <td>1.000000</td>\n",
       "      <td>...</td>\n",
       "      <td>1.000000</td>\n",
       "      <td>1.000000</td>\n",
       "      <td>1.000000</td>\n",
       "      <td>1.000000</td>\n",
       "      <td>1.000000</td>\n",
       "      <td>1.000000</td>\n",
       "      <td>1.000000</td>\n",
       "      <td>1.000000</td>\n",
       "      <td>1.000000</td>\n",
       "      <td>1.000000</td>\n",
       "    </tr>\n",
       "  </tbody>\n",
       "</table>\n",
       "<p>8 rows × 1499 columns</p>\n",
       "</div>"
      ],
      "text/plain": [
       "          GO:0005575     GO:0008150     GO:0110165     GO:0003674  \\\n",
       "count  142246.000000  142246.000000  142246.000000  142246.000000   \n",
       "mean        0.653178       0.648243       0.641747       0.552824   \n",
       "std         0.475960       0.477520       0.479489       0.497204   \n",
       "min         0.000000       0.000000       0.000000       0.000000   \n",
       "25%         0.000000       0.000000       0.000000       0.000000   \n",
       "50%         1.000000       1.000000       1.000000       1.000000   \n",
       "75%         1.000000       1.000000       1.000000       1.000000   \n",
       "max         1.000000       1.000000       1.000000       1.000000   \n",
       "\n",
       "          GO:0005622     GO:0009987     GO:0043226     GO:0043229  \\\n",
       "count  142246.000000  142246.000000  142246.000000  142246.000000   \n",
       "mean        0.497624       0.430894       0.428012       0.409959   \n",
       "std         0.499996       0.495203       0.494792       0.491827   \n",
       "min         0.000000       0.000000       0.000000       0.000000   \n",
       "25%         0.000000       0.000000       0.000000       0.000000   \n",
       "50%         0.000000       0.000000       0.000000       0.000000   \n",
       "75%         1.000000       1.000000       1.000000       1.000000   \n",
       "max         1.000000       1.000000       1.000000       1.000000   \n",
       "\n",
       "          GO:0005488     GO:0043227  ...     GO:0000313     GO:0034250  \\\n",
       "count  142246.000000  142246.000000  ...  142246.000000  142246.000000   \n",
       "mean        0.403386       0.389832  ...       0.003058       0.003051   \n",
       "std         0.490579       0.487714  ...       0.055216       0.055152   \n",
       "min         0.000000       0.000000  ...       0.000000       0.000000   \n",
       "25%         0.000000       0.000000  ...       0.000000       0.000000   \n",
       "50%         0.000000       0.000000  ...       0.000000       0.000000   \n",
       "75%         1.000000       1.000000  ...       0.000000       0.000000   \n",
       "max         1.000000       1.000000  ...       1.000000       1.000000   \n",
       "\n",
       "          GO:0140053     GO:0031345     GO:0098802     GO:0045861  \\\n",
       "count  142246.000000  142246.000000  142246.000000  142246.000000   \n",
       "mean        0.003051       0.003051       0.003044       0.003037   \n",
       "std         0.055152       0.055152       0.055089       0.055025   \n",
       "min         0.000000       0.000000       0.000000       0.000000   \n",
       "25%         0.000000       0.000000       0.000000       0.000000   \n",
       "50%         0.000000       0.000000       0.000000       0.000000   \n",
       "75%         0.000000       0.000000       0.000000       0.000000   \n",
       "max         1.000000       1.000000       1.000000       1.000000   \n",
       "\n",
       "          GO:0051783     GO:0031674     GO:0001818     GO:0006874  \n",
       "count  142246.000000  142246.000000  142246.000000  142246.000000  \n",
       "mean        0.003030       0.003030       0.003030       0.003023  \n",
       "std         0.054962       0.054962       0.054962       0.054898  \n",
       "min         0.000000       0.000000       0.000000       0.000000  \n",
       "25%         0.000000       0.000000       0.000000       0.000000  \n",
       "50%         0.000000       0.000000       0.000000       0.000000  \n",
       "75%         0.000000       0.000000       0.000000       0.000000  \n",
       "max         1.000000       1.000000       1.000000       1.000000  \n",
       "\n",
       "[8 rows x 1499 columns]"
      ]
     },
     "metadata": {},
     "output_type": "display_data"
    },
    {
     "name": "stdout",
     "output_type": "stream",
     "text": [
      "CPU times: user 1min 52s, sys: 3.5 s, total: 1min 55s\n",
      "Wall time: 1min 55s\n"
     ]
    }
   ],
   "source": [
    "%%time\n",
    "# Measure the execution time of the code block\n",
    "\n",
    "print('memory_usage:', df_Y.memory_usage(index=True).sum())\n",
    "# Calculate the memory usage of the 'df_Y' DataFrame, including the index, and print the sum of memory usage.\n",
    "# This provides information about the memory consumed by the DataFrame.\n",
    "\n",
    "display(df_Y.describe())\n",
    "# Generate descriptive statistics of the 'df_Y' DataFrame using the 'describe()' function.\n",
    "# This includes count, mean, standard deviation, minimum, quartiles, and maximum values for each column.\n",
    "# The summary statistics are displayed.\n",
    "\n",
    "fn4save = 'df_Y_' + str(Y.shape[1]) + '.csv'\n",
    "# Construct a filename string for saving the 'df_Y' DataFrame as a CSV file.\n",
    "# The filename is created by concatenating 'df_Y_', the number of columns in 'Y' converted to a string, and '.csv'.\n",
    "# Assign the resulting filename string to the variable 'fn4save'.\n",
    "\n",
    "df_Y.to_csv(fn4save)\n",
    "# Save the 'df_Y' DataFrame as a CSV file using the filename specified by 'fn4save'.\n",
    "# This stores the DataFrame in a CSV file for possible future use."
   ]
  },
  {
   "cell_type": "markdown",
   "id": "110f76f5",
   "metadata": {
    "papermill": {
     "duration": 0.036588,
     "end_time": "2023-06-01T02:04:30.508680",
     "exception": false,
     "start_time": "2023-06-01T02:04:30.472092",
     "status": "completed"
    },
    "tags": []
   },
   "source": [
    "# 3. Load pre-calculated protein embeddings as features (X)\n",
    "These will be our input features to train our model on, i.e. X.\n"
   ]
  },
  {
   "cell_type": "code",
   "execution_count": 12,
   "id": "194121b0",
   "metadata": {
    "execution": {
     "iopub.execute_input": "2023-06-01T02:04:30.584022Z",
     "iopub.status.busy": "2023-06-01T02:04:30.582986Z",
     "iopub.status.idle": "2023-06-01T02:04:42.263230Z",
     "shell.execute_reply": "2023-06-01T02:04:42.261969Z"
    },
    "papermill": {
     "duration": 11.720535,
     "end_time": "2023-06-01T02:04:42.265802",
     "exception": false,
     "start_time": "2023-06-01T02:04:30.545267",
     "status": "completed"
    },
    "tags": []
   },
   "outputs": [
    {
     "name": "stdout",
     "output_type": "stream",
     "text": [
      "/kaggle/input/t5embeds/train_embeds.npy\n",
      "(142246, 1024)\n",
      "CPU times: user 7.89 ms, sys: 925 ms, total: 933 ms\n",
      "Wall time: 11.7 s\n"
     ]
    },
    {
     "data": {
      "text/plain": [
       "array([[ 0.04948843, -0.03293516,  0.03247323, ..., -0.04353154,\n",
       "         0.0964628 ,  0.07306959],\n",
       "       [-0.04461636,  0.06492499, -0.08026284, ...,  0.02672353,\n",
       "         0.02787905, -0.04842958],\n",
       "       [-0.02012804, -0.04977943,  0.00789446, ..., -0.03610279,\n",
       "         0.00769301,  0.10623412],\n",
       "       ...,\n",
       "       [ 0.01691809,  0.04133058,  0.00079253, ...,  0.0088079 ,\n",
       "         0.00648063, -0.01334958],\n",
       "       [ 0.06125151,  0.08340203,  0.0440247 , ...,  0.00138361,\n",
       "        -0.04754627,  0.01012351],\n",
       "       [ 0.02160021,  0.06516985,  0.07492343, ...,  0.0496657 ,\n",
       "        -0.01987522,  0.04471432]])"
      ]
     },
     "execution_count": 12,
     "metadata": {},
     "output_type": "execute_result"
    }
   ],
   "source": [
    "%%time \n",
    "# Measure the execution time of the code block\n",
    "\n",
    "fn = '/kaggle/input/t5embeds/train_embeds.npy'  # Set the variable 'fn' to the file path indicated (a NumPy array file).\n",
    "print(fn) # Print the 'fn' variable.\n",
    "X = np.load(fn) # Load the NumPy array from the file specified by 'fn' and assign it to the variable 'X'.\n",
    "print(X.shape) # Print the shape of the 'X' array.\n",
    "X # Output the 'X' array itself."
   ]
  },
  {
   "cell_type": "markdown",
   "id": "58f92d28",
   "metadata": {
    "papermill": {
     "duration": 0.035154,
     "end_time": "2023-06-01T02:04:42.337320",
     "exception": false,
     "start_time": "2023-06-01T02:04:42.302166",
     "status": "completed"
    },
    "tags": []
   },
   "source": [
    "These embeddings have 142,246 entries (rows) with 1024 features (columns)."
   ]
  },
  {
   "cell_type": "code",
   "execution_count": 13,
   "id": "87b56fd4",
   "metadata": {
    "execution": {
     "iopub.execute_input": "2023-06-01T02:04:42.411160Z",
     "iopub.status.busy": "2023-06-01T02:04:42.410052Z",
     "iopub.status.idle": "2023-06-01T02:04:42.415483Z",
     "shell.execute_reply": "2023-06-01T02:04:42.414423Z"
    },
    "papermill": {
     "duration": 0.044662,
     "end_time": "2023-06-01T02:04:42.417745",
     "exception": false,
     "start_time": "2023-06-01T02:04:42.373083",
     "status": "completed"
    },
    "tags": []
   },
   "outputs": [],
   "source": [
    "## Alternatives to load:\n",
    "# fn = '/kaggle/input/protein-embeddings-1/reduced_embeddings_file.npy'\n",
    "# fn = '/kaggle/input/protein-embeddings-1/embed_protbert_train_clip_1200_first_70000_prot.csv'\n",
    "# fn = '/kaggle/input/t5embeds/test_embeds.npy'"
   ]
  },
  {
   "cell_type": "markdown",
   "id": "7769f84a",
   "metadata": {
    "papermill": {
     "duration": 0.036466,
     "end_time": "2023-06-01T02:04:42.490223",
     "exception": false,
     "start_time": "2023-06-01T02:04:42.453757",
     "status": "completed"
    },
    "tags": []
   },
   "source": [
    "### Sanity check\n",
    "Check that the IDs from the training data (i.e. proteins in the T5 embedding) are the same as from the training labels data (i.e. proteins in the CAFA5 training set)."
   ]
  },
  {
   "cell_type": "code",
   "execution_count": 14,
   "id": "dd79f36c",
   "metadata": {
    "execution": {
     "iopub.execute_input": "2023-06-01T02:04:42.563573Z",
     "iopub.status.busy": "2023-06-01T02:04:42.562435Z",
     "iopub.status.idle": "2023-06-01T02:04:43.217238Z",
     "shell.execute_reply": "2023-06-01T02:04:43.215847Z"
    },
    "papermill": {
     "duration": 0.694379,
     "end_time": "2023-06-01T02:04:43.219914",
     "exception": false,
     "start_time": "2023-06-01T02:04:42.525535",
     "status": "completed"
    },
    "tags": []
   },
   "outputs": [
    {
     "name": "stdout",
     "output_type": "stream",
     "text": [
      "142246 142246\n"
     ]
    }
   ],
   "source": [
    "s = set(vec_train_protein_ids) & set(trainTerms['EntryID'])\n",
    "# Create a set 's' by performing an intersection between the set of values in 'vec_train_protein_ids'\n",
    "# and the set of values in the 'EntryID' column of the 'trainTerms' dataframe.\n",
    "# The ampersand (&) operator is used to perform the intersection operation.\n",
    "\n",
    "print(len(s), len(X))\n",
    "# Print the lengths of the set 's' and the array 'X'.\n",
    "# The code is checking if the length of the set 's' is the same as the length of the array 'X'.\n"
   ]
  },
  {
   "cell_type": "markdown",
   "id": "5da1d1a5",
   "metadata": {
    "papermill": {
     "duration": 0.036049,
     "end_time": "2023-06-01T02:04:43.292646",
     "exception": false,
     "start_time": "2023-06-01T02:04:43.256597",
     "status": "completed"
    },
    "tags": []
   },
   "source": [
    "### Convert features (X) into pandas dataframe (df_X)"
   ]
  },
  {
   "cell_type": "code",
   "execution_count": 15,
   "id": "0c17af32",
   "metadata": {
    "execution": {
     "iopub.execute_input": "2023-06-01T02:04:43.368277Z",
     "iopub.status.busy": "2023-06-01T02:04:43.367111Z",
     "iopub.status.idle": "2023-06-01T02:04:43.397716Z",
     "shell.execute_reply": "2023-06-01T02:04:43.396570Z"
    },
    "papermill": {
     "duration": 0.071162,
     "end_time": "2023-06-01T02:04:43.400053",
     "exception": false,
     "start_time": "2023-06-01T02:04:43.328891",
     "status": "completed"
    },
    "tags": []
   },
   "outputs": [
    {
     "name": "stdout",
     "output_type": "stream",
     "text": [
      "(142246, 1024)\n"
     ]
    },
    {
     "data": {
      "text/html": [
       "<div>\n",
       "<style scoped>\n",
       "    .dataframe tbody tr th:only-of-type {\n",
       "        vertical-align: middle;\n",
       "    }\n",
       "\n",
       "    .dataframe tbody tr th {\n",
       "        vertical-align: top;\n",
       "    }\n",
       "\n",
       "    .dataframe thead th {\n",
       "        text-align: right;\n",
       "    }\n",
       "</style>\n",
       "<table border=\"1\" class=\"dataframe\">\n",
       "  <thead>\n",
       "    <tr style=\"text-align: right;\">\n",
       "      <th></th>\n",
       "      <th>Column_1</th>\n",
       "      <th>Column_2</th>\n",
       "      <th>Column_3</th>\n",
       "      <th>Column_4</th>\n",
       "      <th>Column_5</th>\n",
       "      <th>Column_6</th>\n",
       "      <th>Column_7</th>\n",
       "      <th>Column_8</th>\n",
       "      <th>Column_9</th>\n",
       "      <th>Column_10</th>\n",
       "      <th>...</th>\n",
       "      <th>Column_1015</th>\n",
       "      <th>Column_1016</th>\n",
       "      <th>Column_1017</th>\n",
       "      <th>Column_1018</th>\n",
       "      <th>Column_1019</th>\n",
       "      <th>Column_1020</th>\n",
       "      <th>Column_1021</th>\n",
       "      <th>Column_1022</th>\n",
       "      <th>Column_1023</th>\n",
       "      <th>Column_1024</th>\n",
       "    </tr>\n",
       "  </thead>\n",
       "  <tbody>\n",
       "    <tr>\n",
       "      <th>0</th>\n",
       "      <td>0.049488</td>\n",
       "      <td>-0.032935</td>\n",
       "      <td>0.032473</td>\n",
       "      <td>-0.033723</td>\n",
       "      <td>-0.059505</td>\n",
       "      <td>0.075936</td>\n",
       "      <td>-0.045860</td>\n",
       "      <td>-0.104476</td>\n",
       "      <td>-0.072112</td>\n",
       "      <td>0.038806</td>\n",
       "      <td>...</td>\n",
       "      <td>-0.046516</td>\n",
       "      <td>-0.028773</td>\n",
       "      <td>-0.021878</td>\n",
       "      <td>-0.097883</td>\n",
       "      <td>0.056475</td>\n",
       "      <td>0.080950</td>\n",
       "      <td>-0.020938</td>\n",
       "      <td>-0.043532</td>\n",
       "      <td>0.096463</td>\n",
       "      <td>0.073070</td>\n",
       "    </tr>\n",
       "    <tr>\n",
       "      <th>1</th>\n",
       "      <td>-0.044616</td>\n",
       "      <td>0.064925</td>\n",
       "      <td>-0.080263</td>\n",
       "      <td>-0.075338</td>\n",
       "      <td>-0.004731</td>\n",
       "      <td>0.025408</td>\n",
       "      <td>-0.024685</td>\n",
       "      <td>-0.016568</td>\n",
       "      <td>-0.038980</td>\n",
       "      <td>-0.033870</td>\n",
       "      <td>...</td>\n",
       "      <td>-0.040173</td>\n",
       "      <td>0.003925</td>\n",
       "      <td>0.006130</td>\n",
       "      <td>0.007362</td>\n",
       "      <td>-0.066848</td>\n",
       "      <td>0.106882</td>\n",
       "      <td>-0.030134</td>\n",
       "      <td>0.026724</td>\n",
       "      <td>0.027879</td>\n",
       "      <td>-0.048430</td>\n",
       "    </tr>\n",
       "    <tr>\n",
       "      <th>2</th>\n",
       "      <td>-0.020128</td>\n",
       "      <td>-0.049779</td>\n",
       "      <td>0.007894</td>\n",
       "      <td>-0.000829</td>\n",
       "      <td>-0.047737</td>\n",
       "      <td>0.086453</td>\n",
       "      <td>-0.038107</td>\n",
       "      <td>-0.036379</td>\n",
       "      <td>0.029611</td>\n",
       "      <td>0.045029</td>\n",
       "      <td>...</td>\n",
       "      <td>0.029388</td>\n",
       "      <td>0.008456</td>\n",
       "      <td>0.000697</td>\n",
       "      <td>0.013502</td>\n",
       "      <td>-0.005968</td>\n",
       "      <td>-0.011571</td>\n",
       "      <td>0.005704</td>\n",
       "      <td>-0.036103</td>\n",
       "      <td>0.007693</td>\n",
       "      <td>0.106234</td>\n",
       "    </tr>\n",
       "    <tr>\n",
       "      <th>3</th>\n",
       "      <td>-0.007515</td>\n",
       "      <td>0.060628</td>\n",
       "      <td>0.004045</td>\n",
       "      <td>0.027056</td>\n",
       "      <td>-0.021542</td>\n",
       "      <td>0.010380</td>\n",
       "      <td>-0.025064</td>\n",
       "      <td>-0.055834</td>\n",
       "      <td>0.068238</td>\n",
       "      <td>0.027764</td>\n",
       "      <td>...</td>\n",
       "      <td>0.020792</td>\n",
       "      <td>0.023307</td>\n",
       "      <td>0.009009</td>\n",
       "      <td>0.018211</td>\n",
       "      <td>0.020820</td>\n",
       "      <td>-0.031738</td>\n",
       "      <td>0.013279</td>\n",
       "      <td>-0.018357</td>\n",
       "      <td>0.008087</td>\n",
       "      <td>0.010917</td>\n",
       "    </tr>\n",
       "    <tr>\n",
       "      <th>4</th>\n",
       "      <td>0.013468</td>\n",
       "      <td>0.041516</td>\n",
       "      <td>0.018435</td>\n",
       "      <td>-0.035595</td>\n",
       "      <td>0.008770</td>\n",
       "      <td>0.018699</td>\n",
       "      <td>-0.015452</td>\n",
       "      <td>-0.038092</td>\n",
       "      <td>-0.038326</td>\n",
       "      <td>-0.012299</td>\n",
       "      <td>...</td>\n",
       "      <td>-0.044742</td>\n",
       "      <td>-0.025432</td>\n",
       "      <td>-0.060886</td>\n",
       "      <td>-0.026915</td>\n",
       "      <td>0.026342</td>\n",
       "      <td>0.017237</td>\n",
       "      <td>0.014731</td>\n",
       "      <td>-0.016861</td>\n",
       "      <td>-0.016272</td>\n",
       "      <td>0.037054</td>\n",
       "    </tr>\n",
       "  </tbody>\n",
       "</table>\n",
       "<p>5 rows × 1024 columns</p>\n",
       "</div>"
      ],
      "text/plain": [
       "   Column_1  Column_2  Column_3  Column_4  Column_5  Column_6  Column_7  \\\n",
       "0  0.049488 -0.032935  0.032473 -0.033723 -0.059505  0.075936 -0.045860   \n",
       "1 -0.044616  0.064925 -0.080263 -0.075338 -0.004731  0.025408 -0.024685   \n",
       "2 -0.020128 -0.049779  0.007894 -0.000829 -0.047737  0.086453 -0.038107   \n",
       "3 -0.007515  0.060628  0.004045  0.027056 -0.021542  0.010380 -0.025064   \n",
       "4  0.013468  0.041516  0.018435 -0.035595  0.008770  0.018699 -0.015452   \n",
       "\n",
       "   Column_8  Column_9  Column_10  ...  Column_1015  Column_1016  Column_1017  \\\n",
       "0 -0.104476 -0.072112   0.038806  ...    -0.046516    -0.028773    -0.021878   \n",
       "1 -0.016568 -0.038980  -0.033870  ...    -0.040173     0.003925     0.006130   \n",
       "2 -0.036379  0.029611   0.045029  ...     0.029388     0.008456     0.000697   \n",
       "3 -0.055834  0.068238   0.027764  ...     0.020792     0.023307     0.009009   \n",
       "4 -0.038092 -0.038326  -0.012299  ...    -0.044742    -0.025432    -0.060886   \n",
       "\n",
       "   Column_1018  Column_1019  Column_1020  Column_1021  Column_1022  \\\n",
       "0    -0.097883     0.056475     0.080950    -0.020938    -0.043532   \n",
       "1     0.007362    -0.066848     0.106882    -0.030134     0.026724   \n",
       "2     0.013502    -0.005968    -0.011571     0.005704    -0.036103   \n",
       "3     0.018211     0.020820    -0.031738     0.013279    -0.018357   \n",
       "4    -0.026915     0.026342     0.017237     0.014731    -0.016861   \n",
       "\n",
       "   Column_1023  Column_1024  \n",
       "0     0.096463     0.073070  \n",
       "1     0.027879    -0.048430  \n",
       "2     0.007693     0.106234  \n",
       "3     0.008087     0.010917  \n",
       "4    -0.016272     0.037054  \n",
       "\n",
       "[5 rows x 1024 columns]"
      ]
     },
     "execution_count": 15,
     "metadata": {},
     "output_type": "execute_result"
    }
   ],
   "source": [
    "# Now lets convert embeddings numpy array(train_embeddings) into pandas dataframe.\n",
    "column_num = X.shape[1]\n",
    "df_X = pd.DataFrame(X, columns = [\"Column_\" + str(i) for i in range(1, column_num+1)])\n",
    "print(df_X.shape)\n",
    "df_X.head()"
   ]
  },
  {
   "cell_type": "markdown",
   "id": "201f6729",
   "metadata": {
    "papermill": {
     "duration": 0.036266,
     "end_time": "2023-06-01T02:04:43.472508",
     "exception": false,
     "start_time": "2023-06-01T02:04:43.436242",
     "status": "completed"
    },
    "tags": []
   },
   "source": [
    "N.B. Already converted labels into pandas dataframe (df_Y) above"
   ]
  },
  {
   "cell_type": "markdown",
   "id": "fbc61d3a",
   "metadata": {
    "papermill": {
     "duration": 0.035684,
     "end_time": "2023-06-01T02:04:43.544856",
     "exception": false,
     "start_time": "2023-06-01T02:04:43.509172",
     "status": "completed"
    },
    "tags": []
   },
   "source": [
    "***Split into train & test sets"
   ]
  },
  {
   "cell_type": "markdown",
   "id": "0d7f19b2",
   "metadata": {
    "papermill": {
     "duration": 0.035677,
     "end_time": "2023-06-01T02:04:43.616462",
     "exception": false,
     "start_time": "2023-06-01T02:04:43.580785",
     "status": "completed"
    },
    "tags": []
   },
   "source": [
    "## Training a neural network model\n",
    "\n",
    "Number of input nodes is equal to the number of features (i.e. number of columns in X).\n",
    "\n",
    "Number of (binary) output nodes is equal to the number of labels."
   ]
  },
  {
   "cell_type": "code",
   "execution_count": 16,
   "id": "010b74b6",
   "metadata": {
    "execution": {
     "iopub.execute_input": "2023-06-01T02:04:43.692353Z",
     "iopub.status.busy": "2023-06-01T02:04:43.691913Z",
     "iopub.status.idle": "2023-06-01T02:25:11.104637Z",
     "shell.execute_reply": "2023-06-01T02:25:11.103297Z"
    },
    "papermill": {
     "duration": 1227.454474,
     "end_time": "2023-06-01T02:25:11.107488",
     "exception": false,
     "start_time": "2023-06-01T02:04:43.653014",
     "status": "completed"
    },
    "tags": []
   },
   "outputs": [
    {
     "name": "stderr",
     "output_type": "stream",
     "text": [
      "/opt/conda/lib/python3.10/site-packages/tensorflow_addons/utils/tfa_eol_msg.py:23: UserWarning: \n",
      "\n",
      "TensorFlow Addons (TFA) has ended development and introduction of new features.\n",
      "TFA has entered a minimal maintenance and release mode until a planned end of life in May 2024.\n",
      "Please modify downstream libraries to take dependencies from other repositories in our TensorFlow community (e.g. Keras, Keras-CV, and Keras-NLP). \n",
      "\n",
      "For more information see: https://github.com/tensorflow/addons/issues/2807 \n",
      "\n",
      "  warnings.warn(\n",
      "/opt/conda/lib/python3.10/site-packages/tensorflow_addons/utils/ensure_tf_install.py:37: UserWarning: You are currently using a nightly version of TensorFlow (2.14.0-dev20230531). \n",
      "TensorFlow Addons offers no support for the nightly versions of TensorFlow. Some things might work, some other might not. \n",
      "If you encounter a bug, do not file an issue on GitHub.\n",
      "  warnings.warn(\n"
     ]
    },
    {
     "name": "stdout",
     "output_type": "stream",
     "text": [
      "Number of input nodes = [1024]\n",
      "Number of output nodes = 1499\n",
      "Epoch 1/50\n",
      "23/23 [==============================] - 29s 1s/step - loss: 0.1379 - binary_accuracy: 0.9455 - precision: 0.0854 - recall: 0.1508 - auc: 0.7463 - f1_score: 0.0222 - val_loss: 0.4930 - val_binary_accuracy: 0.9819 - val_precision: 0.3546 - val_recall: 0.2333 - val_auc: 0.8296 - val_f1_score: 0.0053\n",
      "Epoch 2/50\n",
      "23/23 [==============================] - 24s 1s/step - loss: 0.0777 - binary_accuracy: 0.9789 - precision: 0.6050 - recall: 0.1355 - auc: 0.8529 - f1_score: 0.0071 - val_loss: 0.4312 - val_binary_accuracy: 0.9819 - val_precision: 0.3580 - val_recall: 0.2412 - val_auc: 0.8581 - val_f1_score: 0.0058\n",
      "Epoch 3/50\n",
      "23/23 [==============================] - 22s 941ms/step - loss: 0.0713 - binary_accuracy: 0.9793 - precision: 0.6184 - recall: 0.1703 - auc: 0.8886 - f1_score: 0.0144 - val_loss: 0.4007 - val_binary_accuracy: 0.9820 - val_precision: 0.3623 - val_recall: 0.2461 - val_auc: 0.8782 - val_f1_score: 0.0064\n",
      "Epoch 4/50\n",
      "23/23 [==============================] - 24s 1s/step - loss: 0.0685 - binary_accuracy: 0.9796 - precision: 0.6268 - recall: 0.1956 - auc: 0.9019 - f1_score: 0.0232 - val_loss: 0.3816 - val_binary_accuracy: 0.9821 - val_precision: 0.3663 - val_recall: 0.2490 - val_auc: 0.8919 - val_f1_score: 0.0067\n",
      "Epoch 5/50\n",
      "23/23 [==============================] - 24s 1s/step - loss: 0.0663 - binary_accuracy: 0.9798 - precision: 0.6349 - recall: 0.2097 - auc: 0.9103 - f1_score: 0.0341 - val_loss: 0.3610 - val_binary_accuracy: 0.9820 - val_precision: 0.3695 - val_recall: 0.2624 - val_auc: 0.8996 - val_f1_score: 0.0081\n",
      "Epoch 6/50\n",
      "23/23 [==============================] - 23s 992ms/step - loss: 0.0648 - binary_accuracy: 0.9800 - precision: 0.6350 - recall: 0.2284 - auc: 0.9159 - f1_score: 0.0473 - val_loss: 0.3474 - val_binary_accuracy: 0.9820 - val_precision: 0.3733 - val_recall: 0.2711 - val_auc: 0.9044 - val_f1_score: 0.0093\n",
      "Epoch 7/50\n",
      "23/23 [==============================] - 24s 1s/step - loss: 0.0635 - binary_accuracy: 0.9802 - precision: 0.6380 - recall: 0.2403 - auc: 0.9199 - f1_score: 0.0570 - val_loss: 0.3494 - val_binary_accuracy: 0.9817 - val_precision: 0.3671 - val_recall: 0.2901 - val_auc: 0.9075 - val_f1_score: 0.0134\n",
      "Epoch 8/50\n",
      "23/23 [==============================] - 22s 984ms/step - loss: 0.0625 - binary_accuracy: 0.9803 - precision: 0.6388 - recall: 0.2506 - auc: 0.9229 - f1_score: 0.0669 - val_loss: 0.3382 - val_binary_accuracy: 0.9821 - val_precision: 0.3799 - val_recall: 0.2848 - val_auc: 0.9117 - val_f1_score: 0.0114\n",
      "Epoch 9/50\n",
      "23/23 [==============================] - 24s 1s/step - loss: 0.0616 - binary_accuracy: 0.9804 - precision: 0.6422 - recall: 0.2583 - auc: 0.9256 - f1_score: 0.0773 - val_loss: 0.3335 - val_binary_accuracy: 0.9817 - val_precision: 0.3701 - val_recall: 0.2977 - val_auc: 0.9082 - val_f1_score: 0.0135\n",
      "Epoch 10/50\n",
      "23/23 [==============================] - 24s 1s/step - loss: 0.0608 - binary_accuracy: 0.9805 - precision: 0.6444 - recall: 0.2670 - auc: 0.9279 - f1_score: 0.0861 - val_loss: 0.3220 - val_binary_accuracy: 0.9817 - val_precision: 0.3729 - val_recall: 0.3030 - val_auc: 0.9124 - val_f1_score: 0.0148\n",
      "Epoch 11/50\n",
      "23/23 [==============================] - 22s 958ms/step - loss: 0.0598 - binary_accuracy: 0.9807 - precision: 0.6480 - recall: 0.2764 - auc: 0.9307 - f1_score: 0.0969 - val_loss: 0.3187 - val_binary_accuracy: 0.9815 - val_precision: 0.3712 - val_recall: 0.3130 - val_auc: 0.9147 - val_f1_score: 0.0176\n",
      "Epoch 12/50\n",
      "23/23 [==============================] - 24s 1s/step - loss: 0.0592 - binary_accuracy: 0.9808 - precision: 0.6500 - recall: 0.2854 - auc: 0.9324 - f1_score: 0.1086 - val_loss: 0.3023 - val_binary_accuracy: 0.9817 - val_precision: 0.3758 - val_recall: 0.3096 - val_auc: 0.9161 - val_f1_score: 0.0184\n",
      "Epoch 13/50\n",
      "23/23 [==============================] - 24s 1s/step - loss: 0.0585 - binary_accuracy: 0.9809 - precision: 0.6516 - recall: 0.2925 - auc: 0.9344 - f1_score: 0.1179 - val_loss: 0.2797 - val_binary_accuracy: 0.9820 - val_precision: 0.3842 - val_recall: 0.3124 - val_auc: 0.9181 - val_f1_score: 0.0211\n",
      "Epoch 14/50\n",
      "23/23 [==============================] - 24s 1s/step - loss: 0.0580 - binary_accuracy: 0.9810 - precision: 0.6535 - recall: 0.2997 - auc: 0.9355 - f1_score: 0.1256 - val_loss: 0.2555 - val_binary_accuracy: 0.9823 - val_precision: 0.3939 - val_recall: 0.3045 - val_auc: 0.9188 - val_f1_score: 0.0243\n",
      "Epoch 15/50\n",
      "23/23 [==============================] - 24s 1s/step - loss: 0.0575 - binary_accuracy: 0.9811 - precision: 0.6560 - recall: 0.3063 - auc: 0.9367 - f1_score: 0.1357 - val_loss: 0.2482 - val_binary_accuracy: 0.9820 - val_precision: 0.3865 - val_recall: 0.3208 - val_auc: 0.9195 - val_f1_score: 0.0318\n",
      "Epoch 16/50\n",
      "23/23 [==============================] - 24s 1s/step - loss: 0.0570 - binary_accuracy: 0.9812 - precision: 0.6568 - recall: 0.3115 - auc: 0.9380 - f1_score: 0.1428 - val_loss: 0.2344 - val_binary_accuracy: 0.9815 - val_precision: 0.3802 - val_recall: 0.3522 - val_auc: 0.9234 - val_f1_score: 0.0458\n",
      "Epoch 17/50\n",
      "23/23 [==============================] - 23s 998ms/step - loss: 0.0565 - binary_accuracy: 0.9813 - precision: 0.6589 - recall: 0.3208 - auc: 0.9395 - f1_score: 0.1524 - val_loss: 0.1976 - val_binary_accuracy: 0.9828 - val_precision: 0.4142 - val_recall: 0.3287 - val_auc: 0.9274 - val_f1_score: 0.0452\n",
      "Epoch 18/50\n",
      "23/23 [==============================] - 22s 976ms/step - loss: 0.0560 - binary_accuracy: 0.9814 - precision: 0.6616 - recall: 0.3262 - auc: 0.9406 - f1_score: 0.1583 - val_loss: 0.1764 - val_binary_accuracy: 0.9830 - val_precision: 0.4245 - val_recall: 0.3318 - val_auc: 0.9300 - val_f1_score: 0.0550\n",
      "Epoch 19/50\n",
      "23/23 [==============================] - 24s 1s/step - loss: 0.0559 - binary_accuracy: 0.9814 - precision: 0.6617 - recall: 0.3281 - auc: 0.9407 - f1_score: 0.1621 - val_loss: 0.1685 - val_binary_accuracy: 0.9819 - val_precision: 0.3965 - val_recall: 0.3747 - val_auc: 0.9308 - val_f1_score: 0.0808\n",
      "Epoch 20/50\n",
      "23/23 [==============================] - 24s 1s/step - loss: 0.0549 - binary_accuracy: 0.9816 - precision: 0.6676 - recall: 0.3396 - auc: 0.9431 - f1_score: 0.1741 - val_loss: 0.1274 - val_binary_accuracy: 0.9837 - val_precision: 0.4508 - val_recall: 0.3325 - val_auc: 0.9337 - val_f1_score: 0.0822\n",
      "Epoch 21/50\n",
      "23/23 [==============================] - 33s 1s/step - loss: 0.0545 - binary_accuracy: 0.9817 - precision: 0.6693 - recall: 0.3436 - auc: 0.9441 - f1_score: 0.1815 - val_loss: 0.1121 - val_binary_accuracy: 0.9839 - val_precision: 0.4562 - val_recall: 0.3332 - val_auc: 0.9337 - val_f1_score: 0.1002\n",
      "Epoch 22/50\n",
      "23/23 [==============================] - 26s 1s/step - loss: 0.0543 - binary_accuracy: 0.9818 - precision: 0.6710 - recall: 0.3468 - auc: 0.9446 - f1_score: 0.1855 - val_loss: 0.1031 - val_binary_accuracy: 0.9830 - val_precision: 0.4305 - val_recall: 0.3828 - val_auc: 0.9363 - val_f1_score: 0.1236\n",
      "Epoch 23/50\n",
      "23/23 [==============================] - 25s 1s/step - loss: 0.0537 - binary_accuracy: 0.9819 - precision: 0.6736 - recall: 0.3531 - auc: 0.9456 - f1_score: 0.1939 - val_loss: 0.0866 - val_binary_accuracy: 0.9837 - val_precision: 0.4538 - val_recall: 0.3598 - val_auc: 0.9364 - val_f1_score: 0.1266\n",
      "Epoch 24/50\n",
      "23/23 [==============================] - 22s 970ms/step - loss: 0.0533 - binary_accuracy: 0.9820 - precision: 0.6769 - recall: 0.3595 - auc: 0.9464 - f1_score: 0.2004 - val_loss: 0.0763 - val_binary_accuracy: 0.9843 - val_precision: 0.4764 - val_recall: 0.3584 - val_auc: 0.9401 - val_f1_score: 0.1357\n",
      "Epoch 25/50\n",
      "23/23 [==============================] - 25s 1s/step - loss: 0.0525 - binary_accuracy: 0.9822 - precision: 0.6802 - recall: 0.3680 - auc: 0.9485 - f1_score: 0.2090 - val_loss: 0.0652 - val_binary_accuracy: 0.9846 - val_precision: 0.4870 - val_recall: 0.3425 - val_auc: 0.9370 - val_f1_score: 0.1405\n",
      "Epoch 26/50\n",
      "23/23 [==============================] - 25s 1s/step - loss: 0.0524 - binary_accuracy: 0.9822 - precision: 0.6803 - recall: 0.3705 - auc: 0.9486 - f1_score: 0.2128 - val_loss: 0.0623 - val_binary_accuracy: 0.9842 - val_precision: 0.4721 - val_recall: 0.3652 - val_auc: 0.9387 - val_f1_score: 0.1541\n",
      "Epoch 27/50\n",
      "23/23 [==============================] - 22s 967ms/step - loss: 0.0521 - binary_accuracy: 0.9823 - precision: 0.6807 - recall: 0.3754 - auc: 0.9491 - f1_score: 0.2199 - val_loss: 0.0579 - val_binary_accuracy: 0.9841 - val_precision: 0.4673 - val_recall: 0.3706 - val_auc: 0.9364 - val_f1_score: 0.1556\n",
      "Epoch 28/50\n",
      "23/23 [==============================] - 24s 1s/step - loss: 0.0519 - binary_accuracy: 0.9824 - precision: 0.6817 - recall: 0.3795 - auc: 0.9494 - f1_score: 0.2236 - val_loss: 0.0537 - val_binary_accuracy: 0.9846 - val_precision: 0.4901 - val_recall: 0.3464 - val_auc: 0.9340 - val_f1_score: 0.1565\n",
      "Epoch 29/50\n",
      "23/23 [==============================] - 25s 1s/step - loss: 0.0515 - binary_accuracy: 0.9825 - precision: 0.6859 - recall: 0.3827 - auc: 0.9505 - f1_score: 0.2284 - val_loss: 0.0505 - val_binary_accuracy: 0.9851 - val_precision: 0.5151 - val_recall: 0.3437 - val_auc: 0.9336 - val_f1_score: 0.1590\n",
      "Epoch 30/50\n",
      "23/23 [==============================] - 25s 1s/step - loss: 0.0511 - binary_accuracy: 0.9826 - precision: 0.6887 - recall: 0.3870 - auc: 0.9511 - f1_score: 0.2352 - val_loss: 0.0604 - val_binary_accuracy: 0.9818 - val_precision: 0.4083 - val_recall: 0.4467 - val_auc: 0.9353 - val_f1_score: 0.2025\n",
      "Epoch 31/50\n",
      "23/23 [==============================] - 22s 975ms/step - loss: 0.0512 - binary_accuracy: 0.9825 - precision: 0.6863 - recall: 0.3883 - auc: 0.9509 - f1_score: 0.2332 - val_loss: 0.0498 - val_binary_accuracy: 0.9846 - val_precision: 0.4888 - val_recall: 0.3720 - val_auc: 0.9300 - val_f1_score: 0.1826\n",
      "Epoch 32/50\n",
      "23/23 [==============================] - 24s 1s/step - loss: 0.0505 - binary_accuracy: 0.9827 - precision: 0.6919 - recall: 0.3947 - auc: 0.9525 - f1_score: 0.2430 - val_loss: 0.0529 - val_binary_accuracy: 0.9833 - val_precision: 0.4425 - val_recall: 0.3964 - val_auc: 0.9285 - val_f1_score: 0.1962\n",
      "Epoch 33/50\n",
      "23/23 [==============================] - 25s 1s/step - loss: 0.0506 - binary_accuracy: 0.9827 - precision: 0.6878 - recall: 0.3963 - auc: 0.9521 - f1_score: 0.2455 - val_loss: 0.0490 - val_binary_accuracy: 0.9848 - val_precision: 0.4961 - val_recall: 0.3506 - val_auc: 0.9239 - val_f1_score: 0.1779\n",
      "Epoch 34/50\n",
      "23/23 [==============================] - 25s 1s/step - loss: 0.0498 - binary_accuracy: 0.9829 - precision: 0.6944 - recall: 0.4044 - auc: 0.9537 - f1_score: 0.2539 - val_loss: 0.0486 - val_binary_accuracy: 0.9848 - val_precision: 0.4973 - val_recall: 0.3625 - val_auc: 0.9234 - val_f1_score: 0.1882\n",
      "Epoch 35/50\n",
      "23/23 [==============================] - 25s 1s/step - loss: 0.0497 - binary_accuracy: 0.9829 - precision: 0.6950 - recall: 0.4049 - auc: 0.9540 - f1_score: 0.2558 - val_loss: 0.0495 - val_binary_accuracy: 0.9841 - val_precision: 0.4699 - val_recall: 0.3757 - val_auc: 0.9242 - val_f1_score: 0.1842\n",
      "Epoch 36/50\n",
      "23/23 [==============================] - 24s 1s/step - loss: 0.0494 - binary_accuracy: 0.9830 - precision: 0.6970 - recall: 0.4085 - auc: 0.9544 - f1_score: 0.2602 - val_loss: 0.0494 - val_binary_accuracy: 0.9843 - val_precision: 0.4780 - val_recall: 0.3773 - val_auc: 0.9178 - val_f1_score: 0.1884\n",
      "Epoch 37/50\n",
      "23/23 [==============================] - 24s 1s/step - loss: 0.0491 - binary_accuracy: 0.9831 - precision: 0.6975 - recall: 0.4138 - auc: 0.9550 - f1_score: 0.2646 - val_loss: 0.0488 - val_binary_accuracy: 0.9847 - val_precision: 0.4961 - val_recall: 0.3712 - val_auc: 0.9191 - val_f1_score: 0.1985\n",
      "Epoch 38/50\n",
      "23/23 [==============================] - 22s 959ms/step - loss: 0.0487 - binary_accuracy: 0.9832 - precision: 0.7008 - recall: 0.4185 - auc: 0.9559 - f1_score: 0.2717 - val_loss: 0.0489 - val_binary_accuracy: 0.9845 - val_precision: 0.4853 - val_recall: 0.3722 - val_auc: 0.9182 - val_f1_score: 0.1988\n",
      "Epoch 39/50\n",
      "23/23 [==============================] - 22s 947ms/step - loss: 0.0485 - binary_accuracy: 0.9832 - precision: 0.7022 - recall: 0.4212 - auc: 0.9561 - f1_score: 0.2754 - val_loss: 0.0510 - val_binary_accuracy: 0.9834 - val_precision: 0.4474 - val_recall: 0.4058 - val_auc: 0.9216 - val_f1_score: 0.2102\n",
      "Epoch 40/50\n",
      "23/23 [==============================] - 24s 1s/step - loss: 0.0486 - binary_accuracy: 0.9832 - precision: 0.6996 - recall: 0.4203 - auc: 0.9561 - f1_score: 0.2726 - val_loss: 0.0482 - val_binary_accuracy: 0.9848 - val_precision: 0.4982 - val_recall: 0.3700 - val_auc: 0.9168 - val_f1_score: 0.2046\n",
      "Epoch 41/50\n",
      "23/23 [==============================] - 24s 1s/step - loss: 0.0481 - binary_accuracy: 0.9834 - precision: 0.7045 - recall: 0.4270 - auc: 0.9567 - f1_score: 0.2824 - val_loss: 0.0492 - val_binary_accuracy: 0.9843 - val_precision: 0.4798 - val_recall: 0.3837 - val_auc: 0.9156 - val_f1_score: 0.2025\n",
      "Epoch 42/50\n",
      "23/23 [==============================] - 25s 1s/step - loss: 0.0478 - binary_accuracy: 0.9834 - precision: 0.7072 - recall: 0.4298 - auc: 0.9576 - f1_score: 0.2859 - val_loss: 0.0503 - val_binary_accuracy: 0.9836 - val_precision: 0.4565 - val_recall: 0.4191 - val_auc: 0.9192 - val_f1_score: 0.2189\n",
      "Epoch 43/50\n",
      "23/23 [==============================] - 24s 1s/step - loss: 0.0478 - binary_accuracy: 0.9834 - precision: 0.7051 - recall: 0.4299 - auc: 0.9577 - f1_score: 0.2856 - val_loss: 0.0492 - val_binary_accuracy: 0.9845 - val_precision: 0.4842 - val_recall: 0.3769 - val_auc: 0.9142 - val_f1_score: 0.2074\n",
      "Epoch 44/50\n",
      "23/23 [==============================] - 24s 1s/step - loss: 0.0475 - binary_accuracy: 0.9835 - precision: 0.7089 - recall: 0.4340 - auc: 0.9580 - f1_score: 0.2916 - val_loss: 0.0493 - val_binary_accuracy: 0.9845 - val_precision: 0.4869 - val_recall: 0.3852 - val_auc: 0.9123 - val_f1_score: 0.2074\n",
      "Epoch 45/50\n",
      "23/23 [==============================] - 22s 947ms/step - loss: 0.0472 - binary_accuracy: 0.9836 - precision: 0.7107 - recall: 0.4378 - auc: 0.9586 - f1_score: 0.2941 - val_loss: 0.0491 - val_binary_accuracy: 0.9846 - val_precision: 0.4913 - val_recall: 0.3819 - val_auc: 0.9117 - val_f1_score: 0.2110\n",
      "Epoch 46/50\n",
      "23/23 [==============================] - 22s 972ms/step - loss: 0.0470 - binary_accuracy: 0.9836 - precision: 0.7100 - recall: 0.4400 - auc: 0.9587 - f1_score: 0.2982 - val_loss: 0.0499 - val_binary_accuracy: 0.9839 - val_precision: 0.4653 - val_recall: 0.4160 - val_auc: 0.9176 - val_f1_score: 0.2194\n",
      "Epoch 47/50\n",
      "23/23 [==============================] - 38s 2s/step - loss: 0.0471 - binary_accuracy: 0.9836 - precision: 0.7085 - recall: 0.4405 - auc: 0.9587 - f1_score: 0.2983 - val_loss: 0.0505 - val_binary_accuracy: 0.9838 - val_precision: 0.4611 - val_recall: 0.4013 - val_auc: 0.9148 - val_f1_score: 0.2193\n",
      "Epoch 48/50\n",
      "23/23 [==============================] - 22s 979ms/step - loss: 0.0473 - binary_accuracy: 0.9836 - precision: 0.7081 - recall: 0.4367 - auc: 0.9584 - f1_score: 0.2957 - val_loss: 0.0485 - val_binary_accuracy: 0.9850 - val_precision: 0.5053 - val_recall: 0.3792 - val_auc: 0.9117 - val_f1_score: 0.2113\n",
      "Epoch 49/50\n",
      "23/23 [==============================] - 22s 943ms/step - loss: 0.0465 - binary_accuracy: 0.9838 - precision: 0.7154 - recall: 0.4463 - auc: 0.9594 - f1_score: 0.3060 - val_loss: 0.0509 - val_binary_accuracy: 0.9840 - val_precision: 0.4674 - val_recall: 0.3947 - val_auc: 0.9099 - val_f1_score: 0.2202\n",
      "Epoch 50/50\n",
      "23/23 [==============================] - 25s 1s/step - loss: 0.0464 - binary_accuracy: 0.9838 - precision: 0.7143 - recall: 0.4476 - auc: 0.9599 - f1_score: 0.3073 - val_loss: 0.0500 - val_binary_accuracy: 0.9845 - val_precision: 0.4874 - val_recall: 0.3817 - val_auc: 0.9079 - val_f1_score: 0.2172\n",
      "CPU times: user 1h 6min 3s, sys: 6min 26s, total: 1h 12min 30s\n",
      "Wall time: 20min 27s\n"
     ]
    }
   ],
   "source": [
    "%%time \n",
    "# Measure the execution time of the code block\n",
    "\n",
    "import tensorflow_addons as tfa\n",
    "\n",
    "# Set hyperparameters\n",
    "INPUT_SHAPE = [df_X.shape[1]]\n",
    "BATCH_SIZE = 5120\n",
    "LEARNING_RATE = 0.01\n",
    "EPOCHS = 50\n",
    "classification_threshold = 0.47\n",
    "VALIDATION_SPLIT = 0.2\n",
    "\n",
    "print(\"Number of input nodes = \" + str(INPUT_SHAPE))\n",
    "print(\"Number of output nodes = \" + str(n_labels_to_consider))\n",
    "\n",
    "# Generate neural net model with 3 hidden layers, each with 512 nodes and \n",
    "# ReLU activation function. Output layer uses a sigmoid activation function.\n",
    "model = tf.keras.Sequential([\n",
    "    tf.keras.layers.BatchNormalization(input_shape=INPUT_SHAPE),    \n",
    "    tf.keras.layers.Dense(units=512, activation='relu'),\n",
    "    #tf.keras.layers.Dropout(rate=0.2),\n",
    "    tf.keras.layers.Dense(units=512, activation='relu'),\n",
    "    tf.keras.layers.Dense(units=512, activation='relu'),\n",
    "    tf.keras.layers.Dense(units=n_labels_to_consider,activation='sigmoid')\n",
    "])\n",
    "\n",
    "\n",
    "# Compile model, using Binary CrossEntropy loss function\n",
    "model.compile(\n",
    "    optimizer=tf.keras.optimizers.Adam(learning_rate=LEARNING_RATE),\n",
    "    loss='binary_crossentropy',\n",
    "    metrics=[\n",
    "        tf.keras.metrics.BinaryAccuracy(threshold=classification_threshold,\n",
    "                                       name='binary_accuracy'),\n",
    "        tf.keras.metrics.Precision(thresholds=classification_threshold,\n",
    "                                 name='precision'),\n",
    "        tf.keras.metrics.Recall(thresholds=classification_threshold,\n",
    "                              name=\"recall\"),\n",
    "        tf.keras.metrics.AUC(num_thresholds=100, \n",
    "                             name='auc'),\n",
    "        tfa.metrics.F1Score(num_classes=n_labels_to_consider, \n",
    "                            threshold=classification_threshold,\n",
    "                            name='f1_score')\n",
    "        #tf.keras.metrics.F1Score(threshold=classification_threshold,\n",
    "        #                         name='f1_score'),\n",
    "        # tf.keras.metrics.MeanIoU(num_classes=n_labels_to_consider),\n",
    "    ],  \n",
    ")\n",
    "\n",
    "history = model.fit(\n",
    "    df_X, df_Y,\n",
    "    batch_size=BATCH_SIZE,\n",
    "    epochs=EPOCHS,\n",
    "    validation_split=VALIDATION_SPLIT,\n",
    ")\n",
    "\n",
    "epochs = history.epoch\n",
    "# The list of epochs is stored separately from the rest of history.\n",
    "\n",
    "history_df = pd.DataFrame(history.history)\n",
    "# Create a pandas DataFrame 'history_df' from the 'history' object, which typically contains the training history of a neural network model.\n",
    "# Each metric tracked during training, such as loss and accuracy, is stored in 'history' as a dictionary.\n",
    "# The DataFrame 'history_df' is constructed from this dictionary."
   ]
  },
  {
   "cell_type": "markdown",
   "id": "dc537e38",
   "metadata": {
    "papermill": {
     "duration": 0.125407,
     "end_time": "2023-06-01T02:25:11.353049",
     "exception": false,
     "start_time": "2023-06-01T02:25:11.227642",
     "status": "completed"
    },
    "tags": []
   },
   "source": [
    "**Accuracy** is high (98%) but that doesn't mean much because we have highly imbalanced classes (number of positives vs negatives for each label).\n",
    "\n",
    "**Precision** is pretty average (~67%), meaning that we have a substantial number of False Positives (i.e. Of the Positives the model called, only 67% were correct, 33% were incorrect).\n",
    "\n",
    "**Recall** is low (~25%), meaning that we have a lot of False Negatives (i.e. many True Positives that the model missed).\n",
    "\n",
    "**AUC** is actually pretty high (93%), meaning (I think) that if we can find the right classification_threshold then Precision and Recall should get substantially better."
   ]
  },
  {
   "cell_type": "code",
   "execution_count": 17,
   "id": "6e4a7bed",
   "metadata": {
    "execution": {
     "iopub.execute_input": "2023-06-01T02:25:11.592055Z",
     "iopub.status.busy": "2023-06-01T02:25:11.591565Z",
     "iopub.status.idle": "2023-06-01T02:25:11.598418Z",
     "shell.execute_reply": "2023-06-01T02:25:11.597141Z"
    },
    "papermill": {
     "duration": 0.129039,
     "end_time": "2023-06-01T02:25:11.600856",
     "exception": false,
     "start_time": "2023-06-01T02:25:11.471817",
     "status": "completed"
    },
    "tags": []
   },
   "outputs": [],
   "source": [
    "## Statistics Recordings for Different Combinations of Hyperparameters:\n",
    "\n",
    "# For 20 Epochs, 0.5 threshold, 0.001 learning_rate final stats are:\n",
    "# - loss: 0.0545 - binary_accuracy: 0.9823 - precision: 0.6825 - recall: 0.2751 - auc: 0.9370\n",
    "\n",
    "# For 20 Epochs, 0.5 threshold, 0.01 learning_rate final stats are:\n",
    "# - loss: 0.0514 - binary_accuracy: 0.9829 - precision: 0.6907 - recall: 0.3167 - auc: 0.9444\n",
    "\n",
    "# For 10 Epochs, 0.3 threshold, 0.01 learning_rate, 5120 batch_size; final stats are:\n",
    "# - loss: 0.0569 - binary_accuracy: 0.9800 - precision: 0.5220 - recall: 0.4115 - auc: 0.9297\n",
    "# Precision down by 17%, recall up by 10%.\n",
    "\n",
    "# For 10 Epochs, 0.7 threshold, 0.01 learning_rate, 5120 batch_size; final stats are:\n",
    "# - loss: 0.0566 - binary_accuracy: 0.9809 - precision: 0.7977 - recall: 0.1074 - auc: 0.9309\n",
    "# Precision up by 10%, recall down by 20%.\n",
    "\n",
    "# For 10 Epochs, 0.55 threshold, 0.01 learning_rate, 5120 batch_size; final stats are:\n",
    "# - loss: 0.0569 - binary_accuracy: 0.9817 - precision: 0.6979 - recall: 0.2087 - auc: 0.9302\n",
    "\n",
    "# For 10 Epochs, 0.45 threshold, 0.01 learning_rate, 5120 batch_size; final stats are:\n",
    "# - loss: 0.0567 - binary_accuracy: 0.9818 - precision: 0.6327 - recall: 0.2861 - auc: 0.9306\n",
    "\n",
    "# For 20 Epochs, 0.47 threshold, 0.01 learning_rate, 5120 batch_size; final stats are:\n",
    "# - loss: 0.0513 - binary_accuracy: 0.9830 - precision: 0.6751 - recall: 0.3443 - auc: 0.9443\n",
    "\n",
    "# For 40 Epochs, 0.47 threshold, 0.01 learning_rate, 5120 batch_size; final stats are:\n",
    "# - loss: 0.0473 - binary_accuracy: 0.9839 - precision: 0.6966 - recall: 0.3980 - auc: 0.9531 *****\n",
    "\n",
    "# For 50 Epochs, 0.47 threshold, 0.01 learning_rate, 512 batch_size; final stats are:\n",
    "# - loss: 0.0497 - binary_accuracy: 0.9836 - precision: 0.6902 - recall: 0.3776 - auc: 0.9463\n",
    "\n",
    "# For 10 Epochs, 0.47 threshold, 0.01 learning_rate, 5120 batch_size, 0.2 validation_split; final stats are:\n",
    "#  loss: 0.0572 - binary_accuracy: 0.9812 - precision: 0.6525 - recall: 0.3176 - auc: 0.9369 - f1_score: 0.1624 - val_loss: 0.0480 - val_binary_accuracy: 0.9850 - val_precision: 0.5081 - val_recall: 0.3195 - val_auc: 0.9178 - val_f1_score: 0.1453\n",
    "\n",
    "# For 10 Epochs, 0.47 threshold, 0.01 learning_rate, 1024 batch_size, 0.2 validation_split, with 2x Dropout layers; final stats are:\n",
    "# - loss: 0.0621 - binary_accuracy: 0.9803 - precision: 0.6304 - recall: 0.2644 - auc: 0.9235 - f1_score: 0.0948 - val_loss: 0.0511 - val_binary_accuracy: 0.9843 - val_precision: 0.4735 - val_recall: 0.2997 - val_auc: 0.9239 - val_f1_score: 0.1050\n",
    "\n",
    "# For 50 Epochs, 0.47 threshold, 0.01 learning_rate, 5120 batch_size; final stats are:\n",
    "# - loss: 0.0466 - binary_accuracy: 0.9838 - precision: 0.7159 - recall: 0.4452 - auc: 0.9594 - f1_score: 0.3013 - val_loss: 0.0491 - val_binary_accuracy: 0.9847 - val_precision: 0.4950 - val_recall: 0.3826 - val_auc: 0.9118 - val_f1_score: 0.2135\n",
    "\n"
   ]
  },
  {
   "cell_type": "code",
   "execution_count": 18,
   "id": "c2d29c79",
   "metadata": {
    "execution": {
     "iopub.execute_input": "2023-06-01T02:25:11.836783Z",
     "iopub.status.busy": "2023-06-01T02:25:11.836133Z",
     "iopub.status.idle": "2023-06-01T02:25:11.840911Z",
     "shell.execute_reply": "2023-06-01T02:25:11.840072Z"
    },
    "papermill": {
     "duration": 0.125975,
     "end_time": "2023-06-01T02:25:11.843027",
     "exception": false,
     "start_time": "2023-06-01T02:25:11.717052",
     "status": "completed"
    },
    "tags": []
   },
   "outputs": [],
   "source": [
    "## WORK IN PROGRESS - NOTES\n",
    "\n",
    "# Tried:\n",
    "# - adding metric tf.keras.metrics.F1Score() => not stably implemented in Keras yet (although is in nightly build...)\n",
    "# - adding metric tf.keras.metrics.MeanIoU(), which I think is equivalent to Jaccard index (?) => slowed down training and gave the same value for each Epoch (no improvement through training)\n",
    "\n",
    "# Still to try:\n",
    "# - different classification_thresholds (started doing this...)\n",
    "# - different numbers of layers & nodes\n",
    "# - regularization and/or dropout layers\n",
    "# - \n",
    "\n"
   ]
  },
  {
   "cell_type": "markdown",
   "id": "e9ddd4f2",
   "metadata": {
    "papermill": {
     "duration": 0.193138,
     "end_time": "2023-06-01T02:25:12.155196",
     "exception": false,
     "start_time": "2023-06-01T02:25:11.962058",
     "status": "completed"
    },
    "tags": []
   },
   "source": [
    "### Plot the model's loss and accuracy for each epoch\n"
   ]
  },
  {
   "cell_type": "code",
   "execution_count": 19,
   "id": "a0aaf10a",
   "metadata": {
    "execution": {
     "iopub.execute_input": "2023-06-01T02:25:12.392158Z",
     "iopub.status.busy": "2023-06-01T02:25:12.391376Z",
     "iopub.status.idle": "2023-06-01T02:25:12.398313Z",
     "shell.execute_reply": "2023-06-01T02:25:12.397328Z"
    },
    "papermill": {
     "duration": 0.126544,
     "end_time": "2023-06-01T02:25:12.400379",
     "exception": false,
     "start_time": "2023-06-01T02:25:12.273835",
     "status": "completed"
    },
    "tags": []
   },
   "outputs": [
    {
     "name": "stdout",
     "output_type": "stream",
     "text": [
      "Defined the plot_curve function.\n"
     ]
    }
   ],
   "source": [
    "# Define the plotting function.\n",
    "def plot_curve(epochs, hist, list_of_metrics):\n",
    "    \"\"\"Plot a curve of one or more classification metrics vs. epoch.\"\"\"  \n",
    "    # list_of_metrics should be one of the names shown in:\n",
    "    # https://www.tensorflow.org/tutorials/structured_data/imbalanced_data#define_the_model_and_metrics  \n",
    "\n",
    "    plt.figure()\n",
    "    plt.xlabel(\"Epoch\")\n",
    "    plt.ylabel(\"Value\")\n",
    "\n",
    "    for m in list_of_metrics:\n",
    "        x = hist[m]\n",
    "        plt.plot(epochs[0:], x[0:], label=m)\n",
    "        \n",
    "    plt.legend()\n",
    "\n",
    "print(\"Defined the plot_curve function.\")"
   ]
  },
  {
   "cell_type": "code",
   "execution_count": 20,
   "id": "fa49850a",
   "metadata": {
    "execution": {
     "iopub.execute_input": "2023-06-01T02:25:12.637938Z",
     "iopub.status.busy": "2023-06-01T02:25:12.636757Z",
     "iopub.status.idle": "2023-06-01T02:25:12.983241Z",
     "shell.execute_reply": "2023-06-01T02:25:12.982095Z"
    },
    "papermill": {
     "duration": 0.469298,
     "end_time": "2023-06-01T02:25:12.985718",
     "exception": false,
     "start_time": "2023-06-01T02:25:12.516420",
     "status": "completed"
    },
    "tags": []
   },
   "outputs": [
    {
     "data": {
      "image/png": "[encoded data removed]",
      "text/plain": [
       "<Figure size 640x480 with 1 Axes>"
      ]
     },
     "metadata": {},
     "output_type": "display_data"
    }
   ],
   "source": [
    "# Plot a graph of the metric(s) vs. epochs.\n",
    "list_of_metrics_to_plot = ['binary_accuracy', 'precision', 'recall', ] # 'f1_score' \n",
    "\n",
    "plot_curve(epochs, history_df, list_of_metrics_to_plot)"
   ]
  },
  {
   "cell_type": "code",
   "execution_count": 21,
   "id": "54cf325c",
   "metadata": {
    "execution": {
     "iopub.execute_input": "2023-06-01T02:25:13.224507Z",
     "iopub.status.busy": "2023-06-01T02:25:13.224112Z",
     "iopub.status.idle": "2023-06-01T02:25:13.483590Z",
     "shell.execute_reply": "2023-06-01T02:25:13.482718Z"
    },
    "papermill": {
     "duration": 0.383531,
     "end_time": "2023-06-01T02:25:13.485692",
     "exception": false,
     "start_time": "2023-06-01T02:25:13.102161",
     "status": "completed"
    },
    "tags": []
   },
   "outputs": [
    {
     "data": {
      "image/png": "[encoded data removed]",
      "text/plain": [
       "<Figure size 640x480 with 1 Axes>"
      ]
     },
     "metadata": {},
     "output_type": "display_data"
    }
   ],
   "source": [
    "# Plot a graph of the Area under the curve (AUC) of the Receiver Operating Characteristic (ROC) vs. epochs.\n",
    "list_of_metrics_to_plot = ['auc'] \n",
    "\n",
    "plot_curve(epochs, history_df, list_of_metrics_to_plot)"
   ]
  },
  {
   "cell_type": "markdown",
   "id": "4c74504e",
   "metadata": {
    "execution": {
     "iopub.execute_input": "2023-05-31T00:29:52.536653Z",
     "iopub.status.busy": "2023-05-31T00:29:52.536269Z",
     "iopub.status.idle": "2023-05-31T00:29:52.542364Z",
     "shell.execute_reply": "2023-05-31T00:29:52.540801Z",
     "shell.execute_reply.started": "2023-05-31T00:29:52.536626Z"
    },
    "papermill": {
     "duration": 0.119243,
     "end_time": "2023-06-01T02:25:13.723026",
     "exception": false,
     "start_time": "2023-06-01T02:25:13.603783",
     "status": "completed"
    },
    "tags": []
   },
   "source": [
    "## Submission\n"
   ]
  },
  {
   "cell_type": "markdown",
   "id": "77a1b4fe",
   "metadata": {
    "execution": {
     "iopub.execute_input": "2023-05-31T00:46:21.121880Z",
     "iopub.status.busy": "2023-05-31T00:46:21.121533Z",
     "iopub.status.idle": "2023-05-31T00:46:21.128174Z",
     "shell.execute_reply": "2023-05-31T00:46:21.126523Z",
     "shell.execute_reply.started": "2023-05-31T00:46:21.121852Z"
    },
    "papermill": {
     "duration": 0.118346,
     "end_time": "2023-06-01T02:25:13.959499",
     "exception": false,
     "start_time": "2023-06-01T02:25:13.841153",
     "status": "completed"
    },
    "tags": []
   },
   "source": [
    "For submission we will use the protein embeddings of the test data created by Sergei Fironov using the Rost Lab's T5 protein language model.\n",
    "\n"
   ]
  },
  {
   "cell_type": "code",
   "execution_count": 22,
   "id": "10ab325d",
   "metadata": {
    "execution": {
     "iopub.execute_input": "2023-06-01T02:25:14.197095Z",
     "iopub.status.busy": "2023-06-01T02:25:14.196327Z",
     "iopub.status.idle": "2023-06-01T02:25:24.280610Z",
     "shell.execute_reply": "2023-06-01T02:25:24.279349Z"
    },
    "papermill": {
     "duration": 10.204764,
     "end_time": "2023-06-01T02:25:24.283074",
     "exception": false,
     "start_time": "2023-06-01T02:25:14.078310",
     "status": "completed"
    },
    "tags": []
   },
   "outputs": [
    {
     "name": "stdout",
     "output_type": "stream",
     "text": [
      "(141865, 1024)\n"
     ]
    }
   ],
   "source": [
    "test_embeddings = np.load('/kaggle/input/t5embeds/test_embeds.npy')\n",
    "\n",
    "# Convert test_embeddings to dataframe\n",
    "column_num = test_embeddings.shape[1]\n",
    "test_df = pd.DataFrame(test_embeddings, columns = [\"Column_\" + str(i) for i in range(1, column_num+1)])\n",
    "print(test_df.shape)\n"
   ]
  },
  {
   "cell_type": "markdown",
   "id": "1cdce648",
   "metadata": {
    "papermill": {
     "duration": 0.115989,
     "end_time": "2023-06-01T02:25:24.517545",
     "exception": false,
     "start_time": "2023-06-01T02:25:24.401556",
     "status": "completed"
    },
    "tags": []
   },
   "source": [
    "The `test_df` is composed of 1024 columns and 141865 entries. We can see all 1024 dimensions(results will be truncated since column length is too long) of our dataset by printing out the first 5 entries using the following code:"
   ]
  },
  {
   "cell_type": "code",
   "execution_count": 23,
   "id": "ef7daa0d",
   "metadata": {
    "execution": {
     "iopub.execute_input": "2023-06-01T02:25:24.753002Z",
     "iopub.status.busy": "2023-06-01T02:25:24.752557Z",
     "iopub.status.idle": "2023-06-01T02:25:24.779288Z",
     "shell.execute_reply": "2023-06-01T02:25:24.778151Z"
    },
    "papermill": {
     "duration": 0.146851,
     "end_time": "2023-06-01T02:25:24.781558",
     "exception": false,
     "start_time": "2023-06-01T02:25:24.634707",
     "status": "completed"
    },
    "tags": []
   },
   "outputs": [
    {
     "data": {
      "text/html": [
       "<div>\n",
       "<style scoped>\n",
       "    .dataframe tbody tr th:only-of-type {\n",
       "        vertical-align: middle;\n",
       "    }\n",
       "\n",
       "    .dataframe tbody tr th {\n",
       "        vertical-align: top;\n",
       "    }\n",
       "\n",
       "    .dataframe thead th {\n",
       "        text-align: right;\n",
       "    }\n",
       "</style>\n",
       "<table border=\"1\" class=\"dataframe\">\n",
       "  <thead>\n",
       "    <tr style=\"text-align: right;\">\n",
       "      <th></th>\n",
       "      <th>Column_1</th>\n",
       "      <th>Column_2</th>\n",
       "      <th>Column_3</th>\n",
       "      <th>Column_4</th>\n",
       "      <th>Column_5</th>\n",
       "      <th>Column_6</th>\n",
       "      <th>Column_7</th>\n",
       "      <th>Column_8</th>\n",
       "      <th>Column_9</th>\n",
       "      <th>Column_10</th>\n",
       "      <th>...</th>\n",
       "      <th>Column_1015</th>\n",
       "      <th>Column_1016</th>\n",
       "      <th>Column_1017</th>\n",
       "      <th>Column_1018</th>\n",
       "      <th>Column_1019</th>\n",
       "      <th>Column_1020</th>\n",
       "      <th>Column_1021</th>\n",
       "      <th>Column_1022</th>\n",
       "      <th>Column_1023</th>\n",
       "      <th>Column_1024</th>\n",
       "    </tr>\n",
       "  </thead>\n",
       "  <tbody>\n",
       "    <tr>\n",
       "      <th>0</th>\n",
       "      <td>0.054705</td>\n",
       "      <td>0.063420</td>\n",
       "      <td>-0.015320</td>\n",
       "      <td>-0.016506</td>\n",
       "      <td>0.042195</td>\n",
       "      <td>0.021592</td>\n",
       "      <td>-0.118535</td>\n",
       "      <td>-0.063298</td>\n",
       "      <td>-0.046146</td>\n",
       "      <td>-0.102311</td>\n",
       "      <td>...</td>\n",
       "      <td>-0.019581</td>\n",
       "      <td>-0.043712</td>\n",
       "      <td>-0.072322</td>\n",
       "      <td>0.002404</td>\n",
       "      <td>0.018459</td>\n",
       "      <td>-0.047278</td>\n",
       "      <td>0.012195</td>\n",
       "      <td>-0.043319</td>\n",
       "      <td>0.036009</td>\n",
       "      <td>0.063093</td>\n",
       "    </tr>\n",
       "    <tr>\n",
       "      <th>1</th>\n",
       "      <td>0.090373</td>\n",
       "      <td>0.089842</td>\n",
       "      <td>-0.023887</td>\n",
       "      <td>-0.011446</td>\n",
       "      <td>0.051465</td>\n",
       "      <td>0.020982</td>\n",
       "      <td>-0.110989</td>\n",
       "      <td>-0.066646</td>\n",
       "      <td>-0.041259</td>\n",
       "      <td>-0.087551</td>\n",
       "      <td>...</td>\n",
       "      <td>-0.024399</td>\n",
       "      <td>-0.041957</td>\n",
       "      <td>-0.066329</td>\n",
       "      <td>0.006856</td>\n",
       "      <td>0.028449</td>\n",
       "      <td>-0.053758</td>\n",
       "      <td>0.009699</td>\n",
       "      <td>-0.053350</td>\n",
       "      <td>0.019644</td>\n",
       "      <td>0.079630</td>\n",
       "    </tr>\n",
       "    <tr>\n",
       "      <th>2</th>\n",
       "      <td>0.043588</td>\n",
       "      <td>0.039572</td>\n",
       "      <td>-0.014332</td>\n",
       "      <td>-0.011769</td>\n",
       "      <td>0.045109</td>\n",
       "      <td>0.015847</td>\n",
       "      <td>-0.103339</td>\n",
       "      <td>-0.047735</td>\n",
       "      <td>-0.022730</td>\n",
       "      <td>-0.091452</td>\n",
       "      <td>...</td>\n",
       "      <td>-0.029648</td>\n",
       "      <td>-0.037944</td>\n",
       "      <td>-0.046043</td>\n",
       "      <td>0.003603</td>\n",
       "      <td>0.018028</td>\n",
       "      <td>-0.030746</td>\n",
       "      <td>0.003671</td>\n",
       "      <td>-0.044464</td>\n",
       "      <td>0.030974</td>\n",
       "      <td>0.040322</td>\n",
       "    </tr>\n",
       "    <tr>\n",
       "      <th>3</th>\n",
       "      <td>0.055668</td>\n",
       "      <td>0.049560</td>\n",
       "      <td>-0.019646</td>\n",
       "      <td>-0.006977</td>\n",
       "      <td>0.039897</td>\n",
       "      <td>0.021177</td>\n",
       "      <td>-0.108079</td>\n",
       "      <td>-0.047191</td>\n",
       "      <td>-0.031517</td>\n",
       "      <td>-0.100057</td>\n",
       "      <td>...</td>\n",
       "      <td>-0.023210</td>\n",
       "      <td>-0.041704</td>\n",
       "      <td>-0.048440</td>\n",
       "      <td>0.006088</td>\n",
       "      <td>0.020110</td>\n",
       "      <td>-0.046751</td>\n",
       "      <td>-0.006635</td>\n",
       "      <td>-0.041455</td>\n",
       "      <td>0.016683</td>\n",
       "      <td>0.057030</td>\n",
       "    </tr>\n",
       "    <tr>\n",
       "      <th>4</th>\n",
       "      <td>0.022637</td>\n",
       "      <td>0.014306</td>\n",
       "      <td>-0.002696</td>\n",
       "      <td>-0.034456</td>\n",
       "      <td>0.034854</td>\n",
       "      <td>0.020822</td>\n",
       "      <td>-0.114046</td>\n",
       "      <td>-0.050019</td>\n",
       "      <td>-0.026491</td>\n",
       "      <td>-0.097928</td>\n",
       "      <td>...</td>\n",
       "      <td>-0.019185</td>\n",
       "      <td>-0.032108</td>\n",
       "      <td>-0.051394</td>\n",
       "      <td>0.008448</td>\n",
       "      <td>0.015208</td>\n",
       "      <td>-0.037987</td>\n",
       "      <td>0.030977</td>\n",
       "      <td>-0.042407</td>\n",
       "      <td>0.041232</td>\n",
       "      <td>0.047161</td>\n",
       "    </tr>\n",
       "  </tbody>\n",
       "</table>\n",
       "<p>5 rows × 1024 columns</p>\n",
       "</div>"
      ],
      "text/plain": [
       "   Column_1  Column_2  Column_3  Column_4  Column_5  Column_6  Column_7  \\\n",
       "0  0.054705  0.063420 -0.015320 -0.016506  0.042195  0.021592 -0.118535   \n",
       "1  0.090373  0.089842 -0.023887 -0.011446  0.051465  0.020982 -0.110989   \n",
       "2  0.043588  0.039572 -0.014332 -0.011769  0.045109  0.015847 -0.103339   \n",
       "3  0.055668  0.049560 -0.019646 -0.006977  0.039897  0.021177 -0.108079   \n",
       "4  0.022637  0.014306 -0.002696 -0.034456  0.034854  0.020822 -0.114046   \n",
       "\n",
       "   Column_8  Column_9  Column_10  ...  Column_1015  Column_1016  Column_1017  \\\n",
       "0 -0.063298 -0.046146  -0.102311  ...    -0.019581    -0.043712    -0.072322   \n",
       "1 -0.066646 -0.041259  -0.087551  ...    -0.024399    -0.041957    -0.066329   \n",
       "2 -0.047735 -0.022730  -0.091452  ...    -0.029648    -0.037944    -0.046043   \n",
       "3 -0.047191 -0.031517  -0.100057  ...    -0.023210    -0.041704    -0.048440   \n",
       "4 -0.050019 -0.026491  -0.097928  ...    -0.019185    -0.032108    -0.051394   \n",
       "\n",
       "   Column_1018  Column_1019  Column_1020  Column_1021  Column_1022  \\\n",
       "0     0.002404     0.018459    -0.047278     0.012195    -0.043319   \n",
       "1     0.006856     0.028449    -0.053758     0.009699    -0.053350   \n",
       "2     0.003603     0.018028    -0.030746     0.003671    -0.044464   \n",
       "3     0.006088     0.020110    -0.046751    -0.006635    -0.041455   \n",
       "4     0.008448     0.015208    -0.037987     0.030977    -0.042407   \n",
       "\n",
       "   Column_1023  Column_1024  \n",
       "0     0.036009     0.063093  \n",
       "1     0.019644     0.079630  \n",
       "2     0.030974     0.040322  \n",
       "3     0.016683     0.057030  \n",
       "4     0.041232     0.047161  \n",
       "\n",
       "[5 rows x 1024 columns]"
      ]
     },
     "execution_count": 23,
     "metadata": {},
     "output_type": "execute_result"
    }
   ],
   "source": [
    "test_df.head()\n"
   ]
  },
  {
   "cell_type": "markdown",
   "id": "5da4f87d",
   "metadata": {
    "papermill": {
     "duration": 0.116385,
     "end_time": "2023-06-01T02:25:25.016088",
     "exception": false,
     "start_time": "2023-06-01T02:25:24.899703",
     "status": "completed"
    },
    "tags": []
   },
   "source": [
    "Use the model to make predictions on the test embeddings:"
   ]
  },
  {
   "cell_type": "code",
   "execution_count": 24,
   "id": "3417d25b",
   "metadata": {
    "execution": {
     "iopub.execute_input": "2023-06-01T02:25:25.253717Z",
     "iopub.status.busy": "2023-06-01T02:25:25.253305Z",
     "iopub.status.idle": "2023-06-01T02:25:52.578014Z",
     "shell.execute_reply": "2023-06-01T02:25:52.576875Z"
    },
    "papermill": {
     "duration": 27.446686,
     "end_time": "2023-06-01T02:25:52.580597",
     "exception": false,
     "start_time": "2023-06-01T02:25:25.133911",
     "status": "completed"
    },
    "tags": []
   },
   "outputs": [
    {
     "name": "stdout",
     "output_type": "stream",
     "text": [
      "4434/4434 [==============================] - 21s 5ms/step\n"
     ]
    }
   ],
   "source": [
    "predictions =  model.predict(test_df)"
   ]
  },
  {
   "cell_type": "markdown",
   "id": "a3fee34c",
   "metadata": {
    "papermill": {
     "duration": 0.142796,
     "end_time": "2023-06-01T02:25:52.868984",
     "exception": false,
     "start_time": "2023-06-01T02:25:52.726188",
     "status": "completed"
    },
    "tags": []
   },
   "source": [
    "From the predictions we will create the submission dataframe.\n",
    "\n",
    "Note: This will take at least 15 to 20 minutes to finish."
   ]
  },
  {
   "cell_type": "code",
   "execution_count": 25,
   "id": "333f615a",
   "metadata": {
    "execution": {
     "iopub.execute_input": "2023-06-01T02:25:53.158906Z",
     "iopub.status.busy": "2023-06-01T02:25:53.157688Z",
     "iopub.status.idle": "2023-06-01T02:36:49.096981Z",
     "shell.execute_reply": "2023-06-01T02:36:49.095627Z"
    },
    "papermill": {
     "duration": 656.087231,
     "end_time": "2023-06-01T02:36:49.100026",
     "exception": false,
     "start_time": "2023-06-01T02:25:53.012795",
     "status": "completed"
    },
    "tags": []
   },
   "outputs": [],
   "source": [
    "# Reference: https://www.kaggle.com/code/alexandervc/baseline-multilabel-to-multitarget-binary\n",
    "\n",
    "df_submission = pd.DataFrame(columns=['Protein Id', 'GO Term Id', 'Prediction'])\n",
    "# Create an empty DataFrame 'df_submission' with columns named 'Protein Id', 'GO Term Id', and 'Prediction'.\n",
    "# The DataFrame will be used to store the submission data.\n",
    "\n",
    "test_protein_ids = np.load('/kaggle/input/t5embeds/test_ids.npy')\n",
    "# Load the test protein IDs from the specified file path using 'np.load()'.\n",
    "\n",
    "l = []\n",
    "for k in list(test_protein_ids):\n",
    "    l += [k] * predictions.shape[1]\n",
    "# Create a list 'l' that repeats each test protein ID 'predictions.shape[1]' times.\n",
    "# This is done to match the number of predictions per protein in the 'predictions' array.\n",
    "\n",
    "df_submission['Protein Id'] = l\n",
    "# Assign the list 'l' as the values for the 'Protein Id' column in the 'df_submission' DataFrame.\n",
    "\n",
    "df_submission['GO Term Id'] = labels_to_consider * predictions.shape[0]\n",
    "# Repeat the 'labels' list 'predictions.shape[0]' times and assign it as the values for the 'GO Term Id' column in 'df_submission'.\n",
    "\n",
    "df_submission['Prediction'] = predictions.ravel()\n",
    "# Flatten the 'predictions' array into a 1-dimensional array and assign it as the values for the 'Prediction' column in 'df_submission'.\n",
    "\n",
    "df_submission.to_csv(\"submission.tsv\", header=False, index=False, sep=\"\\t\")\n",
    "# Save the 'df_submission' DataFrame as a TSV file named \"submission.tsv\".\n",
    "# The 'header=False' parameter ensures that the column names are not included in the output file.\n",
    "# The 'index=False' parameter excludes the index column from the output file.\n",
    "# The 'sep=\"\\t\"' parameter sets the delimiter to a tab character for TSV format."
   ]
  },
  {
   "cell_type": "code",
   "execution_count": 26,
   "id": "65a9352a",
   "metadata": {
    "execution": {
     "iopub.execute_input": "2023-06-01T02:36:49.471979Z",
     "iopub.status.busy": "2023-06-01T02:36:49.471254Z",
     "iopub.status.idle": "2023-06-01T02:36:49.484592Z",
     "shell.execute_reply": "2023-06-01T02:36:49.483704Z"
    },
    "papermill": {
     "duration": 0.160748,
     "end_time": "2023-06-01T02:36:49.486806",
     "exception": false,
     "start_time": "2023-06-01T02:36:49.326058",
     "status": "completed"
    },
    "tags": []
   },
   "outputs": [
    {
     "data": {
      "text/html": [
       "<div>\n",
       "<style scoped>\n",
       "    .dataframe tbody tr th:only-of-type {\n",
       "        vertical-align: middle;\n",
       "    }\n",
       "\n",
       "    .dataframe tbody tr th {\n",
       "        vertical-align: top;\n",
       "    }\n",
       "\n",
       "    .dataframe thead th {\n",
       "        text-align: right;\n",
       "    }\n",
       "</style>\n",
       "<table border=\"1\" class=\"dataframe\">\n",
       "  <thead>\n",
       "    <tr style=\"text-align: right;\">\n",
       "      <th></th>\n",
       "      <th>Protein Id</th>\n",
       "      <th>GO Term Id</th>\n",
       "      <th>Prediction</th>\n",
       "    </tr>\n",
       "  </thead>\n",
       "  <tbody>\n",
       "    <tr>\n",
       "      <th>0</th>\n",
       "      <td>Q9CQV8</td>\n",
       "      <td>GO:0005575</td>\n",
       "      <td>8.819979e-01</td>\n",
       "    </tr>\n",
       "    <tr>\n",
       "      <th>1</th>\n",
       "      <td>Q9CQV8</td>\n",
       "      <td>GO:0008150</td>\n",
       "      <td>6.354282e-01</td>\n",
       "    </tr>\n",
       "    <tr>\n",
       "      <th>2</th>\n",
       "      <td>Q9CQV8</td>\n",
       "      <td>GO:0110165</td>\n",
       "      <td>8.946807e-01</td>\n",
       "    </tr>\n",
       "    <tr>\n",
       "      <th>3</th>\n",
       "      <td>Q9CQV8</td>\n",
       "      <td>GO:0003674</td>\n",
       "      <td>7.358509e-01</td>\n",
       "    </tr>\n",
       "    <tr>\n",
       "      <th>4</th>\n",
       "      <td>Q9CQV8</td>\n",
       "      <td>GO:0005622</td>\n",
       "      <td>7.946850e-01</td>\n",
       "    </tr>\n",
       "    <tr>\n",
       "      <th>...</th>\n",
       "      <td>...</td>\n",
       "      <td>...</td>\n",
       "      <td>...</td>\n",
       "    </tr>\n",
       "    <tr>\n",
       "      <th>212655630</th>\n",
       "      <td>A0A3G2FQK2</td>\n",
       "      <td>GO:0045861</td>\n",
       "      <td>7.169740e-04</td>\n",
       "    </tr>\n",
       "    <tr>\n",
       "      <th>212655631</th>\n",
       "      <td>A0A3G2FQK2</td>\n",
       "      <td>GO:0051783</td>\n",
       "      <td>2.579348e-05</td>\n",
       "    </tr>\n",
       "    <tr>\n",
       "      <th>212655632</th>\n",
       "      <td>A0A3G2FQK2</td>\n",
       "      <td>GO:0031674</td>\n",
       "      <td>3.648033e-10</td>\n",
       "    </tr>\n",
       "    <tr>\n",
       "      <th>212655633</th>\n",
       "      <td>A0A3G2FQK2</td>\n",
       "      <td>GO:0001818</td>\n",
       "      <td>4.145089e-08</td>\n",
       "    </tr>\n",
       "    <tr>\n",
       "      <th>212655634</th>\n",
       "      <td>A0A3G2FQK2</td>\n",
       "      <td>GO:0006874</td>\n",
       "      <td>6.532304e-09</td>\n",
       "    </tr>\n",
       "  </tbody>\n",
       "</table>\n",
       "<p>212655635 rows × 3 columns</p>\n",
       "</div>"
      ],
      "text/plain": [
       "           Protein Id  GO Term Id    Prediction\n",
       "0              Q9CQV8  GO:0005575  8.819979e-01\n",
       "1              Q9CQV8  GO:0008150  6.354282e-01\n",
       "2              Q9CQV8  GO:0110165  8.946807e-01\n",
       "3              Q9CQV8  GO:0003674  7.358509e-01\n",
       "4              Q9CQV8  GO:0005622  7.946850e-01\n",
       "...               ...         ...           ...\n",
       "212655630  A0A3G2FQK2  GO:0045861  7.169740e-04\n",
       "212655631  A0A3G2FQK2  GO:0051783  2.579348e-05\n",
       "212655632  A0A3G2FQK2  GO:0031674  3.648033e-10\n",
       "212655633  A0A3G2FQK2  GO:0001818  4.145089e-08\n",
       "212655634  A0A3G2FQK2  GO:0006874  6.532304e-09\n",
       "\n",
       "[212655635 rows x 3 columns]"
      ]
     },
     "execution_count": 26,
     "metadata": {},
     "output_type": "execute_result"
    }
   ],
   "source": [
    "df_submission"
   ]
  },
  {
   "cell_type": "code",
   "execution_count": null,
   "id": "95bd6ae7",
   "metadata": {
    "papermill": {
     "duration": 0.1427,
     "end_time": "2023-06-01T02:36:49.773519",
     "exception": false,
     "start_time": "2023-06-01T02:36:49.630819",
     "status": "completed"
    },
    "tags": []
   },
   "outputs": [],
   "source": []
  }
 ],
 "metadata": {
  "kernelspec": {
   "display_name": "Python 3",
   "language": "python",
   "name": "python3"
  },
  "language_info": {
   "codemirror_mode": {
    "name": "ipython",
    "version": 3
   },
   "file_extension": ".py",
   "mimetype": "text/x-python",
   "name": "python",
   "nbconvert_exporter": "python",
   "pygments_lexer": "ipython3",
   "version": "3.10.10"
  },
  "papermill": {
   "default_parameters": {},
   "duration": 2630.468686,
   "end_time": "2023-06-01T02:36:52.951567",
   "environment_variables": {},
   "exception": null,
   "input_path": "__notebook__.ipynb",
   "output_path": "__notebook__.ipynb",
   "parameters": {},
   "start_time": "2023-06-01T01:53:02.482881",
   "version": "2.4.0"
  }
 },
 "nbformat": 4,
 "nbformat_minor": 5
}
