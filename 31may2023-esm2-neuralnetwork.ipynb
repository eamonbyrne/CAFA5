{
 "cells": [
  {
   "cell_type": "markdown",
   "id": "70883014",
   "metadata": {
    "papermill": {
     "duration": 0.016606,
     "end_time": "2023-06-01T06:29:07.174712",
     "exception": false,
     "start_time": "2023-06-01T06:29:07.158106",
     "status": "completed"
    },
    "tags": []
   },
   "source": [
    "## Erdos Project - CAFA5\n",
    "### AIM: Produce notebook that takes the ESM2 embeddings and uses a simple neural net to generate predictions of protein function.\n",
    "\n",
    "30 May 2023\n",
    "\n",
    "References:\n",
    "\n",
    "https://www.kaggle.com/code/alexandervc/baseline-multilabel-to-multitarget-binary#Prepare-Train-Test-split\n",
    "\n",
    "https://www.kaggle.com/code/gusthema/cafa-5-protein-function-with-tensorflow"
   ]
  },
  {
   "cell_type": "markdown",
   "id": "64fc0f83",
   "metadata": {
    "papermill": {
     "duration": 0.013918,
     "end_time": "2023-06-01T06:29:07.203107",
     "exception": false,
     "start_time": "2023-06-01T06:29:07.189189",
     "status": "completed"
    },
    "tags": []
   },
   "source": [
    "## Notebook Outline\n",
    "\n",
    "The embedding encodes information about the relationships between proteins based upon their sequences (no human labeling was involved in the generation of the embeddings). \n",
    "\n",
    "**ESM2 embeddings**\n",
    "\n",
    "### Steps\n",
    "0. Import packages and load input data.\n",
    "\n",
    "1. Load the training data from the CAFA5 dataset (train_terms.tsv). Convert these data to a multi-one-hot encoded Labels array (\"Y\"), using the protein instances from the ESM2 embedding (rows = protein instances; columns = functional labels).\n",
    "\n",
    "2. Load the ESM2 embedding (/kaggle/input/cafa-5-ems-2-embeddings-numpy/train_embeddings.npy) as features (\"X\").\n",
    "\n",
    "3. Run a neural network model trained on the features (X) and labels (Y).\n",
    "\n"
   ]
  },
  {
   "cell_type": "markdown",
   "id": "4ead32b9",
   "metadata": {
    "papermill": {
     "duration": 0.013863,
     "end_time": "2023-06-01T06:29:07.231057",
     "exception": false,
     "start_time": "2023-06-01T06:29:07.217194",
     "status": "completed"
    },
    "tags": []
   },
   "source": [
    "# 0. Import packages and input data "
   ]
  },
  {
   "cell_type": "code",
   "execution_count": 1,
   "id": "e2e3afd7",
   "metadata": {
    "execution": {
     "iopub.execute_input": "2023-06-01T06:29:07.263751Z",
     "iopub.status.busy": "2023-06-01T06:29:07.262804Z",
     "iopub.status.idle": "2023-06-01T06:29:07.268782Z",
     "shell.execute_reply": "2023-06-01T06:29:07.267696Z"
    },
    "papermill": {
     "duration": 0.028027,
     "end_time": "2023-06-01T06:29:07.274414",
     "exception": false,
     "start_time": "2023-06-01T06:29:07.246387",
     "status": "completed"
    },
    "tags": []
   },
   "outputs": [],
   "source": [
    "# install tf-nightly in order to use F1-score metric\n",
    "# !pip install tf-nightly"
   ]
  },
  {
   "cell_type": "code",
   "execution_count": 2,
   "id": "44364c54",
   "metadata": {
    "_cell_guid": "b1076dfc-b9ad-4769-8c92-a6c4dae69d19",
    "_uuid": "8f2839f25d086af736a60e9eeb907d3b93b6e0e5",
    "execution": {
     "iopub.execute_input": "2023-06-01T06:29:07.307107Z",
     "iopub.status.busy": "2023-06-01T06:29:07.306273Z",
     "iopub.status.idle": "2023-06-01T06:29:18.471634Z",
     "shell.execute_reply": "2023-06-01T06:29:18.470247Z"
    },
    "papermill": {
     "duration": 11.184824,
     "end_time": "2023-06-01T06:29:18.474235",
     "exception": false,
     "start_time": "2023-06-01T06:29:07.289411",
     "status": "completed"
    },
    "tags": []
   },
   "outputs": [
    {
     "name": "stderr",
     "output_type": "stream",
     "text": [
      "/opt/conda/lib/python3.10/site-packages/tensorflow_io/python/ops/__init__.py:98: UserWarning: unable to load libtensorflow_io_plugins.so: unable to open file: libtensorflow_io_plugins.so, from paths: ['/opt/conda/lib/python3.10/site-packages/tensorflow_io/python/ops/libtensorflow_io_plugins.so']\n",
      "caused by: ['/opt/conda/lib/python3.10/site-packages/tensorflow_io/python/ops/libtensorflow_io_plugins.so: undefined symbol: _ZN3tsl6StatusC1EN10tensorflow5error4CodeESt17basic_string_viewIcSt11char_traitsIcEENS_14SourceLocationE']\n",
      "  warnings.warn(f\"unable to load libtensorflow_io_plugins.so: {e}\")\n",
      "/opt/conda/lib/python3.10/site-packages/tensorflow_io/python/ops/__init__.py:104: UserWarning: file system plugins are not loaded: unable to open file: libtensorflow_io.so, from paths: ['/opt/conda/lib/python3.10/site-packages/tensorflow_io/python/ops/libtensorflow_io.so']\n",
      "caused by: ['/opt/conda/lib/python3.10/site-packages/tensorflow_io/python/ops/libtensorflow_io.so: undefined symbol: _ZTVN10tensorflow13GcsFileSystemE']\n",
      "  warnings.warn(f\"file system plugins are not loaded: {e}\")\n"
     ]
    },
    {
     "name": "stdout",
     "output_type": "stream",
     "text": [
      "/kaggle/input/t5embeds/train_ids.npy\n",
      "/kaggle/input/t5embeds/test_embeds.npy\n",
      "/kaggle/input/t5embeds/train_embeds.npy\n",
      "/kaggle/input/t5embeds/test_ids.npy\n",
      "/kaggle/input/cafa-5-protein-function-prediction/sample_submission.tsv\n",
      "/kaggle/input/cafa-5-protein-function-prediction/IA.txt\n",
      "/kaggle/input/cafa-5-protein-function-prediction/Test (Targets)/testsuperset.fasta\n",
      "/kaggle/input/cafa-5-protein-function-prediction/Test (Targets)/testsuperset-taxon-list.tsv\n",
      "/kaggle/input/cafa-5-protein-function-prediction/Train/train_terms.tsv\n",
      "/kaggle/input/cafa-5-protein-function-prediction/Train/train_sequences.fasta\n",
      "/kaggle/input/cafa-5-protein-function-prediction/Train/train_taxonomy.tsv\n",
      "/kaggle/input/cafa-5-protein-function-prediction/Train/go-basic.obo\n",
      "/kaggle/input/cafa-5-ems-2-embeddings-numpy/train_ids.npy\n",
      "/kaggle/input/cafa-5-ems-2-embeddings-numpy/train_embeddings.npy\n",
      "/kaggle/input/cafa-5-ems-2-embeddings-numpy/test_ids.npy\n",
      "/kaggle/input/cafa-5-ems-2-embeddings-numpy/test_embeddings.npy\n",
      "TensorFlow v2.12.0\n",
      "Numpy v1.23.5\n"
     ]
    }
   ],
   "source": [
    "# This Python 3 environment comes with many helpful analytics libraries installed\n",
    "# It is defined by the kaggle/python Docker image: https://github.com/kaggle/docker-python\n",
    "# For example, here's several helpful packages to load\n",
    "\n",
    "import numpy as np # linear algebra\n",
    "import pandas as pd # data processing, CSV file I/O (e.g. pd.read_csv)\n",
    "import tensorflow as tf # neural net modeling\n",
    "import seaborn as sns # pretty graphing\n",
    "import matplotlib.pyplot as plt # graphing\n",
    "import progressbar # Required for progressbar widget\n",
    "\n",
    "# Input data files are available in the read-only \"../input/\" directory\n",
    "# For example, running this (by clicking run or pressing Shift+Enter) will list all files under the input directory\n",
    "\n",
    "import os\n",
    "for dirname, _, filenames in os.walk('/kaggle/input'):\n",
    "    for filename in filenames:\n",
    "        print(os.path.join(dirname, filename))\n",
    "\n",
    "        \n",
    "print(\"TensorFlow v\" + tf.__version__)\n",
    "print(\"Numpy v\" + np.__version__)\n",
    "\n",
    "# You can write up to 20GB to the current directory (/kaggle/working/) that gets preserved as output when you create a version using \"Save & Run All\" \n",
    "# You can also write temporary files to /kaggle/temp/, but they won't be saved outside of the current session"
   ]
  },
  {
   "cell_type": "code",
   "execution_count": 3,
   "id": "f47e22ff",
   "metadata": {
    "execution": {
     "iopub.execute_input": "2023-06-01T06:29:18.506186Z",
     "iopub.status.busy": "2023-06-01T06:29:18.505400Z",
     "iopub.status.idle": "2023-06-01T06:29:18.510222Z",
     "shell.execute_reply": "2023-06-01T06:29:18.509363Z"
    },
    "papermill": {
     "duration": 0.023632,
     "end_time": "2023-06-01T06:29:18.512497",
     "exception": false,
     "start_time": "2023-06-01T06:29:18.488865",
     "status": "completed"
    },
    "tags": []
   },
   "outputs": [],
   "source": [
    "n_labels_to_consider = 1499 # We will choose only top frequent labels (in train) and predict only them. "
   ]
  },
  {
   "cell_type": "markdown",
   "id": "237dd4cb",
   "metadata": {
    "papermill": {
     "duration": 0.01453,
     "end_time": "2023-06-01T06:29:18.541835",
     "exception": false,
     "start_time": "2023-06-01T06:29:18.527305",
     "status": "completed"
    },
    "tags": []
   },
   "source": [
    "# 1. Load training data from CAFA5 dataset & convert to Labels array (Y)"
   ]
  },
  {
   "cell_type": "markdown",
   "id": "e14129fd",
   "metadata": {
    "papermill": {
     "duration": 0.014427,
     "end_time": "2023-06-01T06:29:18.570834",
     "exception": false,
     "start_time": "2023-06-01T06:29:18.556407",
     "status": "completed"
    },
    "tags": []
   },
   "source": [
    "### Load CAFA5 training set into a pandas dataframe"
   ]
  },
  {
   "cell_type": "code",
   "execution_count": 4,
   "id": "2e40e6fb",
   "metadata": {
    "execution": {
     "iopub.execute_input": "2023-06-01T06:29:18.601968Z",
     "iopub.status.busy": "2023-06-01T06:29:18.601339Z",
     "iopub.status.idle": "2023-06-01T06:29:23.579559Z",
     "shell.execute_reply": "2023-06-01T06:29:23.578738Z"
    },
    "papermill": {
     "duration": 4.996603,
     "end_time": "2023-06-01T06:29:23.582009",
     "exception": false,
     "start_time": "2023-06-01T06:29:18.585406",
     "status": "completed"
    },
    "tags": []
   },
   "outputs": [
    {
     "name": "stdout",
     "output_type": "stream",
     "text": [
      "Shape of train_terms.tsv dataset: (5363863, 3)\n",
      "\n",
      "Dataframe from train_terms.tsv dataset:\n"
     ]
    },
    {
     "data": {
      "text/html": [
       "<div>\n",
       "<style scoped>\n",
       "    .dataframe tbody tr th:only-of-type {\n",
       "        vertical-align: middle;\n",
       "    }\n",
       "\n",
       "    .dataframe tbody tr th {\n",
       "        vertical-align: top;\n",
       "    }\n",
       "\n",
       "    .dataframe thead th {\n",
       "        text-align: right;\n",
       "    }\n",
       "</style>\n",
       "<table border=\"1\" class=\"dataframe\">\n",
       "  <thead>\n",
       "    <tr style=\"text-align: right;\">\n",
       "      <th></th>\n",
       "      <th>EntryID</th>\n",
       "      <th>term</th>\n",
       "      <th>aspect</th>\n",
       "    </tr>\n",
       "  </thead>\n",
       "  <tbody>\n",
       "    <tr>\n",
       "      <th>0</th>\n",
       "      <td>A0A009IHW8</td>\n",
       "      <td>GO:0008152</td>\n",
       "      <td>BPO</td>\n",
       "    </tr>\n",
       "    <tr>\n",
       "      <th>1</th>\n",
       "      <td>A0A009IHW8</td>\n",
       "      <td>GO:0034655</td>\n",
       "      <td>BPO</td>\n",
       "    </tr>\n",
       "    <tr>\n",
       "      <th>2</th>\n",
       "      <td>A0A009IHW8</td>\n",
       "      <td>GO:0072523</td>\n",
       "      <td>BPO</td>\n",
       "    </tr>\n",
       "    <tr>\n",
       "      <th>3</th>\n",
       "      <td>A0A009IHW8</td>\n",
       "      <td>GO:0044270</td>\n",
       "      <td>BPO</td>\n",
       "    </tr>\n",
       "    <tr>\n",
       "      <th>4</th>\n",
       "      <td>A0A009IHW8</td>\n",
       "      <td>GO:0006753</td>\n",
       "      <td>BPO</td>\n",
       "    </tr>\n",
       "  </tbody>\n",
       "</table>\n",
       "</div>"
      ],
      "text/plain": [
       "      EntryID        term aspect\n",
       "0  A0A009IHW8  GO:0008152    BPO\n",
       "1  A0A009IHW8  GO:0034655    BPO\n",
       "2  A0A009IHW8  GO:0072523    BPO\n",
       "3  A0A009IHW8  GO:0044270    BPO\n",
       "4  A0A009IHW8  GO:0006753    BPO"
      ]
     },
     "metadata": {},
     "output_type": "display_data"
    },
    {
     "name": "stdout",
     "output_type": "stream",
     "text": [
      "\n",
      "Frequency of each term (i.e. label) in train_terms.tsv dataset:\n",
      "GO:0005575    92912\n",
      "GO:0008150    92210\n",
      "GO:0110165    91286\n",
      "GO:0003674    78637\n",
      "GO:0005622    70785\n",
      "              ...  \n",
      "GO:0031772        1\n",
      "GO:0042324        1\n",
      "GO:0031771        1\n",
      "GO:0051041        1\n",
      "GO:0102628        1\n",
      "Name: term, Length: 31466, dtype: int64\n",
      "\n",
      "n_labels_to_consider: 1499 First 10: ['GO:0005575', 'GO:0008150', 'GO:0110165', 'GO:0003674', 'GO:0005622', 'GO:0009987', 'GO:0043226', 'GO:0043229', 'GO:0005488', 'GO:0043227']\n",
      "\n",
      "CPU times: user 3.62 s, sys: 504 ms, total: 4.12 s\n",
      "Wall time: 4.97 s\n"
     ]
    }
   ],
   "source": [
    "%%time\n",
    "# Measure the execution time of the code block\n",
    "\n",
    "trainTerms = pd.read_csv(\"/kaggle/input/cafa-5-protein-function-prediction/Train/train_terms.tsv\", sep=\"\\t\")\n",
    "# Read the contents of the \"train_terms.tsv\" file into a pandas DataFrame, using '\\t' (tab) as the delimiter.\n",
    "# Assign the resulting DataFrame to the variable 'trainTerms'.\n",
    "\n",
    "print(\"Shape of train_terms.tsv dataset: \" + str(trainTerms.shape))\n",
    "# Print the shape of the 'trainTerms' DataFrame, which represents the dimensions (number of rows and columns) of the dataset.\n",
    "\n",
    "print()\n",
    "# Print an empty line for better readability.\n",
    "\n",
    "print(\"Dataframe from train_terms.tsv dataset:\")\n",
    "display(trainTerms.head(5))\n",
    "# Display the first 5 rows of the 'trainTerms' DataFrame using the 'head()' function.\n",
    "# This provides a preview of the data in the DataFrame.\n",
    "\n",
    "print()\n",
    "\n",
    "print(\"Frequency of each term (i.e. label) in train_terms.tsv dataset:\")\n",
    "vec_freqCount = trainTerms['term'].value_counts()\n",
    "# Compute the frequency count of each unique term (label) in the 'term' column of the 'trainTerms' DataFrame.\n",
    "# Assign the resulting Series object to the variable 'vec_freqCount'.\n",
    "\n",
    "print(vec_freqCount)\n",
    "# Print the frequency count of each term.\n",
    "# This displays the number of occurrences of each term in the dataset.\n",
    "\n",
    "print()\n",
    "\n",
    "labels_to_consider = list(vec_freqCount.index[:n_labels_to_consider])\n",
    "# Extract the first 'n_labels_to_consider' terms from the index of the 'vec_freqCount' Series.\n",
    "# Convert the resulting index values (terms) to a list.\n",
    "# Assign the list of terms to the variable 'labels_to_consider'.\n",
    "\n",
    "print('n_labels_to_consider:', len(labels_to_consider), 'First 10:', labels_to_consider[:10])\n",
    "# Print the number of labels to consider ('n_labels_to_consider') and the first 10 labels in the 'labels_to_consider' list.\n",
    "\n",
    "print()"
   ]
  },
  {
   "cell_type": "markdown",
   "id": "feb0dbd2",
   "metadata": {
    "papermill": {
     "duration": 0.014783,
     "end_time": "2023-06-01T06:29:23.612200",
     "exception": false,
     "start_time": "2023-06-01T06:29:23.597417",
     "status": "completed"
    },
    "tags": []
   },
   "source": [
    "#### Columns of the training set dataframe:\n",
    "- EntryID = identifier that is unique to each protein (but the same protein will have multiple instances)\n",
    "\n",
    "- term = identifier that is unique to each protein function label. It is \"GO:\" followed by a 7-digit number, but each one is a class (i.e. there is not necessarily any algorithmic relationship between consecutively numbered classes).\n",
    "\n",
    "- aspect = broad categorisation of GO labels (into \"BPO\", \"MFO\", CCO\", which are the three top-level terms)\n",
    "\n",
    "The combination of \"EntryID\" and \"term\" should constitute a unique entry.\n",
    "\n",
    "In summary, there are 5.3 million labeled entries in the training dataset, with 31,466 unique labels. The most frequent labels have ~93,000 entries (i.e. proteins), while the least frequent labels have 1 entry (1 protein)."
   ]
  },
  {
   "cell_type": "markdown",
   "id": "1c8dbbf0",
   "metadata": {
    "papermill": {
     "duration": 0.014776,
     "end_time": "2023-06-01T06:29:23.642123",
     "exception": false,
     "start_time": "2023-06-01T06:29:23.627347",
     "status": "completed"
    },
    "tags": []
   },
   "source": [
    "### Load the protein IDs from the ESM2 embeddings training set\n",
    "The list of protein IDs in the ESM2 embeddings training set is used to figure out how many rows we need in the Labels array (Y). We want one row per protein instance."
   ]
  },
  {
   "cell_type": "code",
   "execution_count": 5,
   "id": "e33ef5f2",
   "metadata": {
    "execution": {
     "iopub.execute_input": "2023-06-01T06:29:23.673954Z",
     "iopub.status.busy": "2023-06-01T06:29:23.673250Z",
     "iopub.status.idle": "2023-06-01T06:29:23.731549Z",
     "shell.execute_reply": "2023-06-01T06:29:23.730493Z"
    },
    "papermill": {
     "duration": 0.076931,
     "end_time": "2023-06-01T06:29:23.734000",
     "exception": false,
     "start_time": "2023-06-01T06:29:23.657069",
     "status": "completed"
    },
    "tags": []
   },
   "outputs": [
    {
     "name": "stdout",
     "output_type": "stream",
     "text": [
      "(142246,)\n",
      "CPU times: user 1.54 ms, sys: 6.97 ms, total: 8.51 ms\n",
      "Wall time: 49.3 ms\n"
     ]
    },
    {
     "data": {
      "text/plain": [
       "array(['Q9ZSA8', 'P25353', 'A0A2R8YCW8', ..., 'Q80VK8', 'Q8IS12',\n",
       "       'P0AG74'], dtype='<U10')"
      ]
     },
     "execution_count": 5,
     "metadata": {},
     "output_type": "execute_result"
    }
   ],
   "source": [
    "%%time\n",
    "# Measure the execution time of the code block\n",
    "\n",
    "fn = '/kaggle/input/cafa-5-ems-2-embeddings-numpy/train_ids.npy'\n",
    "# Set the variable fn to the file path '/kaggle/input/t5embeds/train_ids.npy'\n",
    "# This indicates the location of a NumPy array file.\n",
    "\n",
    "vec_train_protein_ids = np.load(fn)\n",
    "# Load the NumPy array from the file specified by fn and assign it to the variable vec_train_protein_ids\n",
    "# This reads the array data from the file into memory.\n",
    "\n",
    "print(vec_train_protein_ids.shape)\n",
    "# Print the shape of vec_train_protein_ids\n",
    "# This will output the dimensions of the array, indicating the number of elements in each axis.\n",
    "\n",
    "vec_train_protein_ids\n",
    "# Output the vec_train_protein_ids array itself\n",
    "# This will display the content of the array."
   ]
  },
  {
   "cell_type": "markdown",
   "id": "d967b427",
   "metadata": {
    "papermill": {
     "duration": 0.014861,
     "end_time": "2023-06-01T06:29:23.764143",
     "exception": false,
     "start_time": "2023-06-01T06:29:23.749282",
     "status": "completed"
    },
    "tags": []
   },
   "source": [
    "The ESM2 embeddings were generated from 142,246 unique proteins.\n"
   ]
  },
  {
   "cell_type": "markdown",
   "id": "bde303ec",
   "metadata": {
    "papermill": {
     "duration": 0.014798,
     "end_time": "2023-06-01T06:29:23.794115",
     "exception": false,
     "start_time": "2023-06-01T06:29:23.779317",
     "status": "completed"
    },
    "tags": []
   },
   "source": [
    "### Prepare Y (all the labels, in a 2D array)\n",
    "\n",
    "That is, generate a large array with each row being a unique protein and each column being a unique label, and entries being either \"1\" to indicate that a particular protein has a particular label and \"0\" being that it does not (i.e. binary labeling). Multilabel \"one\"-hot encoding.\n",
    "\n",
    "The next code block does the following:\n",
    "\n",
    "1. Make an array (of zeroes) with enough rows for all the proteins with embeddings and columns for all the labels to consider (i.e. the top n most common labels). Call this array \"Y\".\n",
    "\n",
    "2. Make a pandas series from all the protein IDs in the ESM2 dataset (all the proteins that have embeddings).\n",
    "\n",
    "3. \"trainTerms\" is the pandas dataframe containing the labeled training data (from CAFA5). Truncate this to only include the top n most common labels => \"trainTerms_smaller\". Now 4.42 million entries instead of original 5.3 million.\n",
    "\n",
    "4. for loop: For every column in the Labels array (Y), compare 'term' class from trainTerms_smaller dataframe with the labels_to_consider entries and return True if they are the same (False if not the same); assign True/False to the variable m. For all the rows in that column, look for the labels assigned to each protein and add that to the array Y. ... (I don't fully understand the syntax here...)\n",
    "\n",
    "5. Print out updates as the code runs. Finally print out array Y.\n",
    "\n",
    "N.B. This code block will take ~8 min to run.\n"
   ]
  },
  {
   "cell_type": "code",
   "execution_count": 6,
   "id": "9da9d37a",
   "metadata": {
    "execution": {
     "iopub.execute_input": "2023-06-01T06:29:23.826323Z",
     "iopub.status.busy": "2023-06-01T06:29:23.825901Z",
     "iopub.status.idle": "2023-06-01T06:49:33.982779Z",
     "shell.execute_reply": "2023-06-01T06:49:33.981310Z"
    },
    "papermill": {
     "duration": 1210.175875,
     "end_time": "2023-06-01T06:49:33.985378",
     "exception": false,
     "start_time": "2023-06-01T06:29:23.809503",
     "status": "completed"
    },
    "tags": []
   },
   "outputs": [
    {
     "name": "stdout",
     "output_type": "stream",
     "text": [
      "Shape of Labels array, Y, is: (142246, 1499)\n",
      "\n",
      "Shape of the truncated CAFA5 dataframe is: (4420307, 3)\n",
      "\n",
      "label# #ofProteinsThatLabelIsAssignedTo\n",
      "0 92912\n",
      "10 53193\n",
      "20 28680\n",
      "30 19458\n",
      "40 16657\n",
      "50 14757\n",
      "60 12963\n",
      "70 11013\n",
      "80 10236\n",
      "90 9350\n",
      "100 8475\n",
      "110 7664\n",
      "120 7099\n",
      "130 6522\n",
      "140 5866\n",
      "150 5316\n",
      "160 5084\n",
      "170 4831\n",
      "180 4585\n",
      "190 4383\n",
      "200 4214\n",
      "210 4091\n",
      "220 3788\n",
      "230 3652\n",
      "240 3535\n",
      "250 3358\n",
      "260 3231\n",
      "270 3115\n",
      "280 3047\n",
      "290 2952\n",
      "300 2867\n",
      "310 2806\n",
      "320 2764\n",
      "330 2674\n",
      "340 2580\n",
      "350 2483\n",
      "360 2423\n",
      "370 2387\n",
      "380 2295\n",
      "390 2200\n",
      "400 2158\n",
      "410 2106\n",
      "420 2057\n",
      "430 1944\n",
      "440 1866\n",
      "450 1827\n",
      "460 1775\n",
      "470 1742\n",
      "480 1708\n",
      "490 1645\n",
      "500 1614\n",
      "510 1584\n",
      "520 1553\n",
      "530 1513\n",
      "540 1481\n",
      "550 1451\n",
      "560 1427\n",
      "570 1406\n",
      "580 1361\n",
      "590 1343\n",
      "600 1321\n",
      "610 1302\n",
      "620 1290\n",
      "630 1264\n",
      "640 1238\n",
      "650 1220\n",
      "660 1200\n",
      "670 1186\n",
      "680 1170\n",
      "690 1152\n",
      "700 1145\n",
      "710 1125\n",
      "720 1099\n",
      "730 1085\n",
      "740 1062\n",
      "750 1040\n",
      "760 1024\n",
      "770 1005\n",
      "780 982\n",
      "790 970\n",
      "800 956\n",
      "810 946\n",
      "820 940\n",
      "830 927\n",
      "840 913\n",
      "850 897\n",
      "860 891\n",
      "870 875\n",
      "880 862\n",
      "890 851\n",
      "900 841\n",
      "910 829\n",
      "920 816\n",
      "930 810\n",
      "940 798\n",
      "950 784\n",
      "960 768\n",
      "970 761\n",
      "980 749\n",
      "990 737\n",
      "1000 732\n",
      "1010 722\n",
      "1020 710\n",
      "1030 703\n",
      "1040 691\n",
      "1050 680\n",
      "1060 668\n",
      "1070 653\n",
      "1080 645\n",
      "1090 639\n",
      "1100 634\n",
      "1110 624\n",
      "1120 618\n",
      "1130 612\n",
      "1140 603\n",
      "1150 597\n",
      "1160 590\n",
      "1170 581\n",
      "1180 574\n",
      "1190 568\n",
      "1200 563\n",
      "1210 557\n",
      "1220 551\n",
      "1230 542\n",
      "1240 537\n",
      "1250 534\n",
      "1260 529\n",
      "1270 525\n",
      "1280 520\n",
      "1290 516\n",
      "1300 512\n",
      "1310 508\n",
      "1320 501\n",
      "1330 496\n",
      "1340 491\n",
      "1350 489\n",
      "1360 486\n",
      "1370 479\n",
      "1380 474\n",
      "1390 472\n",
      "1400 470\n",
      "1410 467\n",
      "1420 462\n",
      "1430 459\n",
      "1440 455\n",
      "1450 452\n",
      "1460 448\n",
      "1470 444\n",
      "1480 441\n",
      "1490 434\n",
      "CPU times: user 20min 9s, sys: 3.14 s, total: 20min 12s\n",
      "Wall time: 20min 10s\n"
     ]
    },
    {
     "data": {
      "text/plain": [
       "array([[0., 1., 0., ..., 0., 0., 0.],\n",
       "       [0., 1., 0., ..., 0., 0., 0.],\n",
       "       [1., 0., 1., ..., 0., 0., 0.],\n",
       "       ...,\n",
       "       [1., 1., 1., ..., 0., 0., 0.],\n",
       "       [0., 1., 0., ..., 0., 0., 0.],\n",
       "       [0., 0., 0., ..., 0., 0., 0.]])"
      ]
     },
     "execution_count": 6,
     "metadata": {},
     "output_type": "execute_result"
    }
   ],
   "source": [
    "%%time\n",
    "\n",
    "train_size = 142246  # Total number of training samples\n",
    "Y = np.zeros((train_size, n_labels_to_consider))  # Create an array of zeros with dimensions (train_size, n_labels_to_consider)\n",
    "print(\"Shape of Labels array, Y, is: \" + str(Y.shape))\n",
    "print()\n",
    "\n",
    "series_train_protein_ids = pd.Series(vec_train_protein_ids)  # Create a pandas Series from vec_train_protein_ids\n",
    "\n",
    "trainTerms_smaller = trainTerms[trainTerms['term'].isin(labels_to_consider)]\n",
    "# Select rows from the trainTerms DataFrame where the 'term' column value is present in labels_to_consider.\n",
    "# This is done to speed up the subsequent step.\n",
    "\n",
    "print(\"Shape of the truncated CAFA5 dataframe is: \" + str(trainTerms_smaller.shape))\n",
    "print()\n",
    "\n",
    "print(\"label#\", \"#ofProteinsThatLabelIsAssignedTo\")\n",
    "for i in range(Y.shape[1]):\n",
    "    m = trainTerms_smaller['term'] == labels_to_consider[i]\n",
    "    # Create a boolean mask m where each element is True if the corresponding value in 'term' is equal to labels_to_consider[i],\n",
    "    # and False otherwise.\n",
    "\n",
    "    Y[:, i] = series_train_protein_ids.isin(set(trainTerms_smaller[m]['EntryID'])).astype(float)\n",
    "    # Select the 'EntryID' column from the filtered trainTerms_smaller DataFrame where m is True.\n",
    "    # Convert the selected column values to a set, remove duplicates, and check if each element in series_train_protein_ids is present.\n",
    "    # Convert the resulting boolean values to floats (1.0 for True, 0.0 for False).\n",
    "    # Assign the converted values to the corresponding column i in the Y array.\n",
    "\n",
    "    if (i % 10) == 0:\n",
    "        print(i, m.sum())\n",
    "        # Print the current iteration index i and the sum of True values in the boolean mask m.\n",
    "\n",
    "Y"
   ]
  },
  {
   "cell_type": "markdown",
   "id": "0a2f1dc9",
   "metadata": {
    "papermill": {
     "duration": 0.035314,
     "end_time": "2023-06-01T06:49:34.056497",
     "exception": false,
     "start_time": "2023-06-01T06:49:34.021183",
     "status": "completed"
    },
    "tags": []
   },
   "source": [
    "### Save the Labels array (Y)"
   ]
  },
  {
   "cell_type": "code",
   "execution_count": 7,
   "id": "a18f1f7d",
   "metadata": {
    "execution": {
     "iopub.execute_input": "2023-06-01T06:49:34.125415Z",
     "iopub.status.busy": "2023-06-01T06:49:34.124977Z",
     "iopub.status.idle": "2023-06-01T06:49:35.967128Z",
     "shell.execute_reply": "2023-06-01T06:49:35.965775Z"
    },
    "papermill": {
     "duration": 1.87898,
     "end_time": "2023-06-01T06:49:35.969788",
     "exception": false,
     "start_time": "2023-06-01T06:49:34.090808",
     "status": "completed"
    },
    "tags": []
   },
   "outputs": [
    {
     "name": "stdout",
     "output_type": "stream",
     "text": [
      "Y_1499\n",
      "CPU times: user 1.82 ms, sys: 1.83 s, total: 1.83 s\n",
      "Wall time: 1.83 s\n"
     ]
    }
   ],
   "source": [
    "%%time\n",
    "# Measure the execution time of the code block\n",
    "\n",
    "# Save the variable 'Y' for possible future reuse\n",
    "fn4saveY = 'Y_' + str(Y.shape[1])\n",
    "# Construct a filename string by concatenating 'Y_' with the number of columns in 'Y' converted to a string.\n",
    "# Assign the resulting filename string to the variable 'fn4saveY'.\n",
    "\n",
    "print(fn4saveY)\n",
    "# Print the filename string.\n",
    "# This displays the filename that will be used to save the 'Y' variable.\n",
    "\n",
    "np.save(fn4saveY, Y)\n",
    "# Save the 'Y' variable as a NumPy array file using the filename specified by 'fn4saveY'.\n",
    "# This stores the array data in a file for possible future use."
   ]
  },
  {
   "cell_type": "markdown",
   "id": "970e2e9d",
   "metadata": {
    "papermill": {
     "duration": 0.03058,
     "end_time": "2023-06-01T06:49:36.030636",
     "exception": false,
     "start_time": "2023-06-01T06:49:36.000056",
     "status": "completed"
    },
    "tags": []
   },
   "source": [
    "### Save the labels_to_consider list"
   ]
  },
  {
   "cell_type": "code",
   "execution_count": 8,
   "id": "3ba2f751",
   "metadata": {
    "execution": {
     "iopub.execute_input": "2023-06-01T06:49:36.094552Z",
     "iopub.status.busy": "2023-06-01T06:49:36.093395Z",
     "iopub.status.idle": "2023-06-01T06:49:36.102659Z",
     "shell.execute_reply": "2023-06-01T06:49:36.100976Z"
    },
    "papermill": {
     "duration": 0.044448,
     "end_time": "2023-06-01T06:49:36.105349",
     "exception": false,
     "start_time": "2023-06-01T06:49:36.060901",
     "status": "completed"
    },
    "tags": []
   },
   "outputs": [
    {
     "name": "stdout",
     "output_type": "stream",
     "text": [
      "Y_1499_labels\n",
      "CPU times: user 1.33 ms, sys: 2 µs, total: 1.33 ms\n",
      "Wall time: 1.34 ms\n"
     ]
    }
   ],
   "source": [
    "%%time\n",
    "# Measure the execution time of the code block\n",
    "\n",
    "fn4save_labels = 'Y_' + str(Y.shape[1]) + '_labels'\n",
    "# Construct a filename string for saving the 'labels_to_consider' variable by concatenating 'Y_', the number of columns in 'Y' converted to a string, and '_labels'.\n",
    "# Assign the resulting filename string to the variable 'fn4save_labels'.\n",
    "\n",
    "print(fn4save_labels)\n",
    "\n",
    "np.save(fn4save_labels, labels_to_consider)\n",
    "# Save the 'labels_to_consider' variable as a NumPy array file using the filename specified by 'fn4save_labels'.\n",
    "# This stores the array data in a file for possible future use.\n"
   ]
  },
  {
   "cell_type": "code",
   "execution_count": 9,
   "id": "eccd03fc",
   "metadata": {
    "execution": {
     "iopub.execute_input": "2023-06-01T06:49:36.167526Z",
     "iopub.status.busy": "2023-06-01T06:49:36.167108Z",
     "iopub.status.idle": "2023-06-01T06:49:36.175199Z",
     "shell.execute_reply": "2023-06-01T06:49:36.173819Z"
    },
    "papermill": {
     "duration": 0.042359,
     "end_time": "2023-06-01T06:49:36.177586",
     "exception": false,
     "start_time": "2023-06-01T06:49:36.135227",
     "status": "completed"
    },
    "tags": []
   },
   "outputs": [
    {
     "name": "stdout",
     "output_type": "stream",
     "text": [
      "['GO:0005575', 'GO:0008150', 'GO:0110165', 'GO:0003674', 'GO:0005622', 'GO:0009987', 'GO:0043226', 'GO:0043229', 'GO:0005488', 'GO:0043227']\n"
     ]
    }
   ],
   "source": [
    "print( list(np.load(fn4save_labels +'.npy' ))[:10] )\n",
    "# Load the numpy file that we just saved and print a list of the first 10 entries"
   ]
  },
  {
   "cell_type": "markdown",
   "id": "9a28a463",
   "metadata": {
    "papermill": {
     "duration": 0.028804,
     "end_time": "2023-06-01T06:49:36.236854",
     "exception": false,
     "start_time": "2023-06-01T06:49:36.208050",
     "status": "completed"
    },
    "tags": []
   },
   "source": [
    "### Convert Labels array (Y) to a dataframe (df_Y)"
   ]
  },
  {
   "cell_type": "code",
   "execution_count": 10,
   "id": "db0cdfe9",
   "metadata": {
    "execution": {
     "iopub.execute_input": "2023-06-01T06:49:36.299529Z",
     "iopub.status.busy": "2023-06-01T06:49:36.298527Z",
     "iopub.status.idle": "2023-06-01T06:49:36.333242Z",
     "shell.execute_reply": "2023-06-01T06:49:36.332003Z"
    },
    "papermill": {
     "duration": 0.070588,
     "end_time": "2023-06-01T06:49:36.336664",
     "exception": false,
     "start_time": "2023-06-01T06:49:36.266076",
     "status": "completed"
    },
    "tags": []
   },
   "outputs": [
    {
     "data": {
      "text/html": [
       "<div>\n",
       "<style scoped>\n",
       "    .dataframe tbody tr th:only-of-type {\n",
       "        vertical-align: middle;\n",
       "    }\n",
       "\n",
       "    .dataframe tbody tr th {\n",
       "        vertical-align: top;\n",
       "    }\n",
       "\n",
       "    .dataframe thead th {\n",
       "        text-align: right;\n",
       "    }\n",
       "</style>\n",
       "<table border=\"1\" class=\"dataframe\">\n",
       "  <thead>\n",
       "    <tr style=\"text-align: right;\">\n",
       "      <th></th>\n",
       "      <th>GO:0005575</th>\n",
       "      <th>GO:0008150</th>\n",
       "      <th>GO:0110165</th>\n",
       "      <th>GO:0003674</th>\n",
       "      <th>GO:0005622</th>\n",
       "      <th>GO:0009987</th>\n",
       "      <th>GO:0043226</th>\n",
       "      <th>GO:0043229</th>\n",
       "      <th>GO:0005488</th>\n",
       "      <th>GO:0043227</th>\n",
       "      <th>...</th>\n",
       "      <th>GO:0000313</th>\n",
       "      <th>GO:0034250</th>\n",
       "      <th>GO:0140053</th>\n",
       "      <th>GO:0031345</th>\n",
       "      <th>GO:0098802</th>\n",
       "      <th>GO:0045861</th>\n",
       "      <th>GO:0051783</th>\n",
       "      <th>GO:0031674</th>\n",
       "      <th>GO:0001818</th>\n",
       "      <th>GO:0006874</th>\n",
       "    </tr>\n",
       "  </thead>\n",
       "  <tbody>\n",
       "    <tr>\n",
       "      <th>0</th>\n",
       "      <td>0.0</td>\n",
       "      <td>1.0</td>\n",
       "      <td>0.0</td>\n",
       "      <td>0.0</td>\n",
       "      <td>0.0</td>\n",
       "      <td>1.0</td>\n",
       "      <td>0.0</td>\n",
       "      <td>0.0</td>\n",
       "      <td>0.0</td>\n",
       "      <td>0.0</td>\n",
       "      <td>...</td>\n",
       "      <td>0.0</td>\n",
       "      <td>0.0</td>\n",
       "      <td>0.0</td>\n",
       "      <td>0.0</td>\n",
       "      <td>0.0</td>\n",
       "      <td>0.0</td>\n",
       "      <td>0.0</td>\n",
       "      <td>0.0</td>\n",
       "      <td>0.0</td>\n",
       "      <td>0.0</td>\n",
       "    </tr>\n",
       "    <tr>\n",
       "      <th>1</th>\n",
       "      <td>0.0</td>\n",
       "      <td>1.0</td>\n",
       "      <td>0.0</td>\n",
       "      <td>1.0</td>\n",
       "      <td>0.0</td>\n",
       "      <td>1.0</td>\n",
       "      <td>0.0</td>\n",
       "      <td>0.0</td>\n",
       "      <td>0.0</td>\n",
       "      <td>0.0</td>\n",
       "      <td>...</td>\n",
       "      <td>0.0</td>\n",
       "      <td>0.0</td>\n",
       "      <td>0.0</td>\n",
       "      <td>0.0</td>\n",
       "      <td>0.0</td>\n",
       "      <td>0.0</td>\n",
       "      <td>0.0</td>\n",
       "      <td>0.0</td>\n",
       "      <td>0.0</td>\n",
       "      <td>0.0</td>\n",
       "    </tr>\n",
       "  </tbody>\n",
       "</table>\n",
       "<p>2 rows × 1499 columns</p>\n",
       "</div>"
      ],
      "text/plain": [
       "   GO:0005575  GO:0008150  GO:0110165  GO:0003674  GO:0005622  GO:0009987  \\\n",
       "0         0.0         1.0         0.0         0.0         0.0         1.0   \n",
       "1         0.0         1.0         0.0         1.0         0.0         1.0   \n",
       "\n",
       "   GO:0043226  GO:0043229  GO:0005488  GO:0043227  ...  GO:0000313  \\\n",
       "0         0.0         0.0         0.0         0.0  ...         0.0   \n",
       "1         0.0         0.0         0.0         0.0  ...         0.0   \n",
       "\n",
       "   GO:0034250  GO:0140053  GO:0031345  GO:0098802  GO:0045861  GO:0051783  \\\n",
       "0         0.0         0.0         0.0         0.0         0.0         0.0   \n",
       "1         0.0         0.0         0.0         0.0         0.0         0.0   \n",
       "\n",
       "   GO:0031674  GO:0001818  GO:0006874  \n",
       "0         0.0         0.0         0.0  \n",
       "1         0.0         0.0         0.0  \n",
       "\n",
       "[2 rows x 1499 columns]"
      ]
     },
     "metadata": {},
     "output_type": "display_data"
    },
    {
     "name": "stdout",
     "output_type": "stream",
     "text": [
      "CPU times: user 26.8 ms, sys: 0 ns, total: 26.8 ms\n",
      "Wall time: 27.5 ms\n"
     ]
    }
   ],
   "source": [
    "%%time\n",
    "# Measure the execution time of the code block\n",
    "\n",
    "# Create a dataframe 'df_Y' from the 'Y' array\n",
    "df_Y = pd.DataFrame(data=Y, columns=labels_to_consider)\n",
    "# Construct a pandas DataFrame 'df_Y' using the data from the 'Y' array.\n",
    "# Set the column names of the DataFrame to the 'labels_to_consider' list.\n",
    "\n",
    "display(df_Y.head(2))\n",
    "# Display the first 2 rows of the 'df_Y' DataFrame using the 'head()' function.\n",
    "# This provides a preview of the data in the DataFrame.\n",
    "\n",
    "# print( df.info().sum() )"
   ]
  },
  {
   "cell_type": "markdown",
   "id": "ba13601c",
   "metadata": {
    "papermill": {
     "duration": 0.029752,
     "end_time": "2023-06-01T06:49:36.397000",
     "exception": false,
     "start_time": "2023-06-01T06:49:36.367248",
     "status": "completed"
    },
    "tags": []
   },
   "source": [
    "### Save the Labels dataframe (df_Y)"
   ]
  },
  {
   "cell_type": "code",
   "execution_count": 11,
   "id": "7d0dd94f",
   "metadata": {
    "execution": {
     "iopub.execute_input": "2023-06-01T06:49:36.458891Z",
     "iopub.status.busy": "2023-06-01T06:49:36.458492Z",
     "iopub.status.idle": "2023-06-01T06:52:28.423895Z",
     "shell.execute_reply": "2023-06-01T06:52:28.421787Z"
    },
    "papermill": {
     "duration": 172.033898,
     "end_time": "2023-06-01T06:52:28.461286",
     "exception": false,
     "start_time": "2023-06-01T06:49:36.427388",
     "status": "completed"
    },
    "tags": []
   },
   "outputs": [
    {
     "name": "stdout",
     "output_type": "stream",
     "text": [
      "memory_usage: 1705814160\n"
     ]
    },
    {
     "data": {
      "text/html": [
       "<div>\n",
       "<style scoped>\n",
       "    .dataframe tbody tr th:only-of-type {\n",
       "        vertical-align: middle;\n",
       "    }\n",
       "\n",
       "    .dataframe tbody tr th {\n",
       "        vertical-align: top;\n",
       "    }\n",
       "\n",
       "    .dataframe thead th {\n",
       "        text-align: right;\n",
       "    }\n",
       "</style>\n",
       "<table border=\"1\" class=\"dataframe\">\n",
       "  <thead>\n",
       "    <tr style=\"text-align: right;\">\n",
       "      <th></th>\n",
       "      <th>GO:0005575</th>\n",
       "      <th>GO:0008150</th>\n",
       "      <th>GO:0110165</th>\n",
       "      <th>GO:0003674</th>\n",
       "      <th>GO:0005622</th>\n",
       "      <th>GO:0009987</th>\n",
       "      <th>GO:0043226</th>\n",
       "      <th>GO:0043229</th>\n",
       "      <th>GO:0005488</th>\n",
       "      <th>GO:0043227</th>\n",
       "      <th>...</th>\n",
       "      <th>GO:0000313</th>\n",
       "      <th>GO:0034250</th>\n",
       "      <th>GO:0140053</th>\n",
       "      <th>GO:0031345</th>\n",
       "      <th>GO:0098802</th>\n",
       "      <th>GO:0045861</th>\n",
       "      <th>GO:0051783</th>\n",
       "      <th>GO:0031674</th>\n",
       "      <th>GO:0001818</th>\n",
       "      <th>GO:0006874</th>\n",
       "    </tr>\n",
       "  </thead>\n",
       "  <tbody>\n",
       "    <tr>\n",
       "      <th>count</th>\n",
       "      <td>142246.000000</td>\n",
       "      <td>142246.000000</td>\n",
       "      <td>142246.000000</td>\n",
       "      <td>142246.000000</td>\n",
       "      <td>142246.000000</td>\n",
       "      <td>142246.000000</td>\n",
       "      <td>142246.000000</td>\n",
       "      <td>142246.000000</td>\n",
       "      <td>142246.000000</td>\n",
       "      <td>142246.000000</td>\n",
       "      <td>...</td>\n",
       "      <td>142246.000000</td>\n",
       "      <td>142246.000000</td>\n",
       "      <td>142246.000000</td>\n",
       "      <td>142246.000000</td>\n",
       "      <td>142246.000000</td>\n",
       "      <td>142246.000000</td>\n",
       "      <td>142246.000000</td>\n",
       "      <td>142246.000000</td>\n",
       "      <td>142246.000000</td>\n",
       "      <td>142246.000000</td>\n",
       "    </tr>\n",
       "    <tr>\n",
       "      <th>mean</th>\n",
       "      <td>0.653178</td>\n",
       "      <td>0.648243</td>\n",
       "      <td>0.641747</td>\n",
       "      <td>0.552824</td>\n",
       "      <td>0.497624</td>\n",
       "      <td>0.430894</td>\n",
       "      <td>0.428012</td>\n",
       "      <td>0.409959</td>\n",
       "      <td>0.403386</td>\n",
       "      <td>0.389832</td>\n",
       "      <td>...</td>\n",
       "      <td>0.003058</td>\n",
       "      <td>0.003051</td>\n",
       "      <td>0.003051</td>\n",
       "      <td>0.003051</td>\n",
       "      <td>0.003044</td>\n",
       "      <td>0.003037</td>\n",
       "      <td>0.003030</td>\n",
       "      <td>0.003030</td>\n",
       "      <td>0.003030</td>\n",
       "      <td>0.003023</td>\n",
       "    </tr>\n",
       "    <tr>\n",
       "      <th>std</th>\n",
       "      <td>0.475960</td>\n",
       "      <td>0.477520</td>\n",
       "      <td>0.479489</td>\n",
       "      <td>0.497204</td>\n",
       "      <td>0.499996</td>\n",
       "      <td>0.495203</td>\n",
       "      <td>0.494792</td>\n",
       "      <td>0.491827</td>\n",
       "      <td>0.490579</td>\n",
       "      <td>0.487714</td>\n",
       "      <td>...</td>\n",
       "      <td>0.055216</td>\n",
       "      <td>0.055152</td>\n",
       "      <td>0.055152</td>\n",
       "      <td>0.055152</td>\n",
       "      <td>0.055089</td>\n",
       "      <td>0.055025</td>\n",
       "      <td>0.054962</td>\n",
       "      <td>0.054962</td>\n",
       "      <td>0.054962</td>\n",
       "      <td>0.054898</td>\n",
       "    </tr>\n",
       "    <tr>\n",
       "      <th>min</th>\n",
       "      <td>0.000000</td>\n",
       "      <td>0.000000</td>\n",
       "      <td>0.000000</td>\n",
       "      <td>0.000000</td>\n",
       "      <td>0.000000</td>\n",
       "      <td>0.000000</td>\n",
       "      <td>0.000000</td>\n",
       "      <td>0.000000</td>\n",
       "      <td>0.000000</td>\n",
       "      <td>0.000000</td>\n",
       "      <td>...</td>\n",
       "      <td>0.000000</td>\n",
       "      <td>0.000000</td>\n",
       "      <td>0.000000</td>\n",
       "      <td>0.000000</td>\n",
       "      <td>0.000000</td>\n",
       "      <td>0.000000</td>\n",
       "      <td>0.000000</td>\n",
       "      <td>0.000000</td>\n",
       "      <td>0.000000</td>\n",
       "      <td>0.000000</td>\n",
       "    </tr>\n",
       "    <tr>\n",
       "      <th>25%</th>\n",
       "      <td>0.000000</td>\n",
       "      <td>0.000000</td>\n",
       "      <td>0.000000</td>\n",
       "      <td>0.000000</td>\n",
       "      <td>0.000000</td>\n",
       "      <td>0.000000</td>\n",
       "      <td>0.000000</td>\n",
       "      <td>0.000000</td>\n",
       "      <td>0.000000</td>\n",
       "      <td>0.000000</td>\n",
       "      <td>...</td>\n",
       "      <td>0.000000</td>\n",
       "      <td>0.000000</td>\n",
       "      <td>0.000000</td>\n",
       "      <td>0.000000</td>\n",
       "      <td>0.000000</td>\n",
       "      <td>0.000000</td>\n",
       "      <td>0.000000</td>\n",
       "      <td>0.000000</td>\n",
       "      <td>0.000000</td>\n",
       "      <td>0.000000</td>\n",
       "    </tr>\n",
       "    <tr>\n",
       "      <th>50%</th>\n",
       "      <td>1.000000</td>\n",
       "      <td>1.000000</td>\n",
       "      <td>1.000000</td>\n",
       "      <td>1.000000</td>\n",
       "      <td>0.000000</td>\n",
       "      <td>0.000000</td>\n",
       "      <td>0.000000</td>\n",
       "      <td>0.000000</td>\n",
       "      <td>0.000000</td>\n",
       "      <td>0.000000</td>\n",
       "      <td>...</td>\n",
       "      <td>0.000000</td>\n",
       "      <td>0.000000</td>\n",
       "      <td>0.000000</td>\n",
       "      <td>0.000000</td>\n",
       "      <td>0.000000</td>\n",
       "      <td>0.000000</td>\n",
       "      <td>0.000000</td>\n",
       "      <td>0.000000</td>\n",
       "      <td>0.000000</td>\n",
       "      <td>0.000000</td>\n",
       "    </tr>\n",
       "    <tr>\n",
       "      <th>75%</th>\n",
       "      <td>1.000000</td>\n",
       "      <td>1.000000</td>\n",
       "      <td>1.000000</td>\n",
       "      <td>1.000000</td>\n",
       "      <td>1.000000</td>\n",
       "      <td>1.000000</td>\n",
       "      <td>1.000000</td>\n",
       "      <td>1.000000</td>\n",
       "      <td>1.000000</td>\n",
       "      <td>1.000000</td>\n",
       "      <td>...</td>\n",
       "      <td>0.000000</td>\n",
       "      <td>0.000000</td>\n",
       "      <td>0.000000</td>\n",
       "      <td>0.000000</td>\n",
       "      <td>0.000000</td>\n",
       "      <td>0.000000</td>\n",
       "      <td>0.000000</td>\n",
       "      <td>0.000000</td>\n",
       "      <td>0.000000</td>\n",
       "      <td>0.000000</td>\n",
       "    </tr>\n",
       "    <tr>\n",
       "      <th>max</th>\n",
       "      <td>1.000000</td>\n",
       "      <td>1.000000</td>\n",
       "      <td>1.000000</td>\n",
       "      <td>1.000000</td>\n",
       "      <td>1.000000</td>\n",
       "      <td>1.000000</td>\n",
       "      <td>1.000000</td>\n",
       "      <td>1.000000</td>\n",
       "      <td>1.000000</td>\n",
       "      <td>1.000000</td>\n",
       "      <td>...</td>\n",
       "      <td>1.000000</td>\n",
       "      <td>1.000000</td>\n",
       "      <td>1.000000</td>\n",
       "      <td>1.000000</td>\n",
       "      <td>1.000000</td>\n",
       "      <td>1.000000</td>\n",
       "      <td>1.000000</td>\n",
       "      <td>1.000000</td>\n",
       "      <td>1.000000</td>\n",
       "      <td>1.000000</td>\n",
       "    </tr>\n",
       "  </tbody>\n",
       "</table>\n",
       "<p>8 rows × 1499 columns</p>\n",
       "</div>"
      ],
      "text/plain": [
       "          GO:0005575     GO:0008150     GO:0110165     GO:0003674  \\\n",
       "count  142246.000000  142246.000000  142246.000000  142246.000000   \n",
       "mean        0.653178       0.648243       0.641747       0.552824   \n",
       "std         0.475960       0.477520       0.479489       0.497204   \n",
       "min         0.000000       0.000000       0.000000       0.000000   \n",
       "25%         0.000000       0.000000       0.000000       0.000000   \n",
       "50%         1.000000       1.000000       1.000000       1.000000   \n",
       "75%         1.000000       1.000000       1.000000       1.000000   \n",
       "max         1.000000       1.000000       1.000000       1.000000   \n",
       "\n",
       "          GO:0005622     GO:0009987     GO:0043226     GO:0043229  \\\n",
       "count  142246.000000  142246.000000  142246.000000  142246.000000   \n",
       "mean        0.497624       0.430894       0.428012       0.409959   \n",
       "std         0.499996       0.495203       0.494792       0.491827   \n",
       "min         0.000000       0.000000       0.000000       0.000000   \n",
       "25%         0.000000       0.000000       0.000000       0.000000   \n",
       "50%         0.000000       0.000000       0.000000       0.000000   \n",
       "75%         1.000000       1.000000       1.000000       1.000000   \n",
       "max         1.000000       1.000000       1.000000       1.000000   \n",
       "\n",
       "          GO:0005488     GO:0043227  ...     GO:0000313     GO:0034250  \\\n",
       "count  142246.000000  142246.000000  ...  142246.000000  142246.000000   \n",
       "mean        0.403386       0.389832  ...       0.003058       0.003051   \n",
       "std         0.490579       0.487714  ...       0.055216       0.055152   \n",
       "min         0.000000       0.000000  ...       0.000000       0.000000   \n",
       "25%         0.000000       0.000000  ...       0.000000       0.000000   \n",
       "50%         0.000000       0.000000  ...       0.000000       0.000000   \n",
       "75%         1.000000       1.000000  ...       0.000000       0.000000   \n",
       "max         1.000000       1.000000  ...       1.000000       1.000000   \n",
       "\n",
       "          GO:0140053     GO:0031345     GO:0098802     GO:0045861  \\\n",
       "count  142246.000000  142246.000000  142246.000000  142246.000000   \n",
       "mean        0.003051       0.003051       0.003044       0.003037   \n",
       "std         0.055152       0.055152       0.055089       0.055025   \n",
       "min         0.000000       0.000000       0.000000       0.000000   \n",
       "25%         0.000000       0.000000       0.000000       0.000000   \n",
       "50%         0.000000       0.000000       0.000000       0.000000   \n",
       "75%         0.000000       0.000000       0.000000       0.000000   \n",
       "max         1.000000       1.000000       1.000000       1.000000   \n",
       "\n",
       "          GO:0051783     GO:0031674     GO:0001818     GO:0006874  \n",
       "count  142246.000000  142246.000000  142246.000000  142246.000000  \n",
       "mean        0.003030       0.003030       0.003030       0.003023  \n",
       "std         0.054962       0.054962       0.054962       0.054898  \n",
       "min         0.000000       0.000000       0.000000       0.000000  \n",
       "25%         0.000000       0.000000       0.000000       0.000000  \n",
       "50%         0.000000       0.000000       0.000000       0.000000  \n",
       "75%         0.000000       0.000000       0.000000       0.000000  \n",
       "max         1.000000       1.000000       1.000000       1.000000  \n",
       "\n",
       "[8 rows x 1499 columns]"
      ]
     },
     "metadata": {},
     "output_type": "display_data"
    },
    {
     "name": "stdout",
     "output_type": "stream",
     "text": [
      "CPU times: user 2min 48s, sys: 3.67 s, total: 2min 51s\n",
      "Wall time: 2min 51s\n"
     ]
    }
   ],
   "source": [
    "%%time\n",
    "# Measure the execution time of the code block\n",
    "\n",
    "print('memory_usage:', df_Y.memory_usage(index=True).sum())\n",
    "# Calculate the memory usage of the 'df_Y' DataFrame, including the index, and print the sum of memory usage.\n",
    "# This provides information about the memory consumed by the DataFrame.\n",
    "\n",
    "display(df_Y.describe())\n",
    "# Generate descriptive statistics of the 'df_Y' DataFrame using the 'describe()' function.\n",
    "# This includes count, mean, standard deviation, minimum, quartiles, and maximum values for each column.\n",
    "# The summary statistics are displayed.\n",
    "\n",
    "fn4save = 'df_Y_' + str(Y.shape[1]) + '.csv'\n",
    "# Construct a filename string for saving the 'df_Y' DataFrame as a CSV file.\n",
    "# The filename is created by concatenating 'df_Y_', the number of columns in 'Y' converted to a string, and '.csv'.\n",
    "# Assign the resulting filename string to the variable 'fn4save'.\n",
    "\n",
    "df_Y.to_csv(fn4save)\n",
    "# Save the 'df_Y' DataFrame as a CSV file using the filename specified by 'fn4save'.\n",
    "# This stores the DataFrame in a CSV file for possible future use."
   ]
  },
  {
   "cell_type": "markdown",
   "id": "bea90e92",
   "metadata": {
    "papermill": {
     "duration": 0.029923,
     "end_time": "2023-06-01T06:52:28.521303",
     "exception": false,
     "start_time": "2023-06-01T06:52:28.491380",
     "status": "completed"
    },
    "tags": []
   },
   "source": [
    "# 3. Load pre-calculated protein embeddings as features (X)\n",
    "These will be our input features to train our model on, i.e. X.\n"
   ]
  },
  {
   "cell_type": "code",
   "execution_count": 12,
   "id": "0acbf06d",
   "metadata": {
    "execution": {
     "iopub.execute_input": "2023-06-01T06:52:28.584329Z",
     "iopub.status.busy": "2023-06-01T06:52:28.583853Z",
     "iopub.status.idle": "2023-06-01T06:52:37.411315Z",
     "shell.execute_reply": "2023-06-01T06:52:37.410113Z"
    },
    "papermill": {
     "duration": 8.862344,
     "end_time": "2023-06-01T06:52:37.413792",
     "exception": false,
     "start_time": "2023-06-01T06:52:28.551448",
     "status": "completed"
    },
    "tags": []
   },
   "outputs": [
    {
     "name": "stdout",
     "output_type": "stream",
     "text": [
      "/kaggle/input/cafa-5-ems-2-embeddings-numpy/train_embeddings.npy\n",
      "(142246, 1280)\n",
      "CPU times: user 11.2 ms, sys: 593 ms, total: 604 ms\n",
      "Wall time: 8.81 s\n"
     ]
    },
    {
     "data": {
      "text/plain": [
       "array([[-0.09229109, -0.06628396, -0.01226195, ..., -0.16065988,\n",
       "         0.0159197 ,  0.00173827],\n",
       "       [ 0.01162435, -0.03031761, -0.00580197, ..., -0.15341142,\n",
       "         0.00663222,  0.00142484],\n",
       "       [ 0.02737274, -0.04104703, -0.02920537, ..., -0.05123704,\n",
       "        -0.01053242,  0.02256369],\n",
       "       ...,\n",
       "       [ 0.03865814,  0.05410759,  0.07705976, ..., -0.01876229,\n",
       "        -0.03810686, -0.00907863],\n",
       "       [ 0.04108217, -0.02087224,  0.00023603, ..., -0.12550639,\n",
       "         0.02372905, -0.02574754],\n",
       "       [ 0.00182076, -0.03625007,  0.04457826, ..., -0.17811657,\n",
       "         0.01129874,  0.11669941]], dtype=float32)"
      ]
     },
     "execution_count": 12,
     "metadata": {},
     "output_type": "execute_result"
    }
   ],
   "source": [
    "%%time \n",
    "# Measure the execution time of the code block\n",
    "\n",
    "fn = '/kaggle/input/cafa-5-ems-2-embeddings-numpy/train_embeddings.npy'  # Set the variable 'fn' to the file path indicated (a NumPy array file).\n",
    "print(fn) # Print the 'fn' variable.\n",
    "X = np.load(fn) # Load the NumPy array from the file specified by 'fn' and assign it to the variable 'X'.\n",
    "print(X.shape) # Print the shape of the 'X' array.\n",
    "X # Output the 'X' array itself."
   ]
  },
  {
   "cell_type": "markdown",
   "id": "69403f82",
   "metadata": {
    "papermill": {
     "duration": 0.030061,
     "end_time": "2023-06-01T06:52:37.474338",
     "exception": false,
     "start_time": "2023-06-01T06:52:37.444277",
     "status": "completed"
    },
    "tags": []
   },
   "source": [
    "These embeddings have 142,246 entries (rows) with 1024 features (columns)."
   ]
  },
  {
   "cell_type": "code",
   "execution_count": 13,
   "id": "55d00390",
   "metadata": {
    "execution": {
     "iopub.execute_input": "2023-06-01T06:52:37.537384Z",
     "iopub.status.busy": "2023-06-01T06:52:37.536965Z",
     "iopub.status.idle": "2023-06-01T06:52:37.543326Z",
     "shell.execute_reply": "2023-06-01T06:52:37.542190Z"
    },
    "papermill": {
     "duration": 0.041321,
     "end_time": "2023-06-01T06:52:37.546139",
     "exception": false,
     "start_time": "2023-06-01T06:52:37.504818",
     "status": "completed"
    },
    "tags": []
   },
   "outputs": [],
   "source": [
    "## Alternatives to load:\n",
    "# fn = '/kaggle/input/cafa-5-ems-2-embeddings-numpy/test_embeddings.npy'"
   ]
  },
  {
   "cell_type": "markdown",
   "id": "92ec4920",
   "metadata": {
    "papermill": {
     "duration": 0.03025,
     "end_time": "2023-06-01T06:52:37.607838",
     "exception": false,
     "start_time": "2023-06-01T06:52:37.577588",
     "status": "completed"
    },
    "tags": []
   },
   "source": [
    "### Sanity check\n",
    "Check that the IDs from the training data (i.e. proteins in the T5 embedding) are the same as from the training labels data (i.e. proteins in the CAFA5 training set)."
   ]
  },
  {
   "cell_type": "code",
   "execution_count": 14,
   "id": "f0f78435",
   "metadata": {
    "execution": {
     "iopub.execute_input": "2023-06-01T06:52:37.671640Z",
     "iopub.status.busy": "2023-06-01T06:52:37.671214Z",
     "iopub.status.idle": "2023-06-01T06:52:38.614953Z",
     "shell.execute_reply": "2023-06-01T06:52:38.613555Z"
    },
    "papermill": {
     "duration": 0.979074,
     "end_time": "2023-06-01T06:52:38.617374",
     "exception": false,
     "start_time": "2023-06-01T06:52:37.638300",
     "status": "completed"
    },
    "tags": []
   },
   "outputs": [
    {
     "name": "stdout",
     "output_type": "stream",
     "text": [
      "142246 142246\n"
     ]
    }
   ],
   "source": [
    "s = set(vec_train_protein_ids) & set(trainTerms['EntryID'])\n",
    "# Create a set 's' by performing an intersection between the set of values in 'vec_train_protein_ids'\n",
    "# and the set of values in the 'EntryID' column of the 'trainTerms' dataframe.\n",
    "# The ampersand (&) operator is used to perform the intersection operation.\n",
    "\n",
    "print(len(s), len(X))\n",
    "# Print the lengths of the set 's' and the array 'X'.\n",
    "# The code is checking if the length of the set 's' is the same as the length of the array 'X'.\n"
   ]
  },
  {
   "cell_type": "markdown",
   "id": "1152768b",
   "metadata": {
    "papermill": {
     "duration": 0.030243,
     "end_time": "2023-06-01T06:52:38.677924",
     "exception": false,
     "start_time": "2023-06-01T06:52:38.647681",
     "status": "completed"
    },
    "tags": []
   },
   "source": [
    "### Convert features (X) into pandas dataframe (df_X)"
   ]
  },
  {
   "cell_type": "code",
   "execution_count": 15,
   "id": "b5a9658a",
   "metadata": {
    "execution": {
     "iopub.execute_input": "2023-06-01T06:52:38.740537Z",
     "iopub.status.busy": "2023-06-01T06:52:38.740099Z",
     "iopub.status.idle": "2023-06-01T06:52:38.772671Z",
     "shell.execute_reply": "2023-06-01T06:52:38.771571Z"
    },
    "papermill": {
     "duration": 0.066579,
     "end_time": "2023-06-01T06:52:38.774918",
     "exception": false,
     "start_time": "2023-06-01T06:52:38.708339",
     "status": "completed"
    },
    "tags": []
   },
   "outputs": [
    {
     "name": "stdout",
     "output_type": "stream",
     "text": [
      "(142246, 1280)\n"
     ]
    },
    {
     "data": {
      "text/html": [
       "<div>\n",
       "<style scoped>\n",
       "    .dataframe tbody tr th:only-of-type {\n",
       "        vertical-align: middle;\n",
       "    }\n",
       "\n",
       "    .dataframe tbody tr th {\n",
       "        vertical-align: top;\n",
       "    }\n",
       "\n",
       "    .dataframe thead th {\n",
       "        text-align: right;\n",
       "    }\n",
       "</style>\n",
       "<table border=\"1\" class=\"dataframe\">\n",
       "  <thead>\n",
       "    <tr style=\"text-align: right;\">\n",
       "      <th></th>\n",
       "      <th>Column_1</th>\n",
       "      <th>Column_2</th>\n",
       "      <th>Column_3</th>\n",
       "      <th>Column_4</th>\n",
       "      <th>Column_5</th>\n",
       "      <th>Column_6</th>\n",
       "      <th>Column_7</th>\n",
       "      <th>Column_8</th>\n",
       "      <th>Column_9</th>\n",
       "      <th>Column_10</th>\n",
       "      <th>...</th>\n",
       "      <th>Column_1271</th>\n",
       "      <th>Column_1272</th>\n",
       "      <th>Column_1273</th>\n",
       "      <th>Column_1274</th>\n",
       "      <th>Column_1275</th>\n",
       "      <th>Column_1276</th>\n",
       "      <th>Column_1277</th>\n",
       "      <th>Column_1278</th>\n",
       "      <th>Column_1279</th>\n",
       "      <th>Column_1280</th>\n",
       "    </tr>\n",
       "  </thead>\n",
       "  <tbody>\n",
       "    <tr>\n",
       "      <th>0</th>\n",
       "      <td>-0.092291</td>\n",
       "      <td>-0.066284</td>\n",
       "      <td>-0.012262</td>\n",
       "      <td>0.044118</td>\n",
       "      <td>-0.096111</td>\n",
       "      <td>-0.028308</td>\n",
       "      <td>-0.074759</td>\n",
       "      <td>0.100977</td>\n",
       "      <td>0.024241</td>\n",
       "      <td>0.083448</td>\n",
       "      <td>...</td>\n",
       "      <td>0.003669</td>\n",
       "      <td>-0.076738</td>\n",
       "      <td>-0.023574</td>\n",
       "      <td>0.013527</td>\n",
       "      <td>-0.104102</td>\n",
       "      <td>-0.047541</td>\n",
       "      <td>0.043210</td>\n",
       "      <td>-0.160660</td>\n",
       "      <td>0.015920</td>\n",
       "      <td>0.001738</td>\n",
       "    </tr>\n",
       "    <tr>\n",
       "      <th>1</th>\n",
       "      <td>0.011624</td>\n",
       "      <td>-0.030318</td>\n",
       "      <td>-0.005802</td>\n",
       "      <td>0.029026</td>\n",
       "      <td>0.028326</td>\n",
       "      <td>-0.034560</td>\n",
       "      <td>0.003770</td>\n",
       "      <td>-0.081593</td>\n",
       "      <td>-0.050148</td>\n",
       "      <td>-0.007592</td>\n",
       "      <td>...</td>\n",
       "      <td>0.082000</td>\n",
       "      <td>0.007247</td>\n",
       "      <td>-0.062506</td>\n",
       "      <td>0.095455</td>\n",
       "      <td>-0.063068</td>\n",
       "      <td>-0.010131</td>\n",
       "      <td>0.042478</td>\n",
       "      <td>-0.153411</td>\n",
       "      <td>0.006632</td>\n",
       "      <td>0.001425</td>\n",
       "    </tr>\n",
       "    <tr>\n",
       "      <th>2</th>\n",
       "      <td>0.027373</td>\n",
       "      <td>-0.041047</td>\n",
       "      <td>-0.029205</td>\n",
       "      <td>0.028087</td>\n",
       "      <td>-0.012250</td>\n",
       "      <td>-0.066159</td>\n",
       "      <td>0.030800</td>\n",
       "      <td>0.039873</td>\n",
       "      <td>0.000206</td>\n",
       "      <td>0.055686</td>\n",
       "      <td>...</td>\n",
       "      <td>0.083869</td>\n",
       "      <td>0.008130</td>\n",
       "      <td>-0.122658</td>\n",
       "      <td>-0.020470</td>\n",
       "      <td>0.016220</td>\n",
       "      <td>-0.014810</td>\n",
       "      <td>0.069728</td>\n",
       "      <td>-0.051237</td>\n",
       "      <td>-0.010532</td>\n",
       "      <td>0.022564</td>\n",
       "    </tr>\n",
       "    <tr>\n",
       "      <th>3</th>\n",
       "      <td>0.033766</td>\n",
       "      <td>-0.078889</td>\n",
       "      <td>-0.059741</td>\n",
       "      <td>0.045629</td>\n",
       "      <td>-0.060334</td>\n",
       "      <td>-0.015612</td>\n",
       "      <td>0.059876</td>\n",
       "      <td>-0.038531</td>\n",
       "      <td>-0.001667</td>\n",
       "      <td>0.075625</td>\n",
       "      <td>...</td>\n",
       "      <td>0.029910</td>\n",
       "      <td>-0.010136</td>\n",
       "      <td>-0.007829</td>\n",
       "      <td>0.052135</td>\n",
       "      <td>0.009843</td>\n",
       "      <td>-0.006972</td>\n",
       "      <td>0.037077</td>\n",
       "      <td>-0.103541</td>\n",
       "      <td>0.010925</td>\n",
       "      <td>0.158402</td>\n",
       "    </tr>\n",
       "    <tr>\n",
       "      <th>4</th>\n",
       "      <td>0.011948</td>\n",
       "      <td>-0.002108</td>\n",
       "      <td>-0.084922</td>\n",
       "      <td>0.068762</td>\n",
       "      <td>0.002155</td>\n",
       "      <td>-0.093367</td>\n",
       "      <td>0.114656</td>\n",
       "      <td>0.040136</td>\n",
       "      <td>0.067143</td>\n",
       "      <td>0.073344</td>\n",
       "      <td>...</td>\n",
       "      <td>-0.030091</td>\n",
       "      <td>0.021493</td>\n",
       "      <td>-0.246086</td>\n",
       "      <td>0.030696</td>\n",
       "      <td>-0.050064</td>\n",
       "      <td>0.078881</td>\n",
       "      <td>0.008374</td>\n",
       "      <td>-0.050359</td>\n",
       "      <td>-0.055477</td>\n",
       "      <td>0.020290</td>\n",
       "    </tr>\n",
       "  </tbody>\n",
       "</table>\n",
       "<p>5 rows × 1280 columns</p>\n",
       "</div>"
      ],
      "text/plain": [
       "   Column_1  Column_2  Column_3  Column_4  Column_5  Column_6  Column_7  \\\n",
       "0 -0.092291 -0.066284 -0.012262  0.044118 -0.096111 -0.028308 -0.074759   \n",
       "1  0.011624 -0.030318 -0.005802  0.029026  0.028326 -0.034560  0.003770   \n",
       "2  0.027373 -0.041047 -0.029205  0.028087 -0.012250 -0.066159  0.030800   \n",
       "3  0.033766 -0.078889 -0.059741  0.045629 -0.060334 -0.015612  0.059876   \n",
       "4  0.011948 -0.002108 -0.084922  0.068762  0.002155 -0.093367  0.114656   \n",
       "\n",
       "   Column_8  Column_9  Column_10  ...  Column_1271  Column_1272  Column_1273  \\\n",
       "0  0.100977  0.024241   0.083448  ...     0.003669    -0.076738    -0.023574   \n",
       "1 -0.081593 -0.050148  -0.007592  ...     0.082000     0.007247    -0.062506   \n",
       "2  0.039873  0.000206   0.055686  ...     0.083869     0.008130    -0.122658   \n",
       "3 -0.038531 -0.001667   0.075625  ...     0.029910    -0.010136    -0.007829   \n",
       "4  0.040136  0.067143   0.073344  ...    -0.030091     0.021493    -0.246086   \n",
       "\n",
       "   Column_1274  Column_1275  Column_1276  Column_1277  Column_1278  \\\n",
       "0     0.013527    -0.104102    -0.047541     0.043210    -0.160660   \n",
       "1     0.095455    -0.063068    -0.010131     0.042478    -0.153411   \n",
       "2    -0.020470     0.016220    -0.014810     0.069728    -0.051237   \n",
       "3     0.052135     0.009843    -0.006972     0.037077    -0.103541   \n",
       "4     0.030696    -0.050064     0.078881     0.008374    -0.050359   \n",
       "\n",
       "   Column_1279  Column_1280  \n",
       "0     0.015920     0.001738  \n",
       "1     0.006632     0.001425  \n",
       "2    -0.010532     0.022564  \n",
       "3     0.010925     0.158402  \n",
       "4    -0.055477     0.020290  \n",
       "\n",
       "[5 rows x 1280 columns]"
      ]
     },
     "execution_count": 15,
     "metadata": {},
     "output_type": "execute_result"
    }
   ],
   "source": [
    "# Now lets convert embeddings numpy array(train_embeddings) into pandas dataframe.\n",
    "column_num = X.shape[1]\n",
    "df_X = pd.DataFrame(X, columns = [\"Column_\" + str(i) for i in range(1, column_num+1)])\n",
    "print(df_X.shape)\n",
    "df_X.head()"
   ]
  },
  {
   "cell_type": "markdown",
   "id": "242b5a4d",
   "metadata": {
    "papermill": {
     "duration": 0.030537,
     "end_time": "2023-06-01T06:52:38.836280",
     "exception": false,
     "start_time": "2023-06-01T06:52:38.805743",
     "status": "completed"
    },
    "tags": []
   },
   "source": [
    "N.B. Already converted labels into pandas dataframe (df_Y) above"
   ]
  },
  {
   "cell_type": "markdown",
   "id": "53b58dfd",
   "metadata": {
    "papermill": {
     "duration": 0.030824,
     "end_time": "2023-06-01T06:52:38.898255",
     "exception": false,
     "start_time": "2023-06-01T06:52:38.867431",
     "status": "completed"
    },
    "tags": []
   },
   "source": [
    "## Training a neural network model\n",
    "\n",
    "Number of input nodes is equal to the number of features (i.e. number of columns in X).\n",
    "\n",
    "Number of (binary) output nodes is equal to the number of labels."
   ]
  },
  {
   "cell_type": "code",
   "execution_count": 16,
   "id": "08fb85bf",
   "metadata": {
    "execution": {
     "iopub.execute_input": "2023-06-01T06:52:38.962573Z",
     "iopub.status.busy": "2023-06-01T06:52:38.961889Z",
     "iopub.status.idle": "2023-06-01T07:15:06.516666Z",
     "shell.execute_reply": "2023-06-01T07:15:06.515601Z"
    },
    "papermill": {
     "duration": 1347.743025,
     "end_time": "2023-06-01T07:15:06.672253",
     "exception": false,
     "start_time": "2023-06-01T06:52:38.929228",
     "status": "completed"
    },
    "tags": []
   },
   "outputs": [
    {
     "name": "stderr",
     "output_type": "stream",
     "text": [
      "/opt/conda/lib/python3.10/site-packages/tensorflow_addons/utils/tfa_eol_msg.py:23: UserWarning: \n",
      "\n",
      "TensorFlow Addons (TFA) has ended development and introduction of new features.\n",
      "TFA has entered a minimal maintenance and release mode until a planned end of life in May 2024.\n",
      "Please modify downstream libraries to take dependencies from other repositories in our TensorFlow community (e.g. Keras, Keras-CV, and Keras-NLP). \n",
      "\n",
      "For more information see: https://github.com/tensorflow/addons/issues/2807 \n",
      "\n",
      "  warnings.warn(\n"
     ]
    },
    {
     "name": "stdout",
     "output_type": "stream",
     "text": [
      "Number of input nodes = [1280]\n",
      "Number of output nodes = 1499\n",
      "Epoch 1/50\n",
      "23/23 [==============================] - 31s 1s/step - loss: 0.1472 - binary_accuracy: 0.9481 - precision: 0.0847 - recall: 0.1528 - auc: 0.7268 - f1_score: 0.0220 - val_loss: 0.4080 - val_binary_accuracy: 0.9793 - val_precision: 0.4875 - val_recall: 0.1668 - val_auc: 0.7965 - val_f1_score: 0.0052\n",
      "Epoch 2/50\n",
      "23/23 [==============================] - 27s 1s/step - loss: 0.0754 - binary_accuracy: 0.9799 - precision: 0.5773 - recall: 0.1288 - auc: 0.8446 - f1_score: 0.0066 - val_loss: 0.3714 - val_binary_accuracy: 0.9789 - val_precision: 0.4683 - val_recall: 0.2102 - val_auc: 0.8322 - val_f1_score: 0.0063\n",
      "Epoch 3/50\n",
      "23/23 [==============================] - 28s 1s/step - loss: 0.0703 - binary_accuracy: 0.9802 - precision: 0.5951 - recall: 0.1539 - auc: 0.8754 - f1_score: 0.0103 - val_loss: 0.3228 - val_binary_accuracy: 0.9795 - val_precision: 0.4974 - val_recall: 0.2077 - val_auc: 0.8566 - val_f1_score: 0.0070\n",
      "Epoch 4/50\n",
      "23/23 [==============================] - 27s 1s/step - loss: 0.0674 - binary_accuracy: 0.9804 - precision: 0.6053 - recall: 0.1698 - auc: 0.8912 - f1_score: 0.0185 - val_loss: 0.2943 - val_binary_accuracy: 0.9797 - val_precision: 0.5089 - val_recall: 0.2099 - val_auc: 0.8739 - val_f1_score: 0.0076\n",
      "Epoch 5/50\n",
      "23/23 [==============================] - 26s 1s/step - loss: 0.0654 - binary_accuracy: 0.9806 - precision: 0.6141 - recall: 0.1839 - auc: 0.9002 - f1_score: 0.0280 - val_loss: 0.2725 - val_binary_accuracy: 0.9797 - val_precision: 0.5100 - val_recall: 0.2158 - val_auc: 0.8872 - val_f1_score: 0.0084\n",
      "Epoch 6/50\n",
      "23/23 [==============================] - 25s 1s/step - loss: 0.0641 - binary_accuracy: 0.9807 - precision: 0.6152 - recall: 0.1967 - auc: 0.9057 - f1_score: 0.0371 - val_loss: 0.2472 - val_binary_accuracy: 0.9800 - val_precision: 0.5326 - val_recall: 0.2031 - val_auc: 0.8907 - val_f1_score: 0.0080\n",
      "Epoch 7/50\n",
      "23/23 [==============================] - 27s 1s/step - loss: 0.0630 - binary_accuracy: 0.9809 - precision: 0.6201 - recall: 0.2052 - auc: 0.9102 - f1_score: 0.0435 - val_loss: 0.2193 - val_binary_accuracy: 0.9801 - val_precision: 0.5375 - val_recall: 0.2075 - val_auc: 0.8959 - val_f1_score: 0.0091\n",
      "Epoch 8/50\n",
      "23/23 [==============================] - 27s 1s/step - loss: 0.0621 - binary_accuracy: 0.9810 - precision: 0.6224 - recall: 0.2150 - auc: 0.9130 - f1_score: 0.0523 - val_loss: 0.2416 - val_binary_accuracy: 0.9802 - val_precision: 0.5383 - val_recall: 0.2321 - val_auc: 0.9065 - val_f1_score: 0.0153\n",
      "Epoch 9/50\n",
      "23/23 [==============================] - 27s 1s/step - loss: 0.0615 - binary_accuracy: 0.9811 - precision: 0.6243 - recall: 0.2231 - auc: 0.9157 - f1_score: 0.0592 - val_loss: 0.2086 - val_binary_accuracy: 0.9805 - val_precision: 0.5617 - val_recall: 0.2138 - val_auc: 0.9134 - val_f1_score: 0.0131\n",
      "Epoch 10/50\n",
      "23/23 [==============================] - 26s 1s/step - loss: 0.0607 - binary_accuracy: 0.9812 - precision: 0.6292 - recall: 0.2285 - auc: 0.9180 - f1_score: 0.0661 - val_loss: 0.2259 - val_binary_accuracy: 0.9801 - val_precision: 0.5287 - val_recall: 0.2629 - val_auc: 0.9155 - val_f1_score: 0.0298\n",
      "Epoch 11/50\n",
      "23/23 [==============================] - 26s 1s/step - loss: 0.0601 - binary_accuracy: 0.9812 - precision: 0.6277 - recall: 0.2372 - auc: 0.9204 - f1_score: 0.0732 - val_loss: 0.1973 - val_binary_accuracy: 0.9805 - val_precision: 0.5578 - val_recall: 0.2358 - val_auc: 0.9209 - val_f1_score: 0.0230\n",
      "Epoch 12/50\n",
      "23/23 [==============================] - 27s 1s/step - loss: 0.0591 - binary_accuracy: 0.9814 - precision: 0.6358 - recall: 0.2437 - auc: 0.9235 - f1_score: 0.0811 - val_loss: 0.1868 - val_binary_accuracy: 0.9805 - val_precision: 0.5560 - val_recall: 0.2527 - val_auc: 0.9218 - val_f1_score: 0.0337\n",
      "Epoch 13/50\n",
      "23/23 [==============================] - 26s 1s/step - loss: 0.0587 - binary_accuracy: 0.9814 - precision: 0.6352 - recall: 0.2514 - auc: 0.9249 - f1_score: 0.0885 - val_loss: 0.1720 - val_binary_accuracy: 0.9808 - val_precision: 0.5751 - val_recall: 0.2435 - val_auc: 0.9247 - val_f1_score: 0.0410\n",
      "Epoch 14/50\n",
      "23/23 [==============================] - 26s 1s/step - loss: 0.0581 - binary_accuracy: 0.9815 - precision: 0.6401 - recall: 0.2559 - auc: 0.9267 - f1_score: 0.0939 - val_loss: 0.1639 - val_binary_accuracy: 0.9806 - val_precision: 0.5555 - val_recall: 0.2653 - val_auc: 0.9254 - val_f1_score: 0.0480\n",
      "Epoch 15/50\n",
      "23/23 [==============================] - 27s 1s/step - loss: 0.0576 - binary_accuracy: 0.9816 - precision: 0.6401 - recall: 0.2646 - auc: 0.9279 - f1_score: 0.1012 - val_loss: 0.1452 - val_binary_accuracy: 0.9808 - val_precision: 0.5717 - val_recall: 0.2596 - val_auc: 0.9269 - val_f1_score: 0.0531\n",
      "Epoch 16/50\n",
      "23/23 [==============================] - 25s 1s/step - loss: 0.0570 - binary_accuracy: 0.9817 - precision: 0.6444 - recall: 0.2698 - auc: 0.9300 - f1_score: 0.1099 - val_loss: 0.1323 - val_binary_accuracy: 0.9808 - val_precision: 0.5676 - val_recall: 0.2742 - val_auc: 0.9296 - val_f1_score: 0.0658\n",
      "Epoch 17/50\n",
      "23/23 [==============================] - 25s 1s/step - loss: 0.0565 - binary_accuracy: 0.9818 - precision: 0.6459 - recall: 0.2791 - auc: 0.9313 - f1_score: 0.1191 - val_loss: 0.1174 - val_binary_accuracy: 0.9808 - val_precision: 0.5610 - val_recall: 0.2838 - val_auc: 0.9309 - val_f1_score: 0.0778\n",
      "Epoch 18/50\n",
      "23/23 [==============================] - 25s 1s/step - loss: 0.0562 - binary_accuracy: 0.9819 - precision: 0.6460 - recall: 0.2819 - auc: 0.9319 - f1_score: 0.1234 - val_loss: 0.1020 - val_binary_accuracy: 0.9811 - val_precision: 0.5892 - val_recall: 0.2605 - val_auc: 0.9303 - val_f1_score: 0.0687\n",
      "Epoch 19/50\n",
      "23/23 [==============================] - 27s 1s/step - loss: 0.0555 - binary_accuracy: 0.9820 - precision: 0.6523 - recall: 0.2896 - auc: 0.9339 - f1_score: 0.1327 - val_loss: 0.0908 - val_binary_accuracy: 0.9811 - val_precision: 0.5866 - val_recall: 0.2686 - val_auc: 0.9321 - val_f1_score: 0.0794\n",
      "Epoch 20/50\n",
      "23/23 [==============================] - 25s 1s/step - loss: 0.0551 - binary_accuracy: 0.9821 - precision: 0.6534 - recall: 0.2946 - auc: 0.9349 - f1_score: 0.1376 - val_loss: 0.0790 - val_binary_accuracy: 0.9814 - val_precision: 0.6175 - val_recall: 0.2395 - val_auc: 0.9314 - val_f1_score: 0.0781\n",
      "Epoch 21/50\n",
      "23/23 [==============================] - 25s 1s/step - loss: 0.0547 - binary_accuracy: 0.9822 - precision: 0.6561 - recall: 0.3006 - auc: 0.9359 - f1_score: 0.1463 - val_loss: 0.0767 - val_binary_accuracy: 0.9811 - val_precision: 0.5796 - val_recall: 0.2865 - val_auc: 0.9339 - val_f1_score: 0.1029\n",
      "Epoch 22/50\n",
      "23/23 [==============================] - 27s 1s/step - loss: 0.0544 - binary_accuracy: 0.9822 - precision: 0.6550 - recall: 0.3067 - auc: 0.9368 - f1_score: 0.1520 - val_loss: 0.0670 - val_binary_accuracy: 0.9815 - val_precision: 0.6174 - val_recall: 0.2534 - val_auc: 0.9327 - val_f1_score: 0.0856\n",
      "Epoch 23/50\n",
      "23/23 [==============================] - 25s 1s/step - loss: 0.0539 - binary_accuracy: 0.9823 - precision: 0.6603 - recall: 0.3091 - auc: 0.9379 - f1_score: 0.1582 - val_loss: 0.0641 - val_binary_accuracy: 0.9815 - val_precision: 0.6222 - val_recall: 0.2484 - val_auc: 0.9306 - val_f1_score: 0.0902\n",
      "Epoch 24/50\n",
      "23/23 [==============================] - 27s 1s/step - loss: 0.0537 - binary_accuracy: 0.9824 - precision: 0.6603 - recall: 0.3147 - auc: 0.9384 - f1_score: 0.1607 - val_loss: 0.0658 - val_binary_accuracy: 0.9813 - val_precision: 0.5853 - val_recall: 0.2928 - val_auc: 0.9318 - val_f1_score: 0.1233\n",
      "Epoch 25/50\n",
      "23/23 [==============================] - 26s 1s/step - loss: 0.0530 - binary_accuracy: 0.9825 - precision: 0.6641 - recall: 0.3220 - auc: 0.9402 - f1_score: 0.1730 - val_loss: 0.0630 - val_binary_accuracy: 0.9814 - val_precision: 0.6033 - val_recall: 0.2677 - val_auc: 0.9290 - val_f1_score: 0.1097\n",
      "Epoch 26/50\n",
      "23/23 [==============================] - 25s 1s/step - loss: 0.0528 - binary_accuracy: 0.9826 - precision: 0.6648 - recall: 0.3258 - auc: 0.9409 - f1_score: 0.1764 - val_loss: 0.0643 - val_binary_accuracy: 0.9810 - val_precision: 0.5678 - val_recall: 0.3099 - val_auc: 0.9315 - val_f1_score: 0.1414\n",
      "Epoch 27/50\n",
      "23/23 [==============================] - 25s 1s/step - loss: 0.0526 - binary_accuracy: 0.9826 - precision: 0.6651 - recall: 0.3304 - auc: 0.9414 - f1_score: 0.1796 - val_loss: 0.0604 - val_binary_accuracy: 0.9814 - val_precision: 0.6032 - val_recall: 0.2689 - val_auc: 0.9241 - val_f1_score: 0.1188\n",
      "Epoch 28/50\n",
      "23/23 [==============================] - 27s 1s/step - loss: 0.0524 - binary_accuracy: 0.9827 - precision: 0.6701 - recall: 0.3299 - auc: 0.9416 - f1_score: 0.1836 - val_loss: 0.0601 - val_binary_accuracy: 0.9813 - val_precision: 0.5884 - val_recall: 0.2990 - val_auc: 0.9234 - val_f1_score: 0.1323\n",
      "Epoch 29/50\n",
      "23/23 [==============================] - 25s 1s/step - loss: 0.0517 - binary_accuracy: 0.9829 - precision: 0.6739 - recall: 0.3398 - auc: 0.9433 - f1_score: 0.1922 - val_loss: 0.0604 - val_binary_accuracy: 0.9810 - val_precision: 0.5682 - val_recall: 0.3144 - val_auc: 0.9234 - val_f1_score: 0.1515\n",
      "Epoch 30/50\n",
      "23/23 [==============================] - 25s 1s/step - loss: 0.0515 - binary_accuracy: 0.9829 - precision: 0.6734 - recall: 0.3432 - auc: 0.9437 - f1_score: 0.1962 - val_loss: 0.0612 - val_binary_accuracy: 0.9811 - val_precision: 0.5701 - val_recall: 0.3087 - val_auc: 0.9232 - val_f1_score: 0.1561\n",
      "Epoch 31/50\n",
      "23/23 [==============================] - 24s 1s/step - loss: 0.0519 - binary_accuracy: 0.9828 - precision: 0.6690 - recall: 0.3393 - auc: 0.9431 - f1_score: 0.1931 - val_loss: 0.0598 - val_binary_accuracy: 0.9812 - val_precision: 0.5780 - val_recall: 0.3027 - val_auc: 0.9165 - val_f1_score: 0.1426\n",
      "Epoch 32/50\n",
      "23/23 [==============================] - 27s 1s/step - loss: 0.0508 - binary_accuracy: 0.9830 - precision: 0.6774 - recall: 0.3521 - auc: 0.9453 - f1_score: 0.2078 - val_loss: 0.0599 - val_binary_accuracy: 0.9815 - val_precision: 0.6030 - val_recall: 0.2790 - val_auc: 0.9152 - val_f1_score: 0.1365\n",
      "Epoch 33/50\n",
      "23/23 [==============================] - 25s 1s/step - loss: 0.0508 - binary_accuracy: 0.9830 - precision: 0.6758 - recall: 0.3532 - auc: 0.9453 - f1_score: 0.2092 - val_loss: 0.0597 - val_binary_accuracy: 0.9814 - val_precision: 0.5991 - val_recall: 0.2840 - val_auc: 0.9133 - val_f1_score: 0.1478\n",
      "Epoch 34/50\n",
      "23/23 [==============================] - 25s 1s/step - loss: 0.0504 - binary_accuracy: 0.9832 - precision: 0.6787 - recall: 0.3599 - auc: 0.9461 - f1_score: 0.2170 - val_loss: 0.0601 - val_binary_accuracy: 0.9815 - val_precision: 0.6006 - val_recall: 0.2844 - val_auc: 0.9100 - val_f1_score: 0.1401\n",
      "Epoch 35/50\n",
      "23/23 [==============================] - 26s 1s/step - loss: 0.0502 - binary_accuracy: 0.9832 - precision: 0.6822 - recall: 0.3625 - auc: 0.9464 - f1_score: 0.2214 - val_loss: 0.0605 - val_binary_accuracy: 0.9814 - val_precision: 0.5957 - val_recall: 0.2839 - val_auc: 0.9099 - val_f1_score: 0.1405\n",
      "Epoch 36/50\n",
      "23/23 [==============================] - 27s 1s/step - loss: 0.0498 - binary_accuracy: 0.9833 - precision: 0.6834 - recall: 0.3664 - auc: 0.9478 - f1_score: 0.2261 - val_loss: 0.0604 - val_binary_accuracy: 0.9811 - val_precision: 0.5712 - val_recall: 0.3093 - val_auc: 0.9112 - val_f1_score: 0.1583\n",
      "Epoch 37/50\n",
      "23/23 [==============================] - 25s 1s/step - loss: 0.0492 - binary_accuracy: 0.9835 - precision: 0.6886 - recall: 0.3728 - auc: 0.9488 - f1_score: 0.2334 - val_loss: 0.0610 - val_binary_accuracy: 0.9812 - val_precision: 0.5774 - val_recall: 0.3013 - val_auc: 0.9059 - val_f1_score: 0.1604\n",
      "Epoch 38/50\n",
      "23/23 [==============================] - 27s 1s/step - loss: 0.0498 - binary_accuracy: 0.9833 - precision: 0.6814 - recall: 0.3698 - auc: 0.9473 - f1_score: 0.2278 - val_loss: 0.0607 - val_binary_accuracy: 0.9814 - val_precision: 0.5910 - val_recall: 0.2982 - val_auc: 0.9050 - val_f1_score: 0.1486\n",
      "Epoch 39/50\n",
      "23/23 [==============================] - 27s 1s/step - loss: 0.0490 - binary_accuracy: 0.9835 - precision: 0.6883 - recall: 0.3782 - auc: 0.9493 - f1_score: 0.2397 - val_loss: 0.0621 - val_binary_accuracy: 0.9817 - val_precision: 0.6371 - val_recall: 0.2482 - val_auc: 0.8942 - val_f1_score: 0.1328\n",
      "Epoch 40/50\n",
      "23/23 [==============================] - 26s 1s/step - loss: 0.0488 - binary_accuracy: 0.9836 - precision: 0.6908 - recall: 0.3792 - auc: 0.9496 - f1_score: 0.2408 - val_loss: 0.0612 - val_binary_accuracy: 0.9811 - val_precision: 0.5768 - val_recall: 0.2998 - val_auc: 0.9052 - val_f1_score: 0.1616\n",
      "Epoch 41/50\n",
      "23/23 [==============================] - 24s 1s/step - loss: 0.0484 - binary_accuracy: 0.9837 - precision: 0.6928 - recall: 0.3854 - auc: 0.9505 - f1_score: 0.2476 - val_loss: 0.0612 - val_binary_accuracy: 0.9814 - val_precision: 0.5912 - val_recall: 0.2958 - val_auc: 0.9031 - val_f1_score: 0.1633\n",
      "Epoch 42/50\n",
      "23/23 [==============================] - 24s 1s/step - loss: 0.0483 - binary_accuracy: 0.9837 - precision: 0.6920 - recall: 0.3884 - auc: 0.9507 - f1_score: 0.2522 - val_loss: 0.0613 - val_binary_accuracy: 0.9806 - val_precision: 0.5425 - val_recall: 0.3443 - val_auc: 0.9113 - val_f1_score: 0.1894\n",
      "Epoch 43/50\n",
      "23/23 [==============================] - 27s 1s/step - loss: 0.0480 - binary_accuracy: 0.9838 - precision: 0.6940 - recall: 0.3925 - auc: 0.9516 - f1_score: 0.2556 - val_loss: 0.0625 - val_binary_accuracy: 0.9813 - val_precision: 0.5898 - val_recall: 0.2859 - val_auc: 0.8957 - val_f1_score: 0.1557\n",
      "Epoch 44/50\n",
      "23/23 [==============================] - 27s 1s/step - loss: 0.0480 - binary_accuracy: 0.9838 - precision: 0.6951 - recall: 0.3925 - auc: 0.9515 - f1_score: 0.2563 - val_loss: 0.0614 - val_binary_accuracy: 0.9814 - val_precision: 0.5891 - val_recall: 0.3054 - val_auc: 0.9016 - val_f1_score: 0.1705\n",
      "Epoch 45/50\n",
      "23/23 [==============================] - 27s 1s/step - loss: 0.0474 - binary_accuracy: 0.9840 - precision: 0.7005 - recall: 0.3999 - auc: 0.9525 - f1_score: 0.2665 - val_loss: 0.0618 - val_binary_accuracy: 0.9814 - val_precision: 0.5923 - val_recall: 0.2956 - val_auc: 0.8997 - val_f1_score: 0.1671\n",
      "Epoch 46/50\n",
      "23/23 [==============================] - 27s 1s/step - loss: 0.0475 - binary_accuracy: 0.9839 - precision: 0.6986 - recall: 0.3989 - auc: 0.9521 - f1_score: 0.2637 - val_loss: 0.0615 - val_binary_accuracy: 0.9812 - val_precision: 0.5733 - val_recall: 0.3181 - val_auc: 0.9034 - val_f1_score: 0.1806\n",
      "Epoch 47/50\n",
      "23/23 [==============================] - 27s 1s/step - loss: 0.0472 - binary_accuracy: 0.9840 - precision: 0.6998 - recall: 0.4031 - auc: 0.9529 - f1_score: 0.2706 - val_loss: 0.0619 - val_binary_accuracy: 0.9806 - val_precision: 0.5432 - val_recall: 0.3488 - val_auc: 0.9065 - val_f1_score: 0.1901\n",
      "Epoch 48/50\n",
      "23/23 [==============================] - 27s 1s/step - loss: 0.0470 - binary_accuracy: 0.9840 - precision: 0.6999 - recall: 0.4053 - auc: 0.9534 - f1_score: 0.2720 - val_loss: 0.0625 - val_binary_accuracy: 0.9810 - val_precision: 0.5610 - val_recall: 0.3283 - val_auc: 0.8988 - val_f1_score: 0.1806\n",
      "Epoch 49/50\n",
      "23/23 [==============================] - 27s 1s/step - loss: 0.0467 - binary_accuracy: 0.9841 - precision: 0.7027 - recall: 0.4089 - auc: 0.9540 - f1_score: 0.2765 - val_loss: 0.0622 - val_binary_accuracy: 0.9812 - val_precision: 0.5810 - val_recall: 0.3052 - val_auc: 0.8988 - val_f1_score: 0.1733\n",
      "Epoch 50/50\n",
      "23/23 [==============================] - 27s 1s/step - loss: 0.0464 - binary_accuracy: 0.9842 - precision: 0.7049 - recall: 0.4126 - auc: 0.9544 - f1_score: 0.2808 - val_loss: 0.0621 - val_binary_accuracy: 0.9810 - val_precision: 0.5611 - val_recall: 0.3328 - val_auc: 0.9020 - val_f1_score: 0.1912\n",
      "CPU times: user 1h 17min 22s, sys: 3min 19s, total: 1h 20min 42s\n",
      "Wall time: 22min 27s\n"
     ]
    }
   ],
   "source": [
    "%%time \n",
    "# Measure the execution time of the code block\n",
    "\n",
    "import tensorflow_addons as tfa\n",
    "\n",
    "# Set hyperparameters\n",
    "INPUT_SHAPE = [df_X.shape[1]]\n",
    "BATCH_SIZE = 5120\n",
    "LEARNING_RATE = 0.01\n",
    "EPOCHS = 50\n",
    "classification_threshold = 0.47\n",
    "VALIDATION_SPLIT = 0.2\n",
    "\n",
    "print(\"Number of input nodes = \" + str(INPUT_SHAPE))\n",
    "print(\"Number of output nodes = \" + str(n_labels_to_consider))\n",
    "\n",
    "# Generate neural net model with 3 hidden layers, each with 512 nodes and \n",
    "# ReLU activation function. Output layer uses a sigmoid activation function.\n",
    "model = tf.keras.Sequential([\n",
    "    tf.keras.layers.BatchNormalization(input_shape=INPUT_SHAPE),    \n",
    "    tf.keras.layers.Dense(units=512, activation='relu'),\n",
    "    #tf.keras.layers.Dropout(rate=0.2),\n",
    "    tf.keras.layers.Dense(units=512, activation='relu'),\n",
    "    tf.keras.layers.Dense(units=512, activation='relu'),\n",
    "    tf.keras.layers.Dense(units=n_labels_to_consider,activation='sigmoid')\n",
    "])\n",
    "\n",
    "\n",
    "# Compile model, using Binary CrossEntropy loss function\n",
    "model.compile(\n",
    "    optimizer=tf.keras.optimizers.Adam(learning_rate=LEARNING_RATE),\n",
    "    loss='binary_crossentropy',\n",
    "    metrics=[\n",
    "        tf.keras.metrics.BinaryAccuracy(threshold=classification_threshold,\n",
    "                                       name='binary_accuracy'),\n",
    "        tf.keras.metrics.Precision(thresholds=classification_threshold,\n",
    "                                 name='precision'),\n",
    "        tf.keras.metrics.Recall(thresholds=classification_threshold,\n",
    "                              name=\"recall\"),\n",
    "        tf.keras.metrics.AUC(num_thresholds=100, \n",
    "                             name='auc'),\n",
    "        tfa.metrics.F1Score(num_classes=n_labels_to_consider, \n",
    "                            threshold=classification_threshold,\n",
    "                            name='f1_score')\n",
    "        #tf.keras.metrics.F1Score(threshold=classification_threshold,\n",
    "        #                         name='f1_score'),\n",
    "        # tf.keras.metrics.MeanIoU(num_classes=n_labels_to_consider),\n",
    "    ],  \n",
    ")\n",
    "\n",
    "history = model.fit(\n",
    "    df_X, df_Y,\n",
    "    batch_size=BATCH_SIZE,\n",
    "    epochs=EPOCHS,\n",
    "    validation_split=VALIDATION_SPLIT,\n",
    ")\n",
    "\n",
    "epochs = history.epoch\n",
    "# The list of epochs is stored separately from the rest of history.\n",
    "\n",
    "history_df = pd.DataFrame(history.history)\n",
    "# Create a pandas DataFrame 'history_df' from the 'history' object, which typically contains the training history of a neural network model.\n",
    "# Each metric tracked during training, such as loss and accuracy, is stored in 'history' as a dictionary.\n",
    "# The DataFrame 'history_df' is constructed from this dictionary."
   ]
  },
  {
   "cell_type": "markdown",
   "id": "7840e976",
   "metadata": {
    "papermill": {
     "duration": 0.149157,
     "end_time": "2023-06-01T07:15:06.971071",
     "exception": false,
     "start_time": "2023-06-01T07:15:06.821914",
     "status": "completed"
    },
    "tags": []
   },
   "source": [
    "**Accuracy** is high (98%) but that doesn't mean much because we have highly imbalanced classes (number of positives vs negatives for each label).\n",
    "\n",
    "**Precision** is pretty average (~67%), meaning that we have a substantial number of False Positives (i.e. Of the Positives the model called, only 67% were correct, 33% were incorrect).\n",
    "\n",
    "**Recall** is low (~25%), meaning that we have a lot of False Negatives (i.e. many True Positives that the model missed).\n",
    "\n",
    "**AUC** is actually pretty high (93%), meaning (I think) that if we can find the right classification_threshold then Precision and Recall should get substantially better."
   ]
  },
  {
   "cell_type": "code",
   "execution_count": 17,
   "id": "44ee5959",
   "metadata": {
    "execution": {
     "iopub.execute_input": "2023-06-01T07:15:07.294259Z",
     "iopub.status.busy": "2023-06-01T07:15:07.293527Z",
     "iopub.status.idle": "2023-06-01T07:15:07.300318Z",
     "shell.execute_reply": "2023-06-01T07:15:07.299443Z"
    },
    "papermill": {
     "duration": 0.166453,
     "end_time": "2023-06-01T07:15:07.302671",
     "exception": false,
     "start_time": "2023-06-01T07:15:07.136218",
     "status": "completed"
    },
    "tags": []
   },
   "outputs": [],
   "source": [
    "## T5 embeddings + Neural Network\n",
    "## Statistics Recordings for Different Combinations of Hyperparameters:\n",
    "\n",
    "# For 20 Epochs, 0.5 threshold, 0.001 learning_rate final stats are:\n",
    "# - loss: 0.0545 - binary_accuracy: 0.9823 - precision: 0.6825 - recall: 0.2751 - auc: 0.9370\n",
    "\n",
    "# For 20 Epochs, 0.5 threshold, 0.01 learning_rate final stats are:\n",
    "# - loss: 0.0514 - binary_accuracy: 0.9829 - precision: 0.6907 - recall: 0.3167 - auc: 0.9444\n",
    "\n",
    "# For 10 Epochs, 0.3 threshold, 0.01 learning_rate, 5120 batch_size; final stats are:\n",
    "# - loss: 0.0569 - binary_accuracy: 0.9800 - precision: 0.5220 - recall: 0.4115 - auc: 0.9297\n",
    "# Precision down by 17%, recall up by 10%.\n",
    "\n",
    "# For 10 Epochs, 0.7 threshold, 0.01 learning_rate, 5120 batch_size; final stats are:\n",
    "# - loss: 0.0566 - binary_accuracy: 0.9809 - precision: 0.7977 - recall: 0.1074 - auc: 0.9309\n",
    "# Precision up by 10%, recall down by 20%.\n",
    "\n",
    "# For 10 Epochs, 0.55 threshold, 0.01 learning_rate, 5120 batch_size; final stats are:\n",
    "# - loss: 0.0569 - binary_accuracy: 0.9817 - precision: 0.6979 - recall: 0.2087 - auc: 0.9302\n",
    "\n",
    "# For 10 Epochs, 0.45 threshold, 0.01 learning_rate, 5120 batch_size; final stats are:\n",
    "# - loss: 0.0567 - binary_accuracy: 0.9818 - precision: 0.6327 - recall: 0.2861 - auc: 0.9306\n",
    "\n",
    "# For 20 Epochs, 0.47 threshold, 0.01 learning_rate, 5120 batch_size; final stats are:\n",
    "# - loss: 0.0513 - binary_accuracy: 0.9830 - precision: 0.6751 - recall: 0.3443 - auc: 0.9443\n",
    "\n",
    "# For 40 Epochs, 0.47 threshold, 0.01 learning_rate, 5120 batch_size; final stats are:\n",
    "# - loss: 0.0473 - binary_accuracy: 0.9839 - precision: 0.6966 - recall: 0.3980 - auc: 0.9531 *****\n",
    "\n",
    "# For 50 Epochs, 0.47 threshold, 0.01 learning_rate, 512 batch_size; final stats are:\n",
    "# - loss: 0.0497 - binary_accuracy: 0.9836 - precision: 0.6902 - recall: 0.3776 - auc: 0.9463\n",
    "\n",
    "# For 10 Epochs, 0.47 threshold, 0.01 learning_rate, 5120 batch_size, 0.2 validation_split; final stats are:\n",
    "#  loss: 0.0572 - binary_accuracy: 0.9812 - precision: 0.6525 - recall: 0.3176 - auc: 0.9369 - f1_score: 0.1624 - val_loss: 0.0480 - val_binary_accuracy: 0.9850 - val_precision: 0.5081 - val_recall: 0.3195 - val_auc: 0.9178 - val_f1_score: 0.1453\n",
    "\n",
    "# For 10 Epochs, 0.47 threshold, 0.01 learning_rate, 1024 batch_size, 0.2 validation_split, with 2x Dropout layers; final stats are:\n",
    "# - loss: 0.0621 - binary_accuracy: 0.9803 - precision: 0.6304 - recall: 0.2644 - auc: 0.9235 - f1_score: 0.0948 - val_loss: 0.0511 - val_binary_accuracy: 0.9843 - val_precision: 0.4735 - val_recall: 0.2997 - val_auc: 0.9239 - val_f1_score: 0.1050\n",
    "\n",
    "# For 50 Epochs, 0.47 threshold, 0.01 learning_rate, 5120 batch_size; final stats are:\n",
    "# - loss: 0.0466 - binary_accuracy: 0.9838 - precision: 0.7159 - recall: 0.4452 - auc: 0.9594 - f1_score: 0.3013 - val_loss: 0.0491 - val_binary_accuracy: 0.9847 - val_precision: 0.4950 - val_recall: 0.3826 - val_auc: 0.9118 - val_f1_score: 0.2135\n",
    "\n"
   ]
  },
  {
   "cell_type": "code",
   "execution_count": 18,
   "id": "63ef757e",
   "metadata": {
    "execution": {
     "iopub.execute_input": "2023-06-01T07:15:07.598201Z",
     "iopub.status.busy": "2023-06-01T07:15:07.597437Z",
     "iopub.status.idle": "2023-06-01T07:15:07.602120Z",
     "shell.execute_reply": "2023-06-01T07:15:07.601283Z"
    },
    "papermill": {
     "duration": 0.153293,
     "end_time": "2023-06-01T07:15:07.604609",
     "exception": false,
     "start_time": "2023-06-01T07:15:07.451316",
     "status": "completed"
    },
    "tags": []
   },
   "outputs": [],
   "source": [
    "## WORK IN PROGRESS - NOTES\n",
    "\n",
    "# Tried:\n",
    "# - adding metric tf.keras.metrics.F1Score() => not stably implemented in Keras yet (although is in nightly build...)\n",
    "# - adding metric tf.keras.metrics.MeanIoU(), which I think is equivalent to Jaccard index (?) => slowed down training and gave the same value for each Epoch (no improvement through training)\n",
    "\n",
    "# Still to try:\n",
    "# - different classification_thresholds (started doing this...)\n",
    "# - different numbers of layers & nodes\n",
    "# - regularization and/or dropout layers\n",
    "# - \n",
    "\n"
   ]
  },
  {
   "cell_type": "markdown",
   "id": "a04e2308",
   "metadata": {
    "papermill": {
     "duration": 0.14603,
     "end_time": "2023-06-01T07:15:07.895204",
     "exception": false,
     "start_time": "2023-06-01T07:15:07.749174",
     "status": "completed"
    },
    "tags": []
   },
   "source": [
    "### Plot the model's loss and accuracy for each epoch\n"
   ]
  },
  {
   "cell_type": "code",
   "execution_count": 19,
   "id": "6bfa511b",
   "metadata": {
    "execution": {
     "iopub.execute_input": "2023-06-01T07:15:08.192678Z",
     "iopub.status.busy": "2023-06-01T07:15:08.192004Z",
     "iopub.status.idle": "2023-06-01T07:15:08.200050Z",
     "shell.execute_reply": "2023-06-01T07:15:08.198802Z"
    },
    "papermill": {
     "duration": 0.160429,
     "end_time": "2023-06-01T07:15:08.202312",
     "exception": false,
     "start_time": "2023-06-01T07:15:08.041883",
     "status": "completed"
    },
    "tags": []
   },
   "outputs": [
    {
     "name": "stdout",
     "output_type": "stream",
     "text": [
      "Defined the plot_curve function.\n"
     ]
    }
   ],
   "source": [
    "# Define the plotting function.\n",
    "def plot_curve(epochs, hist, list_of_metrics):\n",
    "    \"\"\"Plot a curve of one or more classification metrics vs. epoch.\"\"\"  \n",
    "    # list_of_metrics should be one of the names shown in:\n",
    "    # https://www.tensorflow.org/tutorials/structured_data/imbalanced_data#define_the_model_and_metrics  \n",
    "\n",
    "    plt.figure()\n",
    "    plt.xlabel(\"Epoch\")\n",
    "    plt.ylabel(\"Value\")\n",
    "\n",
    "    for m in list_of_metrics:\n",
    "        x = hist[m]\n",
    "        plt.plot(epochs[0:], x[0:], label=m)\n",
    "        \n",
    "    plt.legend()\n",
    "\n",
    "print(\"Defined the plot_curve function.\")"
   ]
  },
  {
   "cell_type": "code",
   "execution_count": 20,
   "id": "9277ad0e",
   "metadata": {
    "execution": {
     "iopub.execute_input": "2023-06-01T07:15:08.495137Z",
     "iopub.status.busy": "2023-06-01T07:15:08.494467Z",
     "iopub.status.idle": "2023-06-01T07:15:08.869094Z",
     "shell.execute_reply": "2023-06-01T07:15:08.868137Z"
    },
    "papermill": {
     "duration": 0.524529,
     "end_time": "2023-06-01T07:15:08.871743",
     "exception": false,
     "start_time": "2023-06-01T07:15:08.347214",
     "status": "completed"
    },
    "tags": []
   },
   "outputs": [
    {
     "data": {
      "image/png": "[encoded data removed]",
      "text/plain": [
       "<Figure size 640x480 with 1 Axes>"
      ]
     },
     "metadata": {},
     "output_type": "display_data"
    }
   ],
   "source": [
    "# Plot a graph of the metric(s) vs. epochs.\n",
    "list_of_metrics_to_plot = ['binary_accuracy', 'precision', 'recall', ] # 'f1_score' \n",
    "\n",
    "plot_curve(epochs, history_df, list_of_metrics_to_plot)"
   ]
  },
  {
   "cell_type": "code",
   "execution_count": 21,
   "id": "6155d8a0",
   "metadata": {
    "execution": {
     "iopub.execute_input": "2023-06-01T07:15:09.166076Z",
     "iopub.status.busy": "2023-06-01T07:15:09.165607Z",
     "iopub.status.idle": "2023-06-01T07:15:09.478768Z",
     "shell.execute_reply": "2023-06-01T07:15:09.477686Z"
    },
    "papermill": {
     "duration": 0.462158,
     "end_time": "2023-06-01T07:15:09.481468",
     "exception": false,
     "start_time": "2023-06-01T07:15:09.019310",
     "status": "completed"
    },
    "tags": []
   },
   "outputs": [
    {
     "data": {
      "image/png": "[encoded data removed]",
      "text/plain": [
       "<Figure size 640x480 with 1 Axes>"
      ]
     },
     "metadata": {},
     "output_type": "display_data"
    }
   ],
   "source": [
    "# Plot a graph of the Area under the curve (AUC) of the Receiver Operating Characteristic (ROC) vs. epochs.\n",
    "list_of_metrics_to_plot = ['auc'] \n",
    "\n",
    "plot_curve(epochs, history_df, list_of_metrics_to_plot)"
   ]
  },
  {
   "cell_type": "markdown",
   "id": "c43ddccd",
   "metadata": {
    "execution": {
     "iopub.execute_input": "2023-05-31T00:29:52.536653Z",
     "iopub.status.busy": "2023-05-31T00:29:52.536269Z",
     "iopub.status.idle": "2023-05-31T00:29:52.542364Z",
     "shell.execute_reply": "2023-05-31T00:29:52.540801Z",
     "shell.execute_reply.started": "2023-05-31T00:29:52.536626Z"
    },
    "papermill": {
     "duration": 0.145056,
     "end_time": "2023-06-01T07:15:09.849404",
     "exception": false,
     "start_time": "2023-06-01T07:15:09.704348",
     "status": "completed"
    },
    "tags": []
   },
   "source": [
    "## Submission\n"
   ]
  },
  {
   "cell_type": "markdown",
   "id": "1ea95f2f",
   "metadata": {
    "execution": {
     "iopub.execute_input": "2023-05-31T00:46:21.12188Z",
     "iopub.status.busy": "2023-05-31T00:46:21.121533Z",
     "iopub.status.idle": "2023-05-31T00:46:21.128174Z",
     "shell.execute_reply": "2023-05-31T00:46:21.126523Z",
     "shell.execute_reply.started": "2023-05-31T00:46:21.121852Z"
    },
    "papermill": {
     "duration": 0.149704,
     "end_time": "2023-06-01T07:15:10.147023",
     "exception": false,
     "start_time": "2023-06-01T07:15:09.997319",
     "status": "completed"
    },
    "tags": []
   },
   "source": [
    "For submission we will use the protein embeddings of the test data created by Sergei Fironov using the Rost Lab's T5 protein language model.\n",
    "\n"
   ]
  },
  {
   "cell_type": "code",
   "execution_count": 22,
   "id": "97fee68e",
   "metadata": {
    "execution": {
     "iopub.execute_input": "2023-06-01T07:15:10.444400Z",
     "iopub.status.busy": "2023-06-01T07:15:10.443222Z",
     "iopub.status.idle": "2023-06-01T07:15:23.128920Z",
     "shell.execute_reply": "2023-06-01T07:15:23.126632Z"
    },
    "papermill": {
     "duration": 12.836836,
     "end_time": "2023-06-01T07:15:23.131579",
     "exception": false,
     "start_time": "2023-06-01T07:15:10.294743",
     "status": "completed"
    },
    "tags": []
   },
   "outputs": [
    {
     "name": "stdout",
     "output_type": "stream",
     "text": [
      "(141864, 1280)\n"
     ]
    }
   ],
   "source": [
    "test_embeddings = np.load('/kaggle/input/cafa-5-ems-2-embeddings-numpy/test_embeddings.npy')\n",
    "\n",
    "# Convert test_embeddings to dataframe\n",
    "column_num = test_embeddings.shape[1]\n",
    "test_df = pd.DataFrame(test_embeddings, columns = [\"Column_\" + str(i) for i in range(1, column_num+1)])\n",
    "print(test_df.shape)\n"
   ]
  },
  {
   "cell_type": "markdown",
   "id": "176de41c",
   "metadata": {
    "papermill": {
     "duration": 0.149112,
     "end_time": "2023-06-01T07:15:23.429818",
     "exception": false,
     "start_time": "2023-06-01T07:15:23.280706",
     "status": "completed"
    },
    "tags": []
   },
   "source": [
    "The `test_df` is composed of 1024 columns and 141865 entries. We can see all 1024 dimensions(results will be truncated since column length is too long) of our dataset by printing out the first 5 entries using the following code:"
   ]
  },
  {
   "cell_type": "code",
   "execution_count": 23,
   "id": "bb1e3ca7",
   "metadata": {
    "execution": {
     "iopub.execute_input": "2023-06-01T07:15:23.732171Z",
     "iopub.status.busy": "2023-06-01T07:15:23.731697Z",
     "iopub.status.idle": "2023-06-01T07:15:23.760914Z",
     "shell.execute_reply": "2023-06-01T07:15:23.759659Z"
    },
    "papermill": {
     "duration": 0.181714,
     "end_time": "2023-06-01T07:15:23.763624",
     "exception": false,
     "start_time": "2023-06-01T07:15:23.581910",
     "status": "completed"
    },
    "tags": []
   },
   "outputs": [
    {
     "data": {
      "text/html": [
       "<div>\n",
       "<style scoped>\n",
       "    .dataframe tbody tr th:only-of-type {\n",
       "        vertical-align: middle;\n",
       "    }\n",
       "\n",
       "    .dataframe tbody tr th {\n",
       "        vertical-align: top;\n",
       "    }\n",
       "\n",
       "    .dataframe thead th {\n",
       "        text-align: right;\n",
       "    }\n",
       "</style>\n",
       "<table border=\"1\" class=\"dataframe\">\n",
       "  <thead>\n",
       "    <tr style=\"text-align: right;\">\n",
       "      <th></th>\n",
       "      <th>Column_1</th>\n",
       "      <th>Column_2</th>\n",
       "      <th>Column_3</th>\n",
       "      <th>Column_4</th>\n",
       "      <th>Column_5</th>\n",
       "      <th>Column_6</th>\n",
       "      <th>Column_7</th>\n",
       "      <th>Column_8</th>\n",
       "      <th>Column_9</th>\n",
       "      <th>Column_10</th>\n",
       "      <th>...</th>\n",
       "      <th>Column_1271</th>\n",
       "      <th>Column_1272</th>\n",
       "      <th>Column_1273</th>\n",
       "      <th>Column_1274</th>\n",
       "      <th>Column_1275</th>\n",
       "      <th>Column_1276</th>\n",
       "      <th>Column_1277</th>\n",
       "      <th>Column_1278</th>\n",
       "      <th>Column_1279</th>\n",
       "      <th>Column_1280</th>\n",
       "    </tr>\n",
       "  </thead>\n",
       "  <tbody>\n",
       "    <tr>\n",
       "      <th>0</th>\n",
       "      <td>-0.092291</td>\n",
       "      <td>-0.066284</td>\n",
       "      <td>-0.012262</td>\n",
       "      <td>0.044118</td>\n",
       "      <td>-0.096111</td>\n",
       "      <td>-0.028308</td>\n",
       "      <td>-0.074759</td>\n",
       "      <td>0.100977</td>\n",
       "      <td>0.024241</td>\n",
       "      <td>0.083448</td>\n",
       "      <td>...</td>\n",
       "      <td>0.003669</td>\n",
       "      <td>-0.076738</td>\n",
       "      <td>-0.023574</td>\n",
       "      <td>0.013527</td>\n",
       "      <td>-0.104102</td>\n",
       "      <td>-0.047541</td>\n",
       "      <td>0.043210</td>\n",
       "      <td>-0.160660</td>\n",
       "      <td>0.015920</td>\n",
       "      <td>0.001738</td>\n",
       "    </tr>\n",
       "    <tr>\n",
       "      <th>1</th>\n",
       "      <td>0.011624</td>\n",
       "      <td>-0.030318</td>\n",
       "      <td>-0.005802</td>\n",
       "      <td>0.029026</td>\n",
       "      <td>0.028326</td>\n",
       "      <td>-0.034560</td>\n",
       "      <td>0.003770</td>\n",
       "      <td>-0.081593</td>\n",
       "      <td>-0.050148</td>\n",
       "      <td>-0.007592</td>\n",
       "      <td>...</td>\n",
       "      <td>0.082000</td>\n",
       "      <td>0.007247</td>\n",
       "      <td>-0.062506</td>\n",
       "      <td>0.095455</td>\n",
       "      <td>-0.063068</td>\n",
       "      <td>-0.010131</td>\n",
       "      <td>0.042478</td>\n",
       "      <td>-0.153411</td>\n",
       "      <td>0.006632</td>\n",
       "      <td>0.001425</td>\n",
       "    </tr>\n",
       "    <tr>\n",
       "      <th>2</th>\n",
       "      <td>0.097390</td>\n",
       "      <td>-0.081701</td>\n",
       "      <td>-0.020618</td>\n",
       "      <td>0.094250</td>\n",
       "      <td>-0.139586</td>\n",
       "      <td>-0.134021</td>\n",
       "      <td>0.119044</td>\n",
       "      <td>-0.015649</td>\n",
       "      <td>-0.097181</td>\n",
       "      <td>0.051511</td>\n",
       "      <td>...</td>\n",
       "      <td>0.114983</td>\n",
       "      <td>-0.049459</td>\n",
       "      <td>-0.049249</td>\n",
       "      <td>0.108989</td>\n",
       "      <td>0.042505</td>\n",
       "      <td>-0.056931</td>\n",
       "      <td>-0.079801</td>\n",
       "      <td>-0.117733</td>\n",
       "      <td>0.037977</td>\n",
       "      <td>0.056055</td>\n",
       "    </tr>\n",
       "    <tr>\n",
       "      <th>3</th>\n",
       "      <td>0.072164</td>\n",
       "      <td>-0.020756</td>\n",
       "      <td>0.053845</td>\n",
       "      <td>-0.029447</td>\n",
       "      <td>-0.061754</td>\n",
       "      <td>-0.086873</td>\n",
       "      <td>0.037167</td>\n",
       "      <td>0.010195</td>\n",
       "      <td>0.046053</td>\n",
       "      <td>-0.017594</td>\n",
       "      <td>...</td>\n",
       "      <td>0.099852</td>\n",
       "      <td>0.025191</td>\n",
       "      <td>-0.030697</td>\n",
       "      <td>0.026832</td>\n",
       "      <td>0.025899</td>\n",
       "      <td>-0.005590</td>\n",
       "      <td>0.080776</td>\n",
       "      <td>-0.047982</td>\n",
       "      <td>0.036235</td>\n",
       "      <td>0.084320</td>\n",
       "    </tr>\n",
       "    <tr>\n",
       "      <th>4</th>\n",
       "      <td>0.044914</td>\n",
       "      <td>-0.027644</td>\n",
       "      <td>0.014318</td>\n",
       "      <td>-0.003829</td>\n",
       "      <td>-0.024275</td>\n",
       "      <td>-0.121150</td>\n",
       "      <td>0.061480</td>\n",
       "      <td>-0.137826</td>\n",
       "      <td>0.049714</td>\n",
       "      <td>0.034342</td>\n",
       "      <td>...</td>\n",
       "      <td>-0.016053</td>\n",
       "      <td>-0.049272</td>\n",
       "      <td>-0.034264</td>\n",
       "      <td>-0.050692</td>\n",
       "      <td>0.048096</td>\n",
       "      <td>-0.071397</td>\n",
       "      <td>0.146060</td>\n",
       "      <td>-0.092589</td>\n",
       "      <td>-0.011011</td>\n",
       "      <td>0.014084</td>\n",
       "    </tr>\n",
       "  </tbody>\n",
       "</table>\n",
       "<p>5 rows × 1280 columns</p>\n",
       "</div>"
      ],
      "text/plain": [
       "   Column_1  Column_2  Column_3  Column_4  Column_5  Column_6  Column_7  \\\n",
       "0 -0.092291 -0.066284 -0.012262  0.044118 -0.096111 -0.028308 -0.074759   \n",
       "1  0.011624 -0.030318 -0.005802  0.029026  0.028326 -0.034560  0.003770   \n",
       "2  0.097390 -0.081701 -0.020618  0.094250 -0.139586 -0.134021  0.119044   \n",
       "3  0.072164 -0.020756  0.053845 -0.029447 -0.061754 -0.086873  0.037167   \n",
       "4  0.044914 -0.027644  0.014318 -0.003829 -0.024275 -0.121150  0.061480   \n",
       "\n",
       "   Column_8  Column_9  Column_10  ...  Column_1271  Column_1272  Column_1273  \\\n",
       "0  0.100977  0.024241   0.083448  ...     0.003669    -0.076738    -0.023574   \n",
       "1 -0.081593 -0.050148  -0.007592  ...     0.082000     0.007247    -0.062506   \n",
       "2 -0.015649 -0.097181   0.051511  ...     0.114983    -0.049459    -0.049249   \n",
       "3  0.010195  0.046053  -0.017594  ...     0.099852     0.025191    -0.030697   \n",
       "4 -0.137826  0.049714   0.034342  ...    -0.016053    -0.049272    -0.034264   \n",
       "\n",
       "   Column_1274  Column_1275  Column_1276  Column_1277  Column_1278  \\\n",
       "0     0.013527    -0.104102    -0.047541     0.043210    -0.160660   \n",
       "1     0.095455    -0.063068    -0.010131     0.042478    -0.153411   \n",
       "2     0.108989     0.042505    -0.056931    -0.079801    -0.117733   \n",
       "3     0.026832     0.025899    -0.005590     0.080776    -0.047982   \n",
       "4    -0.050692     0.048096    -0.071397     0.146060    -0.092589   \n",
       "\n",
       "   Column_1279  Column_1280  \n",
       "0     0.015920     0.001738  \n",
       "1     0.006632     0.001425  \n",
       "2     0.037977     0.056055  \n",
       "3     0.036235     0.084320  \n",
       "4    -0.011011     0.014084  \n",
       "\n",
       "[5 rows x 1280 columns]"
      ]
     },
     "execution_count": 23,
     "metadata": {},
     "output_type": "execute_result"
    }
   ],
   "source": [
    "test_df.head()\n"
   ]
  },
  {
   "cell_type": "markdown",
   "id": "9ae93272",
   "metadata": {
    "papermill": {
     "duration": 0.16386,
     "end_time": "2023-06-01T07:15:24.096227",
     "exception": false,
     "start_time": "2023-06-01T07:15:23.932367",
     "status": "completed"
    },
    "tags": []
   },
   "source": [
    "Use the model to make predictions on the test embeddings:"
   ]
  },
  {
   "cell_type": "code",
   "execution_count": 24,
   "id": "437f49b6",
   "metadata": {
    "execution": {
     "iopub.execute_input": "2023-06-01T07:15:24.422031Z",
     "iopub.status.busy": "2023-06-01T07:15:24.421133Z",
     "iopub.status.idle": "2023-06-01T07:15:53.413600Z",
     "shell.execute_reply": "2023-06-01T07:15:53.412272Z"
    },
    "papermill": {
     "duration": 29.160102,
     "end_time": "2023-06-01T07:15:53.416295",
     "exception": false,
     "start_time": "2023-06-01T07:15:24.256193",
     "status": "completed"
    },
    "tags": []
   },
   "outputs": [
    {
     "name": "stdout",
     "output_type": "stream",
     "text": [
      "4434/4434 [==============================] - 24s 5ms/step\n"
     ]
    }
   ],
   "source": [
    "predictions =  model.predict(test_df)"
   ]
  },
  {
   "cell_type": "markdown",
   "id": "c212c1a2",
   "metadata": {
    "papermill": {
     "duration": 0.18551,
     "end_time": "2023-06-01T07:15:53.791578",
     "exception": false,
     "start_time": "2023-06-01T07:15:53.606068",
     "status": "completed"
    },
    "tags": []
   },
   "source": [
    "From the predictions we will create the submission dataframe.\n",
    "\n",
    "Note: This will take at least 15 to 20 minutes to finish."
   ]
  },
  {
   "cell_type": "code",
   "execution_count": 25,
   "id": "879a4443",
   "metadata": {
    "execution": {
     "iopub.execute_input": "2023-06-01T07:15:54.173264Z",
     "iopub.status.busy": "2023-06-01T07:15:54.172807Z",
     "iopub.status.idle": "2023-06-01T07:34:12.319929Z",
     "shell.execute_reply": "2023-06-01T07:34:12.317966Z"
    },
    "papermill": {
     "duration": 1098.344071,
     "end_time": "2023-06-01T07:34:12.324867",
     "exception": false,
     "start_time": "2023-06-01T07:15:53.980796",
     "status": "completed"
    },
    "tags": []
   },
   "outputs": [],
   "source": [
    "# Reference: https://www.kaggle.com/code/alexandervc/baseline-multilabel-to-multitarget-binary\n",
    "\n",
    "df_submission = pd.DataFrame(columns=['Protein Id', 'GO Term Id', 'Prediction'])\n",
    "# Create an empty DataFrame 'df_submission' with columns named 'Protein Id', 'GO Term Id', and 'Prediction'.\n",
    "# The DataFrame will be used to store the submission data.\n",
    "\n",
    "test_protein_ids = np.load('/kaggle/input/cafa-5-ems-2-embeddings-numpy/test_ids.npy')\n",
    "# Load the test protein IDs from the specified file path using 'np.load()'.\n",
    "\n",
    "l = []\n",
    "for k in list(test_protein_ids):\n",
    "    l += [k] * predictions.shape[1]\n",
    "# Create a list 'l' that repeats each test protein ID 'predictions.shape[1]' times.\n",
    "# This is done to match the number of predictions per protein in the 'predictions' array.\n",
    "\n",
    "df_submission['Protein Id'] = l\n",
    "# Assign the list 'l' as the values for the 'Protein Id' column in the 'df_submission' DataFrame.\n",
    "\n",
    "df_submission['GO Term Id'] = labels_to_consider * predictions.shape[0]\n",
    "# Repeat the 'labels' list 'predictions.shape[0]' times and assign it as the values for the 'GO Term Id' column in 'df_submission'.\n",
    "\n",
    "df_submission['Prediction'] = predictions.ravel()\n",
    "# Flatten the 'predictions' array into a 1-dimensional array and assign it as the values for the 'Prediction' column in 'df_submission'.\n",
    "\n",
    "df_submission.to_csv(\"submission.tsv\", header=False, index=False, sep=\"\\t\")\n",
    "# Save the 'df_submission' DataFrame as a TSV file named \"submission.tsv\".\n",
    "# The 'header=False' parameter ensures that the column names are not included in the output file.\n",
    "# The 'index=False' parameter excludes the index column from the output file.\n",
    "# The 'sep=\"\\t\"' parameter sets the delimiter to a tab character for TSV format."
   ]
  },
  {
   "cell_type": "code",
   "execution_count": 26,
   "id": "17d9d921",
   "metadata": {
    "execution": {
     "iopub.execute_input": "2023-06-01T07:34:12.708682Z",
     "iopub.status.busy": "2023-06-01T07:34:12.708252Z",
     "iopub.status.idle": "2023-06-01T07:34:12.727260Z",
     "shell.execute_reply": "2023-06-01T07:34:12.726056Z"
    },
    "papermill": {
     "duration": 0.2113,
     "end_time": "2023-06-01T07:34:12.729730",
     "exception": false,
     "start_time": "2023-06-01T07:34:12.518430",
     "status": "completed"
    },
    "tags": []
   },
   "outputs": [
    {
     "data": {
      "text/html": [
       "<div>\n",
       "<style scoped>\n",
       "    .dataframe tbody tr th:only-of-type {\n",
       "        vertical-align: middle;\n",
       "    }\n",
       "\n",
       "    .dataframe tbody tr th {\n",
       "        vertical-align: top;\n",
       "    }\n",
       "\n",
       "    .dataframe thead th {\n",
       "        text-align: right;\n",
       "    }\n",
       "</style>\n",
       "<table border=\"1\" class=\"dataframe\">\n",
       "  <thead>\n",
       "    <tr style=\"text-align: right;\">\n",
       "      <th></th>\n",
       "      <th>Protein Id</th>\n",
       "      <th>GO Term Id</th>\n",
       "      <th>Prediction</th>\n",
       "    </tr>\n",
       "  </thead>\n",
       "  <tbody>\n",
       "    <tr>\n",
       "      <th>0</th>\n",
       "      <td>Q9ZSA8</td>\n",
       "      <td>GO:0005575</td>\n",
       "      <td>2.018083e-01</td>\n",
       "    </tr>\n",
       "    <tr>\n",
       "      <th>1</th>\n",
       "      <td>Q9ZSA8</td>\n",
       "      <td>GO:0008150</td>\n",
       "      <td>9.062964e-01</td>\n",
       "    </tr>\n",
       "    <tr>\n",
       "      <th>2</th>\n",
       "      <td>Q9ZSA8</td>\n",
       "      <td>GO:0110165</td>\n",
       "      <td>1.764087e-01</td>\n",
       "    </tr>\n",
       "    <tr>\n",
       "      <th>3</th>\n",
       "      <td>Q9ZSA8</td>\n",
       "      <td>GO:0003674</td>\n",
       "      <td>8.063220e-01</td>\n",
       "    </tr>\n",
       "    <tr>\n",
       "      <th>4</th>\n",
       "      <td>Q9ZSA8</td>\n",
       "      <td>GO:0005622</td>\n",
       "      <td>1.279683e-01</td>\n",
       "    </tr>\n",
       "    <tr>\n",
       "      <th>...</th>\n",
       "      <td>...</td>\n",
       "      <td>...</td>\n",
       "      <td>...</td>\n",
       "    </tr>\n",
       "    <tr>\n",
       "      <th>212654131</th>\n",
       "      <td>P0AG74</td>\n",
       "      <td>GO:0045861</td>\n",
       "      <td>3.175500e-07</td>\n",
       "    </tr>\n",
       "    <tr>\n",
       "      <th>212654132</th>\n",
       "      <td>P0AG74</td>\n",
       "      <td>GO:0051783</td>\n",
       "      <td>3.951261e-08</td>\n",
       "    </tr>\n",
       "    <tr>\n",
       "      <th>212654133</th>\n",
       "      <td>P0AG74</td>\n",
       "      <td>GO:0031674</td>\n",
       "      <td>8.905711e-12</td>\n",
       "    </tr>\n",
       "    <tr>\n",
       "      <th>212654134</th>\n",
       "      <td>P0AG74</td>\n",
       "      <td>GO:0001818</td>\n",
       "      <td>1.852350e-07</td>\n",
       "    </tr>\n",
       "    <tr>\n",
       "      <th>212654135</th>\n",
       "      <td>P0AG74</td>\n",
       "      <td>GO:0006874</td>\n",
       "      <td>1.088196e-10</td>\n",
       "    </tr>\n",
       "  </tbody>\n",
       "</table>\n",
       "<p>212654136 rows × 3 columns</p>\n",
       "</div>"
      ],
      "text/plain": [
       "          Protein Id  GO Term Id    Prediction\n",
       "0             Q9ZSA8  GO:0005575  2.018083e-01\n",
       "1             Q9ZSA8  GO:0008150  9.062964e-01\n",
       "2             Q9ZSA8  GO:0110165  1.764087e-01\n",
       "3             Q9ZSA8  GO:0003674  8.063220e-01\n",
       "4             Q9ZSA8  GO:0005622  1.279683e-01\n",
       "...              ...         ...           ...\n",
       "212654131     P0AG74  GO:0045861  3.175500e-07\n",
       "212654132     P0AG74  GO:0051783  3.951261e-08\n",
       "212654133     P0AG74  GO:0031674  8.905711e-12\n",
       "212654134     P0AG74  GO:0001818  1.852350e-07\n",
       "212654135     P0AG74  GO:0006874  1.088196e-10\n",
       "\n",
       "[212654136 rows x 3 columns]"
      ]
     },
     "execution_count": 26,
     "metadata": {},
     "output_type": "execute_result"
    }
   ],
   "source": [
    "df_submission"
   ]
  },
  {
   "cell_type": "code",
   "execution_count": null,
   "id": "80f02d10",
   "metadata": {
    "papermill": {
     "duration": 0.184596,
     "end_time": "2023-06-01T07:34:13.103194",
     "exception": false,
     "start_time": "2023-06-01T07:34:12.918598",
     "status": "completed"
    },
    "tags": []
   },
   "outputs": [],
   "source": []
  }
 ],
 "metadata": {
  "kernelspec": {
   "display_name": "Python 3",
   "language": "python",
   "name": "python3"
  },
  "language_info": {
   "codemirror_mode": {
    "name": "ipython",
    "version": 3
   },
   "file_extension": ".py",
   "mimetype": "text/x-python",
   "name": "python",
   "nbconvert_exporter": "python",
   "pygments_lexer": "ipython3",
   "version": "3.10.10"
  },
  "papermill": {
   "default_parameters": {},
   "duration": 3922.174623,
   "end_time": "2023-06-01T07:34:16.729764",
   "environment_variables": {},
   "exception": null,
   "input_path": "__notebook__.ipynb",
   "output_path": "__notebook__.ipynb",
   "parameters": {},
   "start_time": "2023-06-01T06:28:54.555141",
   "version": "2.4.0"
  }
 },
 "nbformat": 4,
 "nbformat_minor": 5
}
